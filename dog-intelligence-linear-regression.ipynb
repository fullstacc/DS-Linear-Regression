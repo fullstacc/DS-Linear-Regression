{
 "cells": [
  {
   "cell_type": "markdown",
   "id": "aa401362",
   "metadata": {
    "execution": {
     "iopub.execute_input": "2023-02-01T13:45:49.380694Z",
     "iopub.status.busy": "2023-02-01T13:45:49.380184Z",
     "iopub.status.idle": "2023-02-01T13:45:49.428453Z",
     "shell.execute_reply": "2023-02-01T13:45:49.427095Z",
     "shell.execute_reply.started": "2023-02-01T13:45:49.380650Z"
    },
    "papermill": {
     "duration": 0.008375,
     "end_time": "2023-02-07T18:18:55.330747",
     "exception": false,
     "start_time": "2023-02-07T18:18:55.322372",
     "status": "completed"
    },
    "tags": []
   },
   "source": [
    "# Using Linear Regression to Predict Canine Intelligence\n",
    "This notebook utilizes the dog intelligence dataset hosted on Kaggle and provided by the American Kennel Club in order to estimate dog intelligence using a linear regression model."
   ]
  },
  {
   "cell_type": "code",
   "execution_count": 1,
   "id": "c3f90837",
   "metadata": {
    "_cell_guid": "b1076dfc-b9ad-4769-8c92-a6c4dae69d19",
    "_uuid": "8f2839f25d086af736a60e9eeb907d3b93b6e0e5",
    "execution": {
     "iopub.execute_input": "2023-02-07T18:18:55.348710Z",
     "iopub.status.busy": "2023-02-07T18:18:55.347681Z",
     "iopub.status.idle": "2023-02-07T18:18:55.376170Z",
     "shell.execute_reply": "2023-02-07T18:18:55.374874Z"
    },
    "papermill": {
     "duration": 0.041413,
     "end_time": "2023-02-07T18:18:55.379770",
     "exception": false,
     "start_time": "2023-02-07T18:18:55.338357",
     "status": "completed"
    },
    "tags": []
   },
   "outputs": [
    {
     "name": "stdout",
     "output_type": "stream",
     "text": [
      "/kaggle/input/canine-intelligence-and-size/AKC Breed Info.csv\n",
      "/kaggle/input/canine-intelligence-and-size/dog_intelligence.csv\n"
     ]
    }
   ],
   "source": [
    "# This Python 3 environment comes with many helpful analytics libraries installed\n",
    "# It is defined by the kaggle/python Docker image: https://github.com/kaggle/docker-python\n",
    "# For example, here's several helpful packages to load\n",
    "\n",
    "import numpy as np # linear algebra\n",
    "import pandas as pd # data processing, CSV file I/O (e.g. pd.read_csv)\n",
    "\n",
    "# Input data files are available in the read-only \"../input/\" directory\n",
    "# For example, running this (by clicking run or pressing Shift+Enter) will list all files under the input directory\n",
    "\n",
    "import os\n",
    "for dirname, _, filenames in os.walk('/kaggle/input'):\n",
    "    for filename in filenames:\n",
    "        print(os.path.join(dirname, filename))\n",
    "\n",
    "# You can write up to 20GB to the current directory (/kaggle/working/) that gets preserved as output when you create a version using \"Save & Run All\" \n",
    "# You can also write temporary files to /kaggle/temp/, but they won't be saved outside of the current session"
   ]
  },
  {
   "cell_type": "markdown",
   "id": "190e0f35",
   "metadata": {
    "papermill": {
     "duration": 0.00726,
     "end_time": "2023-02-07T18:18:55.395821",
     "exception": false,
     "start_time": "2023-02-07T18:18:55.388561",
     "status": "completed"
    },
    "tags": []
   },
   "source": [
    "## Data Loading"
   ]
  },
  {
   "cell_type": "code",
   "execution_count": 2,
   "id": "5e2003e2",
   "metadata": {
    "execution": {
     "iopub.execute_input": "2023-02-07T18:18:55.413674Z",
     "iopub.status.busy": "2023-02-07T18:18:55.412698Z",
     "iopub.status.idle": "2023-02-07T18:18:55.440570Z",
     "shell.execute_reply": "2023-02-07T18:18:55.439435Z"
    },
    "papermill": {
     "duration": 0.039507,
     "end_time": "2023-02-07T18:18:55.443383",
     "exception": false,
     "start_time": "2023-02-07T18:18:55.403876",
     "status": "completed"
    },
    "tags": []
   },
   "outputs": [],
   "source": [
    "# load data\n",
    "breed_info = pd.read_csv('/kaggle/input/canine-intelligence-and-size/AKC Breed Info.csv')\n",
    "dog_intel = pd.read_csv('/kaggle/input/canine-intelligence-and-size/dog_intelligence.csv')"
   ]
  },
  {
   "cell_type": "markdown",
   "id": "34b72096",
   "metadata": {
    "papermill": {
     "duration": 0.00831,
     "end_time": "2023-02-07T18:18:55.459483",
     "exception": false,
     "start_time": "2023-02-07T18:18:55.451173",
     "status": "completed"
    },
    "tags": []
   },
   "source": [
    "## Data Cleaning & Exploratory Data Analysis (EDA)"
   ]
  },
  {
   "cell_type": "code",
   "execution_count": 3,
   "id": "bd24f893",
   "metadata": {
    "execution": {
     "iopub.execute_input": "2023-02-07T18:18:55.478097Z",
     "iopub.status.busy": "2023-02-07T18:18:55.477204Z",
     "iopub.status.idle": "2023-02-07T18:18:55.502788Z",
     "shell.execute_reply": "2023-02-07T18:18:55.501868Z"
    },
    "papermill": {
     "duration": 0.037891,
     "end_time": "2023-02-07T18:18:55.505324",
     "exception": false,
     "start_time": "2023-02-07T18:18:55.467433",
     "status": "completed"
    },
    "tags": []
   },
   "outputs": [
    {
     "data": {
      "text/html": [
       "<div>\n",
       "<style scoped>\n",
       "    .dataframe tbody tr th:only-of-type {\n",
       "        vertical-align: middle;\n",
       "    }\n",
       "\n",
       "    .dataframe tbody tr th {\n",
       "        vertical-align: top;\n",
       "    }\n",
       "\n",
       "    .dataframe thead th {\n",
       "        text-align: right;\n",
       "    }\n",
       "</style>\n",
       "<table border=\"1\" class=\"dataframe\">\n",
       "  <thead>\n",
       "    <tr style=\"text-align: right;\">\n",
       "      <th></th>\n",
       "      <th>index</th>\n",
       "      <th>Breed</th>\n",
       "      <th>height_low_inches</th>\n",
       "      <th>height_high_inches</th>\n",
       "      <th>weight_low_lbs</th>\n",
       "      <th>weight_high_lbs</th>\n",
       "    </tr>\n",
       "  </thead>\n",
       "  <tbody>\n",
       "    <tr>\n",
       "      <th>0</th>\n",
       "      <td>0</td>\n",
       "      <td>Akita</td>\n",
       "      <td>26</td>\n",
       "      <td>28</td>\n",
       "      <td>80</td>\n",
       "      <td>120</td>\n",
       "    </tr>\n",
       "    <tr>\n",
       "      <th>1</th>\n",
       "      <td>1</td>\n",
       "      <td>Anatolian Sheepdog</td>\n",
       "      <td>27</td>\n",
       "      <td>29</td>\n",
       "      <td>100</td>\n",
       "      <td>150</td>\n",
       "    </tr>\n",
       "    <tr>\n",
       "      <th>2</th>\n",
       "      <td>2</td>\n",
       "      <td>Bernese Mountain Dog</td>\n",
       "      <td>23</td>\n",
       "      <td>27</td>\n",
       "      <td>85</td>\n",
       "      <td>110</td>\n",
       "    </tr>\n",
       "    <tr>\n",
       "      <th>3</th>\n",
       "      <td>3</td>\n",
       "      <td>Bloodhound</td>\n",
       "      <td>24</td>\n",
       "      <td>26</td>\n",
       "      <td>80</td>\n",
       "      <td>120</td>\n",
       "    </tr>\n",
       "    <tr>\n",
       "      <th>4</th>\n",
       "      <td>4</td>\n",
       "      <td>Borzoi</td>\n",
       "      <td>26</td>\n",
       "      <td>28</td>\n",
       "      <td>70</td>\n",
       "      <td>100</td>\n",
       "    </tr>\n",
       "  </tbody>\n",
       "</table>\n",
       "</div>"
      ],
      "text/plain": [
       "   index                 Breed height_low_inches height_high_inches  \\\n",
       "0      0                 Akita                26                 28   \n",
       "1      1    Anatolian Sheepdog                27                 29   \n",
       "2      2  Bernese Mountain Dog                23                 27   \n",
       "3      3            Bloodhound                24                 26   \n",
       "4      4                Borzoi                26                 28   \n",
       "\n",
       "  weight_low_lbs weight_high_lbs  \n",
       "0             80             120  \n",
       "1            100             150  \n",
       "2             85             110  \n",
       "3             80             120  \n",
       "4             70             100  "
      ]
     },
     "execution_count": 3,
     "metadata": {},
     "output_type": "execute_result"
    }
   ],
   "source": [
    "# Dog Breed Info\n",
    "breed_info.head()"
   ]
  },
  {
   "cell_type": "code",
   "execution_count": 4,
   "id": "3593c9e6",
   "metadata": {
    "execution": {
     "iopub.execute_input": "2023-02-07T18:18:55.523448Z",
     "iopub.status.busy": "2023-02-07T18:18:55.522498Z",
     "iopub.status.idle": "2023-02-07T18:18:55.530126Z",
     "shell.execute_reply": "2023-02-07T18:18:55.528829Z"
    },
    "papermill": {
     "duration": 0.019446,
     "end_time": "2023-02-07T18:18:55.532667",
     "exception": false,
     "start_time": "2023-02-07T18:18:55.513221",
     "status": "completed"
    },
    "tags": []
   },
   "outputs": [
    {
     "data": {
      "text/plain": [
       "(150, 6)"
      ]
     },
     "execution_count": 4,
     "metadata": {},
     "output_type": "execute_result"
    }
   ],
   "source": [
    "breed_info.shape"
   ]
  },
  {
   "cell_type": "code",
   "execution_count": 5,
   "id": "f4b93fd7",
   "metadata": {
    "execution": {
     "iopub.execute_input": "2023-02-07T18:18:55.551182Z",
     "iopub.status.busy": "2023-02-07T18:18:55.550715Z",
     "iopub.status.idle": "2023-02-07T18:18:55.559639Z",
     "shell.execute_reply": "2023-02-07T18:18:55.558560Z"
    },
    "papermill": {
     "duration": 0.021418,
     "end_time": "2023-02-07T18:18:55.561846",
     "exception": false,
     "start_time": "2023-02-07T18:18:55.540428",
     "status": "completed"
    },
    "tags": []
   },
   "outputs": [
    {
     "data": {
      "text/plain": [
       "index                  int64\n",
       "Breed                 object\n",
       "height_low_inches     object\n",
       "height_high_inches    object\n",
       "weight_low_lbs        object\n",
       "weight_high_lbs       object\n",
       "dtype: object"
      ]
     },
     "execution_count": 5,
     "metadata": {},
     "output_type": "execute_result"
    }
   ],
   "source": [
    "breed_info.dtypes"
   ]
  },
  {
   "cell_type": "markdown",
   "id": "a3de3ca1",
   "metadata": {
    "papermill": {
     "duration": 0.007539,
     "end_time": "2023-02-07T18:18:55.577758",
     "exception": false,
     "start_time": "2023-02-07T18:18:55.570219",
     "status": "completed"
    },
    "tags": []
   },
   "source": [
    "---"
   ]
  },
  {
   "cell_type": "code",
   "execution_count": 6,
   "id": "79f73edb",
   "metadata": {
    "execution": {
     "iopub.execute_input": "2023-02-07T18:18:55.595802Z",
     "iopub.status.busy": "2023-02-07T18:18:55.595124Z",
     "iopub.status.idle": "2023-02-07T18:18:55.606594Z",
     "shell.execute_reply": "2023-02-07T18:18:55.605653Z"
    },
    "papermill": {
     "duration": 0.023193,
     "end_time": "2023-02-07T18:18:55.608881",
     "exception": false,
     "start_time": "2023-02-07T18:18:55.585688",
     "status": "completed"
    },
    "tags": []
   },
   "outputs": [
    {
     "data": {
      "text/html": [
       "<div>\n",
       "<style scoped>\n",
       "    .dataframe tbody tr th:only-of-type {\n",
       "        vertical-align: middle;\n",
       "    }\n",
       "\n",
       "    .dataframe tbody tr th {\n",
       "        vertical-align: top;\n",
       "    }\n",
       "\n",
       "    .dataframe thead th {\n",
       "        text-align: right;\n",
       "    }\n",
       "</style>\n",
       "<table border=\"1\" class=\"dataframe\">\n",
       "  <thead>\n",
       "    <tr style=\"text-align: right;\">\n",
       "      <th></th>\n",
       "      <th>index</th>\n",
       "      <th>Breed</th>\n",
       "      <th>Classification</th>\n",
       "      <th>obey</th>\n",
       "      <th>reps_lower</th>\n",
       "      <th>reps_upper</th>\n",
       "    </tr>\n",
       "  </thead>\n",
       "  <tbody>\n",
       "    <tr>\n",
       "      <th>0</th>\n",
       "      <td>0</td>\n",
       "      <td>Border Collie</td>\n",
       "      <td>Brightest Dogs</td>\n",
       "      <td>95%</td>\n",
       "      <td>1</td>\n",
       "      <td>4</td>\n",
       "    </tr>\n",
       "    <tr>\n",
       "      <th>1</th>\n",
       "      <td>1</td>\n",
       "      <td>Poodle</td>\n",
       "      <td>Brightest Dogs</td>\n",
       "      <td>95%</td>\n",
       "      <td>1</td>\n",
       "      <td>4</td>\n",
       "    </tr>\n",
       "    <tr>\n",
       "      <th>2</th>\n",
       "      <td>2</td>\n",
       "      <td>German Shepherd</td>\n",
       "      <td>Brightest Dogs</td>\n",
       "      <td>95%</td>\n",
       "      <td>1</td>\n",
       "      <td>4</td>\n",
       "    </tr>\n",
       "    <tr>\n",
       "      <th>3</th>\n",
       "      <td>3</td>\n",
       "      <td>Golden Retriever</td>\n",
       "      <td>Brightest Dogs</td>\n",
       "      <td>95%</td>\n",
       "      <td>1</td>\n",
       "      <td>4</td>\n",
       "    </tr>\n",
       "    <tr>\n",
       "      <th>4</th>\n",
       "      <td>4</td>\n",
       "      <td>Doberman Pinscher</td>\n",
       "      <td>Brightest Dogs</td>\n",
       "      <td>95%</td>\n",
       "      <td>1</td>\n",
       "      <td>4</td>\n",
       "    </tr>\n",
       "  </tbody>\n",
       "</table>\n",
       "</div>"
      ],
      "text/plain": [
       "   index              Breed  Classification obey  reps_lower  reps_upper\n",
       "0      0      Border Collie  Brightest Dogs  95%           1           4\n",
       "1      1             Poodle  Brightest Dogs  95%           1           4\n",
       "2      2    German Shepherd  Brightest Dogs  95%           1           4\n",
       "3      3   Golden Retriever  Brightest Dogs  95%           1           4\n",
       "4      4  Doberman Pinscher  Brightest Dogs  95%           1           4"
      ]
     },
     "execution_count": 6,
     "metadata": {},
     "output_type": "execute_result"
    }
   ],
   "source": [
    "# Dog Intelligence\n",
    "dog_intel.head()"
   ]
  },
  {
   "cell_type": "code",
   "execution_count": 7,
   "id": "47b920f2",
   "metadata": {
    "execution": {
     "iopub.execute_input": "2023-02-07T18:18:55.627247Z",
     "iopub.status.busy": "2023-02-07T18:18:55.626577Z",
     "iopub.status.idle": "2023-02-07T18:18:55.633205Z",
     "shell.execute_reply": "2023-02-07T18:18:55.632035Z"
    },
    "papermill": {
     "duration": 0.018949,
     "end_time": "2023-02-07T18:18:55.635851",
     "exception": false,
     "start_time": "2023-02-07T18:18:55.616902",
     "status": "completed"
    },
    "tags": []
   },
   "outputs": [
    {
     "data": {
      "text/plain": [
       "(150, 6)"
      ]
     },
     "execution_count": 7,
     "metadata": {},
     "output_type": "execute_result"
    }
   ],
   "source": [
    "breed_info.shape"
   ]
  },
  {
   "cell_type": "code",
   "execution_count": 8,
   "id": "7622b150",
   "metadata": {
    "execution": {
     "iopub.execute_input": "2023-02-07T18:18:55.653904Z",
     "iopub.status.busy": "2023-02-07T18:18:55.653372Z",
     "iopub.status.idle": "2023-02-07T18:18:55.662390Z",
     "shell.execute_reply": "2023-02-07T18:18:55.661561Z"
    },
    "papermill": {
     "duration": 0.020423,
     "end_time": "2023-02-07T18:18:55.664467",
     "exception": false,
     "start_time": "2023-02-07T18:18:55.644044",
     "status": "completed"
    },
    "tags": []
   },
   "outputs": [
    {
     "data": {
      "text/plain": [
       "index              int64\n",
       "Breed             object\n",
       "Classification    object\n",
       "obey              object\n",
       "reps_lower         int64\n",
       "reps_upper         int64\n",
       "dtype: object"
      ]
     },
     "execution_count": 8,
     "metadata": {},
     "output_type": "execute_result"
    }
   ],
   "source": [
    "dog_intel.dtypes"
   ]
  },
  {
   "cell_type": "code",
   "execution_count": 9,
   "id": "06b0170a",
   "metadata": {
    "execution": {
     "iopub.execute_input": "2023-02-07T18:18:55.683070Z",
     "iopub.status.busy": "2023-02-07T18:18:55.682411Z",
     "iopub.status.idle": "2023-02-07T18:18:55.686423Z",
     "shell.execute_reply": "2023-02-07T18:18:55.685392Z"
    },
    "papermill": {
     "duration": 0.016062,
     "end_time": "2023-02-07T18:18:55.688753",
     "exception": false,
     "start_time": "2023-02-07T18:18:55.672691",
     "status": "completed"
    },
    "tags": []
   },
   "outputs": [],
   "source": [
    "# depict null values as a histogram"
   ]
  },
  {
   "cell_type": "markdown",
   "id": "540481fb",
   "metadata": {
    "execution": {
     "iopub.execute_input": "2023-02-01T13:51:11.800152Z",
     "iopub.status.busy": "2023-02-01T13:51:11.799739Z",
     "iopub.status.idle": "2023-02-01T13:51:11.807199Z",
     "shell.execute_reply": "2023-02-01T13:51:11.805441Z",
     "shell.execute_reply.started": "2023-02-01T13:51:11.800118Z"
    },
    "papermill": {
     "duration": 0.00786,
     "end_time": "2023-02-07T18:18:55.704694",
     "exception": false,
     "start_time": "2023-02-07T18:18:55.696834",
     "status": "completed"
    },
    "tags": []
   },
   "source": [
    "## Data Cleaning"
   ]
  },
  {
   "cell_type": "code",
   "execution_count": 10,
   "id": "b59c5bc2",
   "metadata": {
    "execution": {
     "iopub.execute_input": "2023-02-07T18:18:55.723243Z",
     "iopub.status.busy": "2023-02-07T18:18:55.722480Z",
     "iopub.status.idle": "2023-02-07T18:18:55.751802Z",
     "shell.execute_reply": "2023-02-07T18:18:55.750133Z"
    },
    "papermill": {
     "duration": 0.042457,
     "end_time": "2023-02-07T18:18:55.755261",
     "exception": false,
     "start_time": "2023-02-07T18:18:55.712804",
     "status": "completed"
    },
    "tags": []
   },
   "outputs": [
    {
     "name": "stdout",
     "output_type": "stream",
     "text": [
      "['26' '27' '23' '24' '25' '32' '28' '22' 'na' '21' '19' '20' '26.5' '15'\n",
      " '17' '18' '14' '12' '10' '13' '16' '48' '9' '9.5' '7' 'not found' '11'\n",
      " '8' '6']\n",
      "['28' '29' '27' '26' '32' '35' '30' 'na' '25' '20' '24' '35.5' '19' '18'\n",
      " '23' '14' '22' '21' '16' '17' '15' '66' '10' '11.5' '8' '12' 'not found'\n",
      " '11' '13' '9']\n",
      "['80' '100' '85' '70' '120' '95' '130' '90' '175' '65' '110' '50' 'na'\n",
      " '60' '75' '74' '55' '35' '45' '140' '40' '25' '30' '22' '31' '42' '44'\n",
      " '24' '33' '10' '20' '18' '12' '15' '6' '14' 'not found' '16' '8' '9' '17'\n",
      " '34' '29' '13' '27' '2' '5' '4' '3']\n",
      "['120' '150' '110' '100' '130' '160' '190' '60' 'na' '70' '65' '75' '140'\n",
      " '95' '76' '80' '90' '135' '45' '85' '170' '50' '40' '55' '28' '35' '27'\n",
      " '66' '33' '25' '30' '14' '22' '23' '18' '15' '12' '20' 'not found' '32'\n",
      " '11' '36' '17' '16' '21' '5' '10' '6' '8' '7']\n"
     ]
    }
   ],
   "source": [
    "# find & clear null values\n",
    "obj_cols = ['height_low_inches','height_high_inches','weight_low_lbs','weight_high_lbs']\n",
    "for i in obj_cols:\n",
    "    print(breed_info[i].unique())\n",
    "\n",
    "# alaskan malamute and coton de tulear: have no data for all fields in height/weight, so we can't use them\n",
    "# dropping 2 rows based on value\n",
    "breed_info = breed_info[breed_info['height_low_inches'] != 'na']\n",
    "breed_info = breed_info[breed_info['height_low_inches'] != 'not found']\n",
    "\n",
    "# convert numeric columns to numbers\n",
    "for i in obj_cols:\n",
    "    breed_info[i] = pd.to_numeric(breed_info[i])\n",
    "    \n",
    "# drop the 'index' column\n",
    "breed_info = breed_info.drop('index', axis=1)\n",
    "\n",
    "# calculate average columns based on height and weight\n",
    "# drop the 'index' column\n",
    "breed_info['avg_height'] = (breed_info['height_high_inches'] + breed_info['height_low_inches'])/2\n",
    "breed_info['avg_weight'] = (breed_info['weight_high_lbs'] + breed_info['weight_low_lbs'])/2"
   ]
  },
  {
   "cell_type": "markdown",
   "id": "b5b760b2",
   "metadata": {
    "papermill": {
     "duration": 0.007977,
     "end_time": "2023-02-07T18:18:55.772132",
     "exception": false,
     "start_time": "2023-02-07T18:18:55.764155",
     "status": "completed"
    },
    "tags": []
   },
   "source": [
    "---"
   ]
  },
  {
   "cell_type": "code",
   "execution_count": 11,
   "id": "9d0cf2bf",
   "metadata": {
    "execution": {
     "iopub.execute_input": "2023-02-07T18:18:55.790887Z",
     "iopub.status.busy": "2023-02-07T18:18:55.790045Z",
     "iopub.status.idle": "2023-02-07T18:18:55.805740Z",
     "shell.execute_reply": "2023-02-07T18:18:55.804541Z"
    },
    "papermill": {
     "duration": 0.027796,
     "end_time": "2023-02-07T18:18:55.808225",
     "exception": false,
     "start_time": "2023-02-07T18:18:55.780429",
     "status": "completed"
    },
    "tags": []
   },
   "outputs": [
    {
     "data": {
      "text/html": [
       "<div>\n",
       "<style scoped>\n",
       "    .dataframe tbody tr th:only-of-type {\n",
       "        vertical-align: middle;\n",
       "    }\n",
       "\n",
       "    .dataframe tbody tr th {\n",
       "        vertical-align: top;\n",
       "    }\n",
       "\n",
       "    .dataframe thead th {\n",
       "        text-align: right;\n",
       "    }\n",
       "</style>\n",
       "<table border=\"1\" class=\"dataframe\">\n",
       "  <thead>\n",
       "    <tr style=\"text-align: right;\">\n",
       "      <th></th>\n",
       "      <th>Breed</th>\n",
       "      <th>height_low_inches</th>\n",
       "      <th>height_high_inches</th>\n",
       "      <th>weight_low_lbs</th>\n",
       "      <th>weight_high_lbs</th>\n",
       "      <th>avg_height</th>\n",
       "      <th>avg_weight</th>\n",
       "    </tr>\n",
       "  </thead>\n",
       "  <tbody>\n",
       "    <tr>\n",
       "      <th>0</th>\n",
       "      <td>Akita</td>\n",
       "      <td>26.0</td>\n",
       "      <td>28.0</td>\n",
       "      <td>80</td>\n",
       "      <td>120</td>\n",
       "      <td>27.0</td>\n",
       "      <td>100.0</td>\n",
       "    </tr>\n",
       "    <tr>\n",
       "      <th>1</th>\n",
       "      <td>Anatolian Sheepdog</td>\n",
       "      <td>27.0</td>\n",
       "      <td>29.0</td>\n",
       "      <td>100</td>\n",
       "      <td>150</td>\n",
       "      <td>28.0</td>\n",
       "      <td>125.0</td>\n",
       "    </tr>\n",
       "    <tr>\n",
       "      <th>2</th>\n",
       "      <td>Bernese Mountain Dog</td>\n",
       "      <td>23.0</td>\n",
       "      <td>27.0</td>\n",
       "      <td>85</td>\n",
       "      <td>110</td>\n",
       "      <td>25.0</td>\n",
       "      <td>97.5</td>\n",
       "    </tr>\n",
       "    <tr>\n",
       "      <th>3</th>\n",
       "      <td>Bloodhound</td>\n",
       "      <td>24.0</td>\n",
       "      <td>26.0</td>\n",
       "      <td>80</td>\n",
       "      <td>120</td>\n",
       "      <td>25.0</td>\n",
       "      <td>100.0</td>\n",
       "    </tr>\n",
       "    <tr>\n",
       "      <th>4</th>\n",
       "      <td>Borzoi</td>\n",
       "      <td>26.0</td>\n",
       "      <td>28.0</td>\n",
       "      <td>70</td>\n",
       "      <td>100</td>\n",
       "      <td>27.0</td>\n",
       "      <td>85.0</td>\n",
       "    </tr>\n",
       "  </tbody>\n",
       "</table>\n",
       "</div>"
      ],
      "text/plain": [
       "                  Breed  height_low_inches  height_high_inches  \\\n",
       "0                 Akita               26.0                28.0   \n",
       "1    Anatolian Sheepdog               27.0                29.0   \n",
       "2  Bernese Mountain Dog               23.0                27.0   \n",
       "3            Bloodhound               24.0                26.0   \n",
       "4                Borzoi               26.0                28.0   \n",
       "\n",
       "   weight_low_lbs  weight_high_lbs  avg_height  avg_weight  \n",
       "0              80              120        27.0       100.0  \n",
       "1             100              150        28.0       125.0  \n",
       "2              85              110        25.0        97.5  \n",
       "3              80              120        25.0       100.0  \n",
       "4              70              100        27.0        85.0  "
      ]
     },
     "execution_count": 11,
     "metadata": {},
     "output_type": "execute_result"
    }
   ],
   "source": [
    "breed_info.head()"
   ]
  },
  {
   "cell_type": "code",
   "execution_count": 12,
   "id": "8bda5603",
   "metadata": {
    "execution": {
     "iopub.execute_input": "2023-02-07T18:18:55.827399Z",
     "iopub.status.busy": "2023-02-07T18:18:55.826937Z",
     "iopub.status.idle": "2023-02-07T18:18:55.835933Z",
     "shell.execute_reply": "2023-02-07T18:18:55.834514Z"
    },
    "papermill": {
     "duration": 0.02152,
     "end_time": "2023-02-07T18:18:55.838306",
     "exception": false,
     "start_time": "2023-02-07T18:18:55.816786",
     "status": "completed"
    },
    "tags": []
   },
   "outputs": [
    {
     "data": {
      "text/plain": [
       "array(['Akita', 'Anatolian Sheepdog', 'Bernese Mountain Dog',\n",
       "       'Bloodhound', 'Borzoi', 'Bullmastiff', 'Great Dane',\n",
       "       'Great Pyrenees', 'Great Swiss Mountain Dog', 'Irish Wolfhound',\n",
       "       'Kuvasz', 'Mastiff', 'Neopolitan Mastiff', 'Newfoundland',\n",
       "       'Otter Hound', 'Rottweiler', 'Saint Bernard', 'Afghan Hound',\n",
       "       'American Foxhound', 'Beauceron', 'Belgian Malinois',\n",
       "       'Belgian Sheepdog', 'Belgian Tervuren', 'Black And Tan Coonhound',\n",
       "       'Black Russian Terrier', 'Bouvier Des Flandres', 'Boxer', 'Briard',\n",
       "       'Chesapeake Bay Retriever', 'Clumber Spaniel',\n",
       "       'Collie (Rough) & (Smooth)', 'Curly Coated Retriever',\n",
       "       'Doberman Pinscher', 'English Foxhound', 'English Setter',\n",
       "       'German Shepherd Dog', 'German Shorthaired Pointer',\n",
       "       'German Wirehaired Pointer', 'Giant Schnauzer', 'Golden Retriever',\n",
       "       'Gordon Setter', 'Greyhound', 'Irish Setter', 'Komondor',\n",
       "       'Labrador Retriever', 'Old English Sheepdog (Bobtail)',\n",
       "       'Poodle Standard', 'Rhodesian Ridgeback', 'Scottish Deerhound',\n",
       "       'Spinone Italiano', 'Tibetan Mastiff', 'Weimaraner',\n",
       "       'Airdale Terrier', 'American Staffordshire Terrier',\n",
       "       'American Water Spaniel', 'Australian Cattle Dog',\n",
       "       'Australian Shepherd', 'Basset Hound', 'Bearded Collie',\n",
       "       'Border Collie', 'Brittany', 'Bull Dog', 'Bull Terrier',\n",
       "       'Canaan Dog', 'Chinese Shar Pei', 'Chow Chow',\n",
       "       'Cocker Spaniel-American', 'Cocker Spaniel-English', 'Dalmatian',\n",
       "       'English Springer Spaniel', 'Field Spaniel',\n",
       "       'Flat Coated Retriever', 'Finnish Spitz', 'Harrier',\n",
       "       'Ibizan Hound', 'Irish Terrier', 'Irish Water Spaniel', 'Keeshond',\n",
       "       'Kerry Blue Terrier', 'Norwegian Elkhound',\n",
       "       'Nova Scotia Duck Tolling Retriever',\n",
       "       'Petit Basset Griffon Vendeen', 'Pharaoh Hound', 'Plott Hound',\n",
       "       'Pointer', 'Polish Lowland Sheepdog', 'Portuguese Water Dog',\n",
       "       'Redbone Coonhound', 'Saluki', 'Samoyed', 'Siberian Husky',\n",
       "       'Soft-Coated Wheaten Terrier', 'Staffordshire Bull Terrier',\n",
       "       'Standard Schnauzer', 'Sussex Spaniel', 'Vizsla',\n",
       "       'Welsh Springer Spaniel', 'Wirehaired Pointing Griffon',\n",
       "       'American Eskimo', 'Australian Terrier', 'Basenji', 'Beagle',\n",
       "       'Bedlington Terrier', 'Bichon Frise', 'Border Terrier',\n",
       "       'Boston Terrier', 'Brussels Griffon', 'Cairn Terrier',\n",
       "       'Cardigan Welsh Corgi', 'Cavalier King Charles Spaniel',\n",
       "       'Dachshund', 'Dandie Dinmont Terrier', 'English Toy Spaniel',\n",
       "       'Fox Terrier ‰ÛÒ Smooth', 'Fox Terrier ‰ÛÒ Wirehair',\n",
       "       'French Bulldog', 'German Pinscher', 'Glen Imaal Terrier',\n",
       "       'Lakeland Terrier', 'Manchester Terrier (Standard)',\n",
       "       'Poodle Miniature', 'Pug', 'Puli', 'Schipperke',\n",
       "       'Scottish Terrier', 'Sealyham Terrier',\n",
       "       'Shetland Sheepdog (Sheltie)', 'Shiba Inu', 'Shih Tzu',\n",
       "       'Silky Terrier', 'Skye Terrier', 'Tibetan Spaniel',\n",
       "       'Tibetan Terrier', 'Welsh Terrier', 'West Highland White Terrier',\n",
       "       'Whippet', 'Affenpinscher', 'Chihuahua', 'Chinese Crested',\n",
       "       'Italian Greyhound', 'Japanese Chin', 'Maltese',\n",
       "       'Manchester Terrier (Toy)', 'Papillon', 'Pomeranian', 'Poodle Toy',\n",
       "       'Toy Fox Terrier', 'Yorkshire Terrier'], dtype=object)"
      ]
     },
     "execution_count": 12,
     "metadata": {},
     "output_type": "execute_result"
    }
   ],
   "source": [
    "breed_info['Breed'].unique()"
   ]
  },
  {
   "cell_type": "code",
   "execution_count": 13,
   "id": "a101b003",
   "metadata": {
    "execution": {
     "iopub.execute_input": "2023-02-07T18:18:55.858431Z",
     "iopub.status.busy": "2023-02-07T18:18:55.857939Z",
     "iopub.status.idle": "2023-02-07T18:18:55.866753Z",
     "shell.execute_reply": "2023-02-07T18:18:55.865525Z"
    },
    "papermill": {
     "duration": 0.022035,
     "end_time": "2023-02-07T18:18:55.869451",
     "exception": false,
     "start_time": "2023-02-07T18:18:55.847416",
     "status": "completed"
    },
    "tags": []
   },
   "outputs": [],
   "source": [
    "# clean 'dog_intel' data\n",
    "\n",
    "\n",
    "# drop 'index' column\n",
    "dog_intel = dog_intel.drop('index', axis=1)\n",
    "\n",
    "# convert 'Classification' to categorical datatype\n",
    "dog_intel['Classification'] = dog_intel['Classification'].astype('category')\n",
    "\n"
   ]
  },
  {
   "cell_type": "code",
   "execution_count": 14,
   "id": "f84d1445",
   "metadata": {
    "execution": {
     "iopub.execute_input": "2023-02-07T18:18:55.888994Z",
     "iopub.status.busy": "2023-02-07T18:18:55.888615Z",
     "iopub.status.idle": "2023-02-07T18:18:55.894358Z",
     "shell.execute_reply": "2023-02-07T18:18:55.893122Z"
    },
    "papermill": {
     "duration": 0.018812,
     "end_time": "2023-02-07T18:18:55.897137",
     "exception": false,
     "start_time": "2023-02-07T18:18:55.878325",
     "status": "completed"
    },
    "tags": []
   },
   "outputs": [],
   "source": [
    "# convert 'Classification' to categorical datatype\n",
    "dog_intel['Classification'] = dog_intel['Classification'].astype('category')"
   ]
  },
  {
   "cell_type": "code",
   "execution_count": 15,
   "id": "7041a8b3",
   "metadata": {
    "execution": {
     "iopub.execute_input": "2023-02-07T18:18:55.916849Z",
     "iopub.status.busy": "2023-02-07T18:18:55.916453Z",
     "iopub.status.idle": "2023-02-07T18:18:55.925100Z",
     "shell.execute_reply": "2023-02-07T18:18:55.924037Z"
    },
    "papermill": {
     "duration": 0.021495,
     "end_time": "2023-02-07T18:18:55.927560",
     "exception": false,
     "start_time": "2023-02-07T18:18:55.906065",
     "status": "completed"
    },
    "tags": []
   },
   "outputs": [
    {
     "data": {
      "text/plain": [
       "Breed               object\n",
       "Classification    category\n",
       "obey                object\n",
       "reps_lower           int64\n",
       "reps_upper           int64\n",
       "dtype: object"
      ]
     },
     "execution_count": 15,
     "metadata": {},
     "output_type": "execute_result"
    }
   ],
   "source": [
    "dog_intel.dtypes"
   ]
  },
  {
   "cell_type": "code",
   "execution_count": 16,
   "id": "f731ee37",
   "metadata": {
    "execution": {
     "iopub.execute_input": "2023-02-07T18:18:55.947454Z",
     "iopub.status.busy": "2023-02-07T18:18:55.947047Z",
     "iopub.status.idle": "2023-02-07T18:18:55.954430Z",
     "shell.execute_reply": "2023-02-07T18:18:55.953235Z"
    },
    "papermill": {
     "duration": 0.020224,
     "end_time": "2023-02-07T18:18:55.956754",
     "exception": false,
     "start_time": "2023-02-07T18:18:55.936530",
     "status": "completed"
    },
    "tags": []
   },
   "outputs": [
    {
     "data": {
      "text/plain": [
       "Index(['Breed', 'Classification', 'obey', 'reps_lower', 'reps_upper'], dtype='object')"
      ]
     },
     "execution_count": 16,
     "metadata": {},
     "output_type": "execute_result"
    }
   ],
   "source": [
    "dog_intel.columns"
   ]
  },
  {
   "cell_type": "code",
   "execution_count": 17,
   "id": "ea726bf4",
   "metadata": {
    "execution": {
     "iopub.execute_input": "2023-02-07T18:18:55.977176Z",
     "iopub.status.busy": "2023-02-07T18:18:55.976724Z",
     "iopub.status.idle": "2023-02-07T18:18:55.990058Z",
     "shell.execute_reply": "2023-02-07T18:18:55.988455Z"
    },
    "papermill": {
     "duration": 0.027634,
     "end_time": "2023-02-07T18:18:55.993493",
     "exception": false,
     "start_time": "2023-02-07T18:18:55.965859",
     "status": "completed"
    },
    "tags": []
   },
   "outputs": [
    {
     "name": "stdout",
     "output_type": "stream",
     "text": [
      "['Border Collie' 'Poodle' 'German Shepherd' 'Golden Retriever'\n",
      " 'Doberman Pinscher' 'Shetland Sheepdog' 'Labrador Retriever' 'Papillon'\n",
      " 'Rottweiler' 'Australian Cattle Dog' 'Pembroke Welsh Corgi'\n",
      " 'Miniature Schnauzer' 'English Springer Spaniel'\n",
      " 'Belgian Shepherd Dog (Tervuren)' 'Schipperke' 'Belgian Sheepdog'\n",
      " 'Collie' 'Keeshond' 'German Shorthaired Pointer' 'Flat-Coated Retriever'\n",
      " 'English Cocker Spaniel' 'Standard Schnauzer' 'Brittany' 'Cocker Spaniel'\n",
      " 'Weimaraner' 'Belgian Malinois' 'Bernese Mountain Dog' 'Pomeranian'\n",
      " 'Irish Water Spaniel' 'Vizsla' 'Cardigan Welsh Corgi'\n",
      " 'Chesapeake Bay Retriever' 'Puli' 'Yorkshire Terrier' 'Giant Schnauzer'\n",
      " 'Portuguese Water Dog' 'Airedale Terrier' 'Bouvier des Flandres'\n",
      " 'Border Terrier' 'Briard' 'Welsh Springer Spaniel' 'Manchester Terrier'\n",
      " 'Samoyed' 'Field Spaniel' 'Newfoundland' 'Australian Terrier'\n",
      " 'American Staffordshire Terrier' 'Gordon Setter' 'Bearded Collie'\n",
      " 'Cairn Terrier' 'Kerry Blue Terrier' 'Irish Setter' 'Norwegian Elkhound'\n",
      " 'Affenpinscher' 'Australian Silky Terrier' 'Miniature Pinscher'\n",
      " 'English Setter' 'Pharaoh Hound' 'Clumber Spaniel' 'Norwich Terrier'\n",
      " 'Dalmatian' 'Soft-coated Wheaten Terrier' 'Bedlington Terrier'\n",
      " 'Fox Terrier (Smooth)' 'Curly Coated Retriever' 'Irish Wolfhound'\n",
      " 'Kuvasz' 'Australian Shepherd' 'Saluki' 'Finnish Spitz' 'Pointer'\n",
      " 'Cavalier King Charles Spaniel' 'German Wirehaired Pointer'\n",
      " 'Black and Tan Coonhound' 'American Water Spaniel' 'Siberian Husky'\n",
      " 'Bichon Frise' 'King Charles Spaniel' 'Tibetan Spaniel'\n",
      " 'English Foxhound' 'Otterhound' 'Jack Russell terrier'\n",
      " 'American Foxhound' 'Greyhound' 'Wirehaired Pointing Griffon'\n",
      " 'West Highland White Terrier' 'Havanese' 'Scottish Deerhound' 'Boxer'\n",
      " 'Great Dane' 'Dachshund' 'Shiba Inu' 'Staffordshire Bull Terrier'\n",
      " 'Alaskan Malamute' 'Whippet' 'Chinese Shar Pei' 'Wire Fox Terrier'\n",
      " 'Rhodesian Ridgeback' 'Ibizan Hound' 'Welsh Terrier' 'Irish Terrier'\n",
      " 'Boston Terrier' 'Akita' 'Skye Terrier' 'Norfolk Terrier'\n",
      " 'Sealyham Terrier' 'Pug' 'French Bulldog' 'Griffon Bruxellois' 'Maltese'\n",
      " 'Italian Greyhound' 'Chinese Crested' 'Dandie Dinmont Terrier'\n",
      " 'Petit Basset Griffon Vend̩en' 'Tibetan Terrier' 'Japanese Chin'\n",
      " 'Lakeland Terrier' 'Old English Sheepdog' 'Great Pyrenees'\n",
      " 'Scottish Terrier' 'Saint Bernard' 'Bull Terrier' 'Chihuahua'\n",
      " 'Lhasa Apso' 'Bullmastiff' 'Shih Tzu' 'Basset Hound' 'Mastiff' 'Beagle'\n",
      " 'Pekingese' 'Bloodhound' 'Borzoi' 'Chow Chow' 'Bulldog' 'Basenji'\n",
      " 'Afghan Hound']\n",
      "['Brightest Dogs', 'Excellent Working Dogs', 'Above Average Working Dogs', 'Average Working/Obedience Intelligence', 'Fair Working/Obedience Intelligence', 'Lowest Degree of Working/Obedience Intelligen...]\n",
      "Categories (6, object): ['Above Average Working Dogs', 'Average Working/Obedience Intelligence', 'Brightest Dogs', 'Excellent Working Dogs', 'Fair Working/Obedience Intelligence', 'Lowest Degree of Working/Obedience Intelligen...]\n",
      "['95%' '85%' '70%' '50%' '30%' nan]\n",
      "[ 1  5 16 26 41 81]\n",
      "[  4  15  25  40  80 100]\n"
     ]
    }
   ],
   "source": [
    "for i in dog_intel.columns:\n",
    "    print(dog_intel[i].unique())"
   ]
  },
  {
   "cell_type": "code",
   "execution_count": 18,
   "id": "3bc1d97c",
   "metadata": {
    "execution": {
     "iopub.execute_input": "2023-02-07T18:18:56.014188Z",
     "iopub.status.busy": "2023-02-07T18:18:56.013767Z",
     "iopub.status.idle": "2023-02-07T18:18:56.026019Z",
     "shell.execute_reply": "2023-02-07T18:18:56.024834Z"
    },
    "papermill": {
     "duration": 0.025267,
     "end_time": "2023-02-07T18:18:56.028348",
     "exception": false,
     "start_time": "2023-02-07T18:18:56.003081",
     "status": "completed"
    },
    "tags": []
   },
   "outputs": [
    {
     "data": {
      "text/html": [
       "<div>\n",
       "<style scoped>\n",
       "    .dataframe tbody tr th:only-of-type {\n",
       "        vertical-align: middle;\n",
       "    }\n",
       "\n",
       "    .dataframe tbody tr th {\n",
       "        vertical-align: top;\n",
       "    }\n",
       "\n",
       "    .dataframe thead th {\n",
       "        text-align: right;\n",
       "    }\n",
       "</style>\n",
       "<table border=\"1\" class=\"dataframe\">\n",
       "  <thead>\n",
       "    <tr style=\"text-align: right;\">\n",
       "      <th></th>\n",
       "      <th>Breed</th>\n",
       "      <th>Classification</th>\n",
       "      <th>obey</th>\n",
       "      <th>reps_lower</th>\n",
       "      <th>reps_upper</th>\n",
       "    </tr>\n",
       "  </thead>\n",
       "  <tbody>\n",
       "    <tr>\n",
       "      <th>0</th>\n",
       "      <td>Border Collie</td>\n",
       "      <td>Brightest Dogs</td>\n",
       "      <td>95%</td>\n",
       "      <td>1</td>\n",
       "      <td>4</td>\n",
       "    </tr>\n",
       "    <tr>\n",
       "      <th>1</th>\n",
       "      <td>Poodle</td>\n",
       "      <td>Brightest Dogs</td>\n",
       "      <td>95%</td>\n",
       "      <td>1</td>\n",
       "      <td>4</td>\n",
       "    </tr>\n",
       "    <tr>\n",
       "      <th>2</th>\n",
       "      <td>German Shepherd</td>\n",
       "      <td>Brightest Dogs</td>\n",
       "      <td>95%</td>\n",
       "      <td>1</td>\n",
       "      <td>4</td>\n",
       "    </tr>\n",
       "    <tr>\n",
       "      <th>3</th>\n",
       "      <td>Golden Retriever</td>\n",
       "      <td>Brightest Dogs</td>\n",
       "      <td>95%</td>\n",
       "      <td>1</td>\n",
       "      <td>4</td>\n",
       "    </tr>\n",
       "    <tr>\n",
       "      <th>4</th>\n",
       "      <td>Doberman Pinscher</td>\n",
       "      <td>Brightest Dogs</td>\n",
       "      <td>95%</td>\n",
       "      <td>1</td>\n",
       "      <td>4</td>\n",
       "    </tr>\n",
       "  </tbody>\n",
       "</table>\n",
       "</div>"
      ],
      "text/plain": [
       "               Breed  Classification obey  reps_lower  reps_upper\n",
       "0      Border Collie  Brightest Dogs  95%           1           4\n",
       "1             Poodle  Brightest Dogs  95%           1           4\n",
       "2    German Shepherd  Brightest Dogs  95%           1           4\n",
       "3   Golden Retriever  Brightest Dogs  95%           1           4\n",
       "4  Doberman Pinscher  Brightest Dogs  95%           1           4"
      ]
     },
     "execution_count": 18,
     "metadata": {},
     "output_type": "execute_result"
    }
   ],
   "source": [
    "dog_intel.head()"
   ]
  },
  {
   "cell_type": "code",
   "execution_count": 19,
   "id": "dd483502",
   "metadata": {
    "execution": {
     "iopub.execute_input": "2023-02-07T18:18:56.050135Z",
     "iopub.status.busy": "2023-02-07T18:18:56.049680Z",
     "iopub.status.idle": "2023-02-07T18:18:56.064728Z",
     "shell.execute_reply": "2023-02-07T18:18:56.063321Z"
    },
    "papermill": {
     "duration": 0.028555,
     "end_time": "2023-02-07T18:18:56.067131",
     "exception": false,
     "start_time": "2023-02-07T18:18:56.038576",
     "status": "completed"
    },
    "tags": []
   },
   "outputs": [
    {
     "data": {
      "text/html": [
       "<div>\n",
       "<style scoped>\n",
       "    .dataframe tbody tr th:only-of-type {\n",
       "        vertical-align: middle;\n",
       "    }\n",
       "\n",
       "    .dataframe tbody tr th {\n",
       "        vertical-align: top;\n",
       "    }\n",
       "\n",
       "    .dataframe thead th {\n",
       "        text-align: right;\n",
       "    }\n",
       "</style>\n",
       "<table border=\"1\" class=\"dataframe\">\n",
       "  <thead>\n",
       "    <tr style=\"text-align: right;\">\n",
       "      <th></th>\n",
       "      <th>Breed</th>\n",
       "      <th>Classification</th>\n",
       "      <th>obey</th>\n",
       "      <th>reps_lower</th>\n",
       "      <th>reps_upper</th>\n",
       "    </tr>\n",
       "  </thead>\n",
       "  <tbody>\n",
       "    <tr>\n",
       "      <th>125</th>\n",
       "      <td>Shih Tzu</td>\n",
       "      <td>Lowest Degree of Working/Obedience Intelligence</td>\n",
       "      <td>NaN</td>\n",
       "      <td>81</td>\n",
       "      <td>100</td>\n",
       "    </tr>\n",
       "    <tr>\n",
       "      <th>126</th>\n",
       "      <td>Basset Hound</td>\n",
       "      <td>Lowest Degree of Working/Obedience Intelligence</td>\n",
       "      <td>NaN</td>\n",
       "      <td>81</td>\n",
       "      <td>100</td>\n",
       "    </tr>\n",
       "    <tr>\n",
       "      <th>127</th>\n",
       "      <td>Mastiff</td>\n",
       "      <td>Lowest Degree of Working/Obedience Intelligence</td>\n",
       "      <td>NaN</td>\n",
       "      <td>81</td>\n",
       "      <td>100</td>\n",
       "    </tr>\n",
       "    <tr>\n",
       "      <th>128</th>\n",
       "      <td>Beagle</td>\n",
       "      <td>Lowest Degree of Working/Obedience Intelligence</td>\n",
       "      <td>NaN</td>\n",
       "      <td>81</td>\n",
       "      <td>100</td>\n",
       "    </tr>\n",
       "    <tr>\n",
       "      <th>129</th>\n",
       "      <td>Pekingese</td>\n",
       "      <td>Lowest Degree of Working/Obedience Intelligence</td>\n",
       "      <td>NaN</td>\n",
       "      <td>81</td>\n",
       "      <td>100</td>\n",
       "    </tr>\n",
       "    <tr>\n",
       "      <th>130</th>\n",
       "      <td>Bloodhound</td>\n",
       "      <td>Lowest Degree of Working/Obedience Intelligence</td>\n",
       "      <td>NaN</td>\n",
       "      <td>81</td>\n",
       "      <td>100</td>\n",
       "    </tr>\n",
       "    <tr>\n",
       "      <th>131</th>\n",
       "      <td>Borzoi</td>\n",
       "      <td>Lowest Degree of Working/Obedience Intelligence</td>\n",
       "      <td>NaN</td>\n",
       "      <td>81</td>\n",
       "      <td>100</td>\n",
       "    </tr>\n",
       "    <tr>\n",
       "      <th>132</th>\n",
       "      <td>Chow Chow</td>\n",
       "      <td>Lowest Degree of Working/Obedience Intelligence</td>\n",
       "      <td>NaN</td>\n",
       "      <td>81</td>\n",
       "      <td>100</td>\n",
       "    </tr>\n",
       "    <tr>\n",
       "      <th>133</th>\n",
       "      <td>Bulldog</td>\n",
       "      <td>Lowest Degree of Working/Obedience Intelligence</td>\n",
       "      <td>NaN</td>\n",
       "      <td>81</td>\n",
       "      <td>100</td>\n",
       "    </tr>\n",
       "    <tr>\n",
       "      <th>134</th>\n",
       "      <td>Basenji</td>\n",
       "      <td>Lowest Degree of Working/Obedience Intelligence</td>\n",
       "      <td>NaN</td>\n",
       "      <td>81</td>\n",
       "      <td>100</td>\n",
       "    </tr>\n",
       "    <tr>\n",
       "      <th>135</th>\n",
       "      <td>Afghan Hound</td>\n",
       "      <td>Lowest Degree of Working/Obedience Intelligence</td>\n",
       "      <td>NaN</td>\n",
       "      <td>81</td>\n",
       "      <td>100</td>\n",
       "    </tr>\n",
       "  </tbody>\n",
       "</table>\n",
       "</div>"
      ],
      "text/plain": [
       "            Breed                                    Classification obey  \\\n",
       "125      Shih Tzu  Lowest Degree of Working/Obedience Intelligence   NaN   \n",
       "126  Basset Hound  Lowest Degree of Working/Obedience Intelligence   NaN   \n",
       "127       Mastiff  Lowest Degree of Working/Obedience Intelligence   NaN   \n",
       "128        Beagle  Lowest Degree of Working/Obedience Intelligence   NaN   \n",
       "129     Pekingese  Lowest Degree of Working/Obedience Intelligence   NaN   \n",
       "130    Bloodhound  Lowest Degree of Working/Obedience Intelligence   NaN   \n",
       "131        Borzoi  Lowest Degree of Working/Obedience Intelligence   NaN   \n",
       "132     Chow Chow  Lowest Degree of Working/Obedience Intelligence   NaN   \n",
       "133       Bulldog  Lowest Degree of Working/Obedience Intelligence   NaN   \n",
       "134       Basenji  Lowest Degree of Working/Obedience Intelligence   NaN   \n",
       "135  Afghan Hound  Lowest Degree of Working/Obedience Intelligence   NaN   \n",
       "\n",
       "     reps_lower  reps_upper  \n",
       "125          81         100  \n",
       "126          81         100  \n",
       "127          81         100  \n",
       "128          81         100  \n",
       "129          81         100  \n",
       "130          81         100  \n",
       "131          81         100  \n",
       "132          81         100  \n",
       "133          81         100  \n",
       "134          81         100  \n",
       "135          81         100  "
      ]
     },
     "execution_count": 19,
     "metadata": {},
     "output_type": "execute_result"
    }
   ],
   "source": [
    "dog_intel[dog_intel['obey'].isnull()]\n",
    "# dog_intel['obey'].unique()\n"
   ]
  },
  {
   "cell_type": "code",
   "execution_count": 20,
   "id": "bce4872f",
   "metadata": {
    "execution": {
     "iopub.execute_input": "2023-02-07T18:18:56.088570Z",
     "iopub.status.busy": "2023-02-07T18:18:56.088108Z",
     "iopub.status.idle": "2023-02-07T18:18:56.095503Z",
     "shell.execute_reply": "2023-02-07T18:18:56.094392Z"
    },
    "papermill": {
     "duration": 0.02121,
     "end_time": "2023-02-07T18:18:56.098116",
     "exception": false,
     "start_time": "2023-02-07T18:18:56.076906",
     "status": "completed"
    },
    "tags": []
   },
   "outputs": [
    {
     "data": {
      "text/plain": [
       "(136, 5)"
      ]
     },
     "execution_count": 20,
     "metadata": {},
     "output_type": "execute_result"
    }
   ],
   "source": [
    "dog_intel.shape"
   ]
  },
  {
   "cell_type": "code",
   "execution_count": 21,
   "id": "f41548c4",
   "metadata": {
    "execution": {
     "iopub.execute_input": "2023-02-07T18:18:56.119753Z",
     "iopub.status.busy": "2023-02-07T18:18:56.119348Z",
     "iopub.status.idle": "2023-02-07T18:18:56.130335Z",
     "shell.execute_reply": "2023-02-07T18:18:56.129076Z"
    },
    "papermill": {
     "duration": 0.024779,
     "end_time": "2023-02-07T18:18:56.132845",
     "exception": false,
     "start_time": "2023-02-07T18:18:56.108066",
     "status": "completed"
    },
    "tags": []
   },
   "outputs": [
    {
     "data": {
      "text/html": [
       "<div>\n",
       "<style scoped>\n",
       "    .dataframe tbody tr th:only-of-type {\n",
       "        vertical-align: middle;\n",
       "    }\n",
       "\n",
       "    .dataframe tbody tr th {\n",
       "        vertical-align: top;\n",
       "    }\n",
       "\n",
       "    .dataframe thead th {\n",
       "        text-align: right;\n",
       "    }\n",
       "</style>\n",
       "<table border=\"1\" class=\"dataframe\">\n",
       "  <thead>\n",
       "    <tr style=\"text-align: right;\">\n",
       "      <th></th>\n",
       "      <th>Breed</th>\n",
       "      <th>Classification</th>\n",
       "      <th>obey</th>\n",
       "      <th>reps_lower</th>\n",
       "      <th>reps_upper</th>\n",
       "    </tr>\n",
       "  </thead>\n",
       "  <tbody>\n",
       "  </tbody>\n",
       "</table>\n",
       "</div>"
      ],
      "text/plain": [
       "Empty DataFrame\n",
       "Columns: [Breed, Classification, obey, reps_lower, reps_upper]\n",
       "Index: []"
      ]
     },
     "execution_count": 21,
     "metadata": {},
     "output_type": "execute_result"
    }
   ],
   "source": [
    "dog_intel[dog_intel['Classification']=='Lowest Degree of Working/Obedience Intelligence']"
   ]
  },
  {
   "cell_type": "code",
   "execution_count": 22,
   "id": "6d5140df",
   "metadata": {
    "execution": {
     "iopub.execute_input": "2023-02-07T18:18:56.154532Z",
     "iopub.status.busy": "2023-02-07T18:18:56.154128Z",
     "iopub.status.idle": "2023-02-07T18:18:56.162426Z",
     "shell.execute_reply": "2023-02-07T18:18:56.160702Z"
    },
    "papermill": {
     "duration": 0.023262,
     "end_time": "2023-02-07T18:18:56.166122",
     "exception": false,
     "start_time": "2023-02-07T18:18:56.142860",
     "status": "completed"
    },
    "tags": []
   },
   "outputs": [
    {
     "name": "stdout",
     "output_type": "stream",
     "text": [
      "Brightest Dogs\n",
      "Excellent Working Dogs\n",
      "Above Average Working Dogs\n",
      "Average Working/Obedience Intelligence\n",
      "Fair Working/Obedience Intelligence\n",
      "Lowest Degree of Working/Obedience Intelligence \n"
     ]
    }
   ],
   "source": [
    "for i in dog_intel['Classification'].unique():\n",
    "    print(i)"
   ]
  },
  {
   "cell_type": "code",
   "execution_count": 23,
   "id": "bdb33839",
   "metadata": {
    "execution": {
     "iopub.execute_input": "2023-02-07T18:18:56.194312Z",
     "iopub.status.busy": "2023-02-07T18:18:56.193172Z",
     "iopub.status.idle": "2023-02-07T18:18:56.202365Z",
     "shell.execute_reply": "2023-02-07T18:18:56.200528Z"
    },
    "papermill": {
     "duration": 0.026865,
     "end_time": "2023-02-07T18:18:56.206225",
     "exception": false,
     "start_time": "2023-02-07T18:18:56.179360",
     "status": "completed"
    },
    "tags": []
   },
   "outputs": [],
   "source": [
    "# add avg reps computed column\n",
    "dog_intel['avg_reps'] = (dog_intel['reps_lower'] + dog_intel['reps_upper']) / 2"
   ]
  },
  {
   "cell_type": "code",
   "execution_count": 24,
   "id": "30d83776",
   "metadata": {
    "execution": {
     "iopub.execute_input": "2023-02-07T18:18:56.235609Z",
     "iopub.status.busy": "2023-02-07T18:18:56.234491Z",
     "iopub.status.idle": "2023-02-07T18:18:56.274702Z",
     "shell.execute_reply": "2023-02-07T18:18:56.273218Z"
    },
    "papermill": {
     "duration": 0.056054,
     "end_time": "2023-02-07T18:18:56.277408",
     "exception": false,
     "start_time": "2023-02-07T18:18:56.221354",
     "status": "completed"
    },
    "tags": []
   },
   "outputs": [
    {
     "data": {
      "text/html": [
       "<div>\n",
       "<style scoped>\n",
       "    .dataframe tbody tr th:only-of-type {\n",
       "        vertical-align: middle;\n",
       "    }\n",
       "\n",
       "    .dataframe tbody tr th {\n",
       "        vertical-align: top;\n",
       "    }\n",
       "\n",
       "    .dataframe thead th {\n",
       "        text-align: right;\n",
       "    }\n",
       "</style>\n",
       "<table border=\"1\" class=\"dataframe\">\n",
       "  <thead>\n",
       "    <tr style=\"text-align: right;\">\n",
       "      <th></th>\n",
       "      <th>Breed</th>\n",
       "      <th>Classification</th>\n",
       "      <th>obey</th>\n",
       "      <th>reps_lower</th>\n",
       "      <th>reps_upper</th>\n",
       "      <th>avg_reps</th>\n",
       "      <th>height_low_inches</th>\n",
       "      <th>height_high_inches</th>\n",
       "      <th>weight_low_lbs</th>\n",
       "      <th>weight_high_lbs</th>\n",
       "      <th>avg_height</th>\n",
       "      <th>avg_weight</th>\n",
       "    </tr>\n",
       "  </thead>\n",
       "  <tbody>\n",
       "    <tr>\n",
       "      <th>0</th>\n",
       "      <td>Border Collie</td>\n",
       "      <td>Brightest Dogs</td>\n",
       "      <td>95%</td>\n",
       "      <td>1</td>\n",
       "      <td>4</td>\n",
       "      <td>2.5</td>\n",
       "      <td>19.0</td>\n",
       "      <td>21.0</td>\n",
       "      <td>40</td>\n",
       "      <td>40</td>\n",
       "      <td>20.0</td>\n",
       "      <td>40.0</td>\n",
       "    </tr>\n",
       "    <tr>\n",
       "      <th>1</th>\n",
       "      <td>Golden Retriever</td>\n",
       "      <td>Brightest Dogs</td>\n",
       "      <td>95%</td>\n",
       "      <td>1</td>\n",
       "      <td>4</td>\n",
       "      <td>2.5</td>\n",
       "      <td>21.0</td>\n",
       "      <td>24.0</td>\n",
       "      <td>55</td>\n",
       "      <td>75</td>\n",
       "      <td>22.5</td>\n",
       "      <td>65.0</td>\n",
       "    </tr>\n",
       "    <tr>\n",
       "      <th>2</th>\n",
       "      <td>Doberman Pinscher</td>\n",
       "      <td>Brightest Dogs</td>\n",
       "      <td>95%</td>\n",
       "      <td>1</td>\n",
       "      <td>4</td>\n",
       "      <td>2.5</td>\n",
       "      <td>26.0</td>\n",
       "      <td>28.0</td>\n",
       "      <td>60</td>\n",
       "      <td>100</td>\n",
       "      <td>27.0</td>\n",
       "      <td>80.0</td>\n",
       "    </tr>\n",
       "    <tr>\n",
       "      <th>3</th>\n",
       "      <td>Labrador Retriever</td>\n",
       "      <td>Brightest Dogs</td>\n",
       "      <td>95%</td>\n",
       "      <td>1</td>\n",
       "      <td>4</td>\n",
       "      <td>2.5</td>\n",
       "      <td>21.0</td>\n",
       "      <td>24.0</td>\n",
       "      <td>55</td>\n",
       "      <td>80</td>\n",
       "      <td>22.5</td>\n",
       "      <td>67.5</td>\n",
       "    </tr>\n",
       "    <tr>\n",
       "      <th>4</th>\n",
       "      <td>Papillon</td>\n",
       "      <td>Brightest Dogs</td>\n",
       "      <td>95%</td>\n",
       "      <td>1</td>\n",
       "      <td>4</td>\n",
       "      <td>2.5</td>\n",
       "      <td>8.0</td>\n",
       "      <td>11.0</td>\n",
       "      <td>5</td>\n",
       "      <td>10</td>\n",
       "      <td>9.5</td>\n",
       "      <td>7.5</td>\n",
       "    </tr>\n",
       "    <tr>\n",
       "      <th>...</th>\n",
       "      <td>...</td>\n",
       "      <td>...</td>\n",
       "      <td>...</td>\n",
       "      <td>...</td>\n",
       "      <td>...</td>\n",
       "      <td>...</td>\n",
       "      <td>...</td>\n",
       "      <td>...</td>\n",
       "      <td>...</td>\n",
       "      <td>...</td>\n",
       "      <td>...</td>\n",
       "      <td>...</td>\n",
       "    </tr>\n",
       "    <tr>\n",
       "      <th>99</th>\n",
       "      <td>Bloodhound</td>\n",
       "      <td>Lowest Degree of Working/Obedience Intelligence</td>\n",
       "      <td>NaN</td>\n",
       "      <td>81</td>\n",
       "      <td>100</td>\n",
       "      <td>90.5</td>\n",
       "      <td>24.0</td>\n",
       "      <td>26.0</td>\n",
       "      <td>80</td>\n",
       "      <td>120</td>\n",
       "      <td>25.0</td>\n",
       "      <td>100.0</td>\n",
       "    </tr>\n",
       "    <tr>\n",
       "      <th>100</th>\n",
       "      <td>Borzoi</td>\n",
       "      <td>Lowest Degree of Working/Obedience Intelligence</td>\n",
       "      <td>NaN</td>\n",
       "      <td>81</td>\n",
       "      <td>100</td>\n",
       "      <td>90.5</td>\n",
       "      <td>26.0</td>\n",
       "      <td>28.0</td>\n",
       "      <td>70</td>\n",
       "      <td>100</td>\n",
       "      <td>27.0</td>\n",
       "      <td>85.0</td>\n",
       "    </tr>\n",
       "    <tr>\n",
       "      <th>101</th>\n",
       "      <td>Chow Chow</td>\n",
       "      <td>Lowest Degree of Working/Obedience Intelligence</td>\n",
       "      <td>NaN</td>\n",
       "      <td>81</td>\n",
       "      <td>100</td>\n",
       "      <td>90.5</td>\n",
       "      <td>19.0</td>\n",
       "      <td>22.0</td>\n",
       "      <td>45</td>\n",
       "      <td>55</td>\n",
       "      <td>20.5</td>\n",
       "      <td>50.0</td>\n",
       "    </tr>\n",
       "    <tr>\n",
       "      <th>102</th>\n",
       "      <td>Basenji</td>\n",
       "      <td>Lowest Degree of Working/Obedience Intelligence</td>\n",
       "      <td>NaN</td>\n",
       "      <td>81</td>\n",
       "      <td>100</td>\n",
       "      <td>90.5</td>\n",
       "      <td>17.0</td>\n",
       "      <td>17.0</td>\n",
       "      <td>20</td>\n",
       "      <td>22</td>\n",
       "      <td>17.0</td>\n",
       "      <td>21.0</td>\n",
       "    </tr>\n",
       "    <tr>\n",
       "      <th>103</th>\n",
       "      <td>Afghan Hound</td>\n",
       "      <td>Lowest Degree of Working/Obedience Intelligence</td>\n",
       "      <td>NaN</td>\n",
       "      <td>81</td>\n",
       "      <td>100</td>\n",
       "      <td>90.5</td>\n",
       "      <td>25.0</td>\n",
       "      <td>27.0</td>\n",
       "      <td>50</td>\n",
       "      <td>60</td>\n",
       "      <td>26.0</td>\n",
       "      <td>55.0</td>\n",
       "    </tr>\n",
       "  </tbody>\n",
       "</table>\n",
       "<p>104 rows × 12 columns</p>\n",
       "</div>"
      ],
      "text/plain": [
       "                  Breed                                    Classification  \\\n",
       "0         Border Collie                                    Brightest Dogs   \n",
       "1      Golden Retriever                                    Brightest Dogs   \n",
       "2     Doberman Pinscher                                    Brightest Dogs   \n",
       "3    Labrador Retriever                                    Brightest Dogs   \n",
       "4              Papillon                                    Brightest Dogs   \n",
       "..                  ...                                               ...   \n",
       "99           Bloodhound  Lowest Degree of Working/Obedience Intelligence    \n",
       "100              Borzoi  Lowest Degree of Working/Obedience Intelligence    \n",
       "101           Chow Chow  Lowest Degree of Working/Obedience Intelligence    \n",
       "102             Basenji  Lowest Degree of Working/Obedience Intelligence    \n",
       "103        Afghan Hound  Lowest Degree of Working/Obedience Intelligence    \n",
       "\n",
       "    obey  reps_lower  reps_upper  avg_reps  height_low_inches  \\\n",
       "0    95%           1           4       2.5               19.0   \n",
       "1    95%           1           4       2.5               21.0   \n",
       "2    95%           1           4       2.5               26.0   \n",
       "3    95%           1           4       2.5               21.0   \n",
       "4    95%           1           4       2.5                8.0   \n",
       "..   ...         ...         ...       ...                ...   \n",
       "99   NaN          81         100      90.5               24.0   \n",
       "100  NaN          81         100      90.5               26.0   \n",
       "101  NaN          81         100      90.5               19.0   \n",
       "102  NaN          81         100      90.5               17.0   \n",
       "103  NaN          81         100      90.5               25.0   \n",
       "\n",
       "     height_high_inches  weight_low_lbs  weight_high_lbs  avg_height  \\\n",
       "0                  21.0              40               40        20.0   \n",
       "1                  24.0              55               75        22.5   \n",
       "2                  28.0              60              100        27.0   \n",
       "3                  24.0              55               80        22.5   \n",
       "4                  11.0               5               10         9.5   \n",
       "..                  ...             ...              ...         ...   \n",
       "99                 26.0              80              120        25.0   \n",
       "100                28.0              70              100        27.0   \n",
       "101                22.0              45               55        20.5   \n",
       "102                17.0              20               22        17.0   \n",
       "103                27.0              50               60        26.0   \n",
       "\n",
       "     avg_weight  \n",
       "0          40.0  \n",
       "1          65.0  \n",
       "2          80.0  \n",
       "3          67.5  \n",
       "4           7.5  \n",
       "..          ...  \n",
       "99        100.0  \n",
       "100        85.0  \n",
       "101        50.0  \n",
       "102        21.0  \n",
       "103        55.0  \n",
       "\n",
       "[104 rows x 12 columns]"
      ]
     },
     "execution_count": 24,
     "metadata": {},
     "output_type": "execute_result"
    }
   ],
   "source": [
    "# create the intersection of these two tables, merged on breed and only including those breeds which appear in both tables\n",
    "dog_table = dog_intel.merge(breed_info, how = 'inner' ,indicator=False)\n",
    "dog_table"
   ]
  },
  {
   "cell_type": "code",
   "execution_count": null,
   "id": "4361b48e",
   "metadata": {
    "papermill": {
     "duration": 0.010304,
     "end_time": "2023-02-07T18:18:56.298537",
     "exception": false,
     "start_time": "2023-02-07T18:18:56.288233",
     "status": "completed"
    },
    "tags": []
   },
   "outputs": [],
   "source": []
  }
 ],
 "metadata": {
  "kernelspec": {
   "display_name": "Python 3",
   "language": "python",
   "name": "python3"
  },
  "language_info": {
   "codemirror_mode": {
    "name": "ipython",
    "version": 3
   },
   "file_extension": ".py",
   "mimetype": "text/x-python",
   "name": "python",
   "nbconvert_exporter": "python",
   "pygments_lexer": "ipython3",
   "version": "3.7.12"
  },
  "papermill": {
   "default_parameters": {},
   "duration": 10.985317,
   "end_time": "2023-02-07T18:18:57.031366",
   "environment_variables": {},
   "exception": null,
   "input_path": "__notebook__.ipynb",
   "output_path": "__notebook__.ipynb",
   "parameters": {},
   "start_time": "2023-02-07T18:18:46.046049",
   "version": "2.3.4"
  }
 },
 "nbformat": 4,
 "nbformat_minor": 5
}
