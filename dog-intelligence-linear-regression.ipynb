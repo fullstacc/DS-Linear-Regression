{
 "cells": [
  {
   "cell_type": "markdown",
   "id": "b8ebb8fe",
   "metadata": {
    "execution": {
     "iopub.execute_input": "2023-02-01T13:45:49.380694Z",
     "iopub.status.busy": "2023-02-01T13:45:49.380184Z",
     "iopub.status.idle": "2023-02-01T13:45:49.428453Z",
     "shell.execute_reply": "2023-02-01T13:45:49.427095Z",
     "shell.execute_reply.started": "2023-02-01T13:45:49.380650Z"
    },
    "papermill": {
     "duration": 0.010635,
     "end_time": "2023-02-07T18:17:59.502752",
     "exception": false,
     "start_time": "2023-02-07T18:17:59.492117",
     "status": "completed"
    },
    "tags": []
   },
   "source": [
    "# Using Linear Regression to Predict Canine Intelligence\n",
    "This notebook utilizes the dog intelligence dataset hosted on Kaggle and provided by the American Kennel Club in order to estimate dog intelligence using a linear regression model."
   ]
  },
  {
   "cell_type": "code",
   "execution_count": 1,
   "id": "c916e073",
   "metadata": {
    "_cell_guid": "b1076dfc-b9ad-4769-8c92-a6c4dae69d19",
    "_uuid": "8f2839f25d086af736a60e9eeb907d3b93b6e0e5",
    "execution": {
     "iopub.execute_input": "2023-02-07T18:17:59.526156Z",
     "iopub.status.busy": "2023-02-07T18:17:59.525164Z",
     "iopub.status.idle": "2023-02-07T18:17:59.553062Z",
     "shell.execute_reply": "2023-02-07T18:17:59.551777Z"
    },
    "papermill": {
     "duration": 0.043545,
     "end_time": "2023-02-07T18:17:59.556089",
     "exception": false,
     "start_time": "2023-02-07T18:17:59.512544",
     "status": "completed"
    },
    "tags": []
   },
   "outputs": [
    {
     "name": "stdout",
     "output_type": "stream",
     "text": [
      "/kaggle/input/canine-intelligence-and-size/AKC Breed Info.csv\n",
      "/kaggle/input/canine-intelligence-and-size/dog_intelligence.csv\n"
     ]
    }
   ],
   "source": [
    "# This Python 3 environment comes with many helpful analytics libraries installed\n",
    "# It is defined by the kaggle/python Docker image: https://github.com/kaggle/docker-python\n",
    "# For example, here's several helpful packages to load\n",
    "\n",
    "import numpy as np # linear algebra\n",
    "import pandas as pd # data processing, CSV file I/O (e.g. pd.read_csv)\n",
    "\n",
    "# Input data files are available in the read-only \"../input/\" directory\n",
    "# For example, running this (by clicking run or pressing Shift+Enter) will list all files under the input directory\n",
    "\n",
    "import os\n",
    "for dirname, _, filenames in os.walk('/kaggle/input'):\n",
    "    for filename in filenames:\n",
    "        print(os.path.join(dirname, filename))\n",
    "\n",
    "# You can write up to 20GB to the current directory (/kaggle/working/) that gets preserved as output when you create a version using \"Save & Run All\" \n",
    "# You can also write temporary files to /kaggle/temp/, but they won't be saved outside of the current session"
   ]
  },
  {
   "cell_type": "markdown",
   "id": "310c4969",
   "metadata": {
    "papermill": {
     "duration": 0.008445,
     "end_time": "2023-02-07T18:17:59.573956",
     "exception": false,
     "start_time": "2023-02-07T18:17:59.565511",
     "status": "completed"
    },
    "tags": []
   },
   "source": [
    "## Data Loading"
   ]
  },
  {
   "cell_type": "code",
   "execution_count": 2,
   "id": "21c9cd68",
   "metadata": {
    "execution": {
     "iopub.execute_input": "2023-02-07T18:17:59.593598Z",
     "iopub.status.busy": "2023-02-07T18:17:59.593199Z",
     "iopub.status.idle": "2023-02-07T18:17:59.614372Z",
     "shell.execute_reply": "2023-02-07T18:17:59.613050Z"
    },
    "papermill": {
     "duration": 0.035196,
     "end_time": "2023-02-07T18:17:59.617922",
     "exception": false,
     "start_time": "2023-02-07T18:17:59.582726",
     "status": "completed"
    },
    "tags": []
   },
   "outputs": [],
   "source": [
    "# load data\n",
    "breed_info = pd.read_csv('/kaggle/input/canine-intelligence-and-size/AKC Breed Info.csv')\n",
    "dog_intel = pd.read_csv('/kaggle/input/canine-intelligence-and-size/dog_intelligence.csv')"
   ]
  },
  {
   "cell_type": "markdown",
   "id": "42c0a21f",
   "metadata": {
    "papermill": {
     "duration": 0.009637,
     "end_time": "2023-02-07T18:17:59.639612",
     "exception": false,
     "start_time": "2023-02-07T18:17:59.629975",
     "status": "completed"
    },
    "tags": []
   },
   "source": [
    "## Data Cleaning & Exploratory Data Analysis (EDA)"
   ]
  },
  {
   "cell_type": "code",
   "execution_count": 3,
   "id": "8c0c7b07",
   "metadata": {
    "execution": {
     "iopub.execute_input": "2023-02-07T18:17:59.664232Z",
     "iopub.status.busy": "2023-02-07T18:17:59.663013Z",
     "iopub.status.idle": "2023-02-07T18:17:59.690176Z",
     "shell.execute_reply": "2023-02-07T18:17:59.689245Z"
    },
    "papermill": {
     "duration": 0.044966,
     "end_time": "2023-02-07T18:17:59.693606",
     "exception": false,
     "start_time": "2023-02-07T18:17:59.648640",
     "status": "completed"
    },
    "tags": []
   },
   "outputs": [
    {
     "data": {
      "text/html": [
       "<div>\n",
       "<style scoped>\n",
       "    .dataframe tbody tr th:only-of-type {\n",
       "        vertical-align: middle;\n",
       "    }\n",
       "\n",
       "    .dataframe tbody tr th {\n",
       "        vertical-align: top;\n",
       "    }\n",
       "\n",
       "    .dataframe thead th {\n",
       "        text-align: right;\n",
       "    }\n",
       "</style>\n",
       "<table border=\"1\" class=\"dataframe\">\n",
       "  <thead>\n",
       "    <tr style=\"text-align: right;\">\n",
       "      <th></th>\n",
       "      <th>index</th>\n",
       "      <th>Breed</th>\n",
       "      <th>height_low_inches</th>\n",
       "      <th>height_high_inches</th>\n",
       "      <th>weight_low_lbs</th>\n",
       "      <th>weight_high_lbs</th>\n",
       "    </tr>\n",
       "  </thead>\n",
       "  <tbody>\n",
       "    <tr>\n",
       "      <th>0</th>\n",
       "      <td>0</td>\n",
       "      <td>Akita</td>\n",
       "      <td>26</td>\n",
       "      <td>28</td>\n",
       "      <td>80</td>\n",
       "      <td>120</td>\n",
       "    </tr>\n",
       "    <tr>\n",
       "      <th>1</th>\n",
       "      <td>1</td>\n",
       "      <td>Anatolian Sheepdog</td>\n",
       "      <td>27</td>\n",
       "      <td>29</td>\n",
       "      <td>100</td>\n",
       "      <td>150</td>\n",
       "    </tr>\n",
       "    <tr>\n",
       "      <th>2</th>\n",
       "      <td>2</td>\n",
       "      <td>Bernese Mountain Dog</td>\n",
       "      <td>23</td>\n",
       "      <td>27</td>\n",
       "      <td>85</td>\n",
       "      <td>110</td>\n",
       "    </tr>\n",
       "    <tr>\n",
       "      <th>3</th>\n",
       "      <td>3</td>\n",
       "      <td>Bloodhound</td>\n",
       "      <td>24</td>\n",
       "      <td>26</td>\n",
       "      <td>80</td>\n",
       "      <td>120</td>\n",
       "    </tr>\n",
       "    <tr>\n",
       "      <th>4</th>\n",
       "      <td>4</td>\n",
       "      <td>Borzoi</td>\n",
       "      <td>26</td>\n",
       "      <td>28</td>\n",
       "      <td>70</td>\n",
       "      <td>100</td>\n",
       "    </tr>\n",
       "  </tbody>\n",
       "</table>\n",
       "</div>"
      ],
      "text/plain": [
       "   index                 Breed height_low_inches height_high_inches  \\\n",
       "0      0                 Akita                26                 28   \n",
       "1      1    Anatolian Sheepdog                27                 29   \n",
       "2      2  Bernese Mountain Dog                23                 27   \n",
       "3      3            Bloodhound                24                 26   \n",
       "4      4                Borzoi                26                 28   \n",
       "\n",
       "  weight_low_lbs weight_high_lbs  \n",
       "0             80             120  \n",
       "1            100             150  \n",
       "2             85             110  \n",
       "3             80             120  \n",
       "4             70             100  "
      ]
     },
     "execution_count": 3,
     "metadata": {},
     "output_type": "execute_result"
    }
   ],
   "source": [
    "# Dog Breed Info\n",
    "breed_info.head()"
   ]
  },
  {
   "cell_type": "code",
   "execution_count": 4,
   "id": "146cb4f2",
   "metadata": {
    "execution": {
     "iopub.execute_input": "2023-02-07T18:17:59.717766Z",
     "iopub.status.busy": "2023-02-07T18:17:59.716477Z",
     "iopub.status.idle": "2023-02-07T18:17:59.724906Z",
     "shell.execute_reply": "2023-02-07T18:17:59.723750Z"
    },
    "papermill": {
     "duration": 0.024194,
     "end_time": "2023-02-07T18:17:59.727811",
     "exception": false,
     "start_time": "2023-02-07T18:17:59.703617",
     "status": "completed"
    },
    "tags": []
   },
   "outputs": [
    {
     "data": {
      "text/plain": [
       "(150, 6)"
      ]
     },
     "execution_count": 4,
     "metadata": {},
     "output_type": "execute_result"
    }
   ],
   "source": [
    "breed_info.shape"
   ]
  },
  {
   "cell_type": "code",
   "execution_count": 5,
   "id": "70c47d5a",
   "metadata": {
    "execution": {
     "iopub.execute_input": "2023-02-07T18:17:59.748604Z",
     "iopub.status.busy": "2023-02-07T18:17:59.748183Z",
     "iopub.status.idle": "2023-02-07T18:17:59.757131Z",
     "shell.execute_reply": "2023-02-07T18:17:59.755776Z"
    },
    "papermill": {
     "duration": 0.022048,
     "end_time": "2023-02-07T18:17:59.759832",
     "exception": false,
     "start_time": "2023-02-07T18:17:59.737784",
     "status": "completed"
    },
    "tags": []
   },
   "outputs": [
    {
     "data": {
      "text/plain": [
       "index                  int64\n",
       "Breed                 object\n",
       "height_low_inches     object\n",
       "height_high_inches    object\n",
       "weight_low_lbs        object\n",
       "weight_high_lbs       object\n",
       "dtype: object"
      ]
     },
     "execution_count": 5,
     "metadata": {},
     "output_type": "execute_result"
    }
   ],
   "source": [
    "breed_info.dtypes"
   ]
  },
  {
   "cell_type": "markdown",
   "id": "90798867",
   "metadata": {
    "papermill": {
     "duration": 0.008822,
     "end_time": "2023-02-07T18:17:59.778164",
     "exception": false,
     "start_time": "2023-02-07T18:17:59.769342",
     "status": "completed"
    },
    "tags": []
   },
   "source": [
    "---"
   ]
  },
  {
   "cell_type": "code",
   "execution_count": 6,
   "id": "96d8f1d3",
   "metadata": {
    "execution": {
     "iopub.execute_input": "2023-02-07T18:17:59.798131Z",
     "iopub.status.busy": "2023-02-07T18:17:59.797683Z",
     "iopub.status.idle": "2023-02-07T18:17:59.810890Z",
     "shell.execute_reply": "2023-02-07T18:17:59.809684Z"
    },
    "papermill": {
     "duration": 0.026256,
     "end_time": "2023-02-07T18:17:59.813441",
     "exception": false,
     "start_time": "2023-02-07T18:17:59.787185",
     "status": "completed"
    },
    "tags": []
   },
   "outputs": [
    {
     "data": {
      "text/html": [
       "<div>\n",
       "<style scoped>\n",
       "    .dataframe tbody tr th:only-of-type {\n",
       "        vertical-align: middle;\n",
       "    }\n",
       "\n",
       "    .dataframe tbody tr th {\n",
       "        vertical-align: top;\n",
       "    }\n",
       "\n",
       "    .dataframe thead th {\n",
       "        text-align: right;\n",
       "    }\n",
       "</style>\n",
       "<table border=\"1\" class=\"dataframe\">\n",
       "  <thead>\n",
       "    <tr style=\"text-align: right;\">\n",
       "      <th></th>\n",
       "      <th>index</th>\n",
       "      <th>Breed</th>\n",
       "      <th>Classification</th>\n",
       "      <th>obey</th>\n",
       "      <th>reps_lower</th>\n",
       "      <th>reps_upper</th>\n",
       "    </tr>\n",
       "  </thead>\n",
       "  <tbody>\n",
       "    <tr>\n",
       "      <th>0</th>\n",
       "      <td>0</td>\n",
       "      <td>Border Collie</td>\n",
       "      <td>Brightest Dogs</td>\n",
       "      <td>95%</td>\n",
       "      <td>1</td>\n",
       "      <td>4</td>\n",
       "    </tr>\n",
       "    <tr>\n",
       "      <th>1</th>\n",
       "      <td>1</td>\n",
       "      <td>Poodle</td>\n",
       "      <td>Brightest Dogs</td>\n",
       "      <td>95%</td>\n",
       "      <td>1</td>\n",
       "      <td>4</td>\n",
       "    </tr>\n",
       "    <tr>\n",
       "      <th>2</th>\n",
       "      <td>2</td>\n",
       "      <td>German Shepherd</td>\n",
       "      <td>Brightest Dogs</td>\n",
       "      <td>95%</td>\n",
       "      <td>1</td>\n",
       "      <td>4</td>\n",
       "    </tr>\n",
       "    <tr>\n",
       "      <th>3</th>\n",
       "      <td>3</td>\n",
       "      <td>Golden Retriever</td>\n",
       "      <td>Brightest Dogs</td>\n",
       "      <td>95%</td>\n",
       "      <td>1</td>\n",
       "      <td>4</td>\n",
       "    </tr>\n",
       "    <tr>\n",
       "      <th>4</th>\n",
       "      <td>4</td>\n",
       "      <td>Doberman Pinscher</td>\n",
       "      <td>Brightest Dogs</td>\n",
       "      <td>95%</td>\n",
       "      <td>1</td>\n",
       "      <td>4</td>\n",
       "    </tr>\n",
       "  </tbody>\n",
       "</table>\n",
       "</div>"
      ],
      "text/plain": [
       "   index              Breed  Classification obey  reps_lower  reps_upper\n",
       "0      0      Border Collie  Brightest Dogs  95%           1           4\n",
       "1      1             Poodle  Brightest Dogs  95%           1           4\n",
       "2      2    German Shepherd  Brightest Dogs  95%           1           4\n",
       "3      3   Golden Retriever  Brightest Dogs  95%           1           4\n",
       "4      4  Doberman Pinscher  Brightest Dogs  95%           1           4"
      ]
     },
     "execution_count": 6,
     "metadata": {},
     "output_type": "execute_result"
    }
   ],
   "source": [
    "# Dog Intelligence\n",
    "dog_intel.head()"
   ]
  },
  {
   "cell_type": "code",
   "execution_count": 7,
   "id": "85be1b7d",
   "metadata": {
    "execution": {
     "iopub.execute_input": "2023-02-07T18:17:59.834203Z",
     "iopub.status.busy": "2023-02-07T18:17:59.833761Z",
     "iopub.status.idle": "2023-02-07T18:17:59.840850Z",
     "shell.execute_reply": "2023-02-07T18:17:59.839731Z"
    },
    "papermill": {
     "duration": 0.020176,
     "end_time": "2023-02-07T18:17:59.843169",
     "exception": false,
     "start_time": "2023-02-07T18:17:59.822993",
     "status": "completed"
    },
    "tags": []
   },
   "outputs": [
    {
     "data": {
      "text/plain": [
       "(150, 6)"
      ]
     },
     "execution_count": 7,
     "metadata": {},
     "output_type": "execute_result"
    }
   ],
   "source": [
    "breed_info.shape"
   ]
  },
  {
   "cell_type": "code",
   "execution_count": 8,
   "id": "f9ad53e3",
   "metadata": {
    "execution": {
     "iopub.execute_input": "2023-02-07T18:17:59.863604Z",
     "iopub.status.busy": "2023-02-07T18:17:59.863162Z",
     "iopub.status.idle": "2023-02-07T18:17:59.872234Z",
     "shell.execute_reply": "2023-02-07T18:17:59.871040Z"
    },
    "papermill": {
     "duration": 0.022238,
     "end_time": "2023-02-07T18:17:59.874684",
     "exception": false,
     "start_time": "2023-02-07T18:17:59.852446",
     "status": "completed"
    },
    "tags": []
   },
   "outputs": [
    {
     "data": {
      "text/plain": [
       "index              int64\n",
       "Breed             object\n",
       "Classification    object\n",
       "obey              object\n",
       "reps_lower         int64\n",
       "reps_upper         int64\n",
       "dtype: object"
      ]
     },
     "execution_count": 8,
     "metadata": {},
     "output_type": "execute_result"
    }
   ],
   "source": [
    "dog_intel.dtypes"
   ]
  },
  {
   "cell_type": "code",
   "execution_count": 9,
   "id": "7f43630d",
   "metadata": {
    "execution": {
     "iopub.execute_input": "2023-02-07T18:17:59.896294Z",
     "iopub.status.busy": "2023-02-07T18:17:59.895463Z",
     "iopub.status.idle": "2023-02-07T18:17:59.900239Z",
     "shell.execute_reply": "2023-02-07T18:17:59.899413Z"
    },
    "papermill": {
     "duration": 0.018131,
     "end_time": "2023-02-07T18:17:59.902494",
     "exception": false,
     "start_time": "2023-02-07T18:17:59.884363",
     "status": "completed"
    },
    "tags": []
   },
   "outputs": [],
   "source": [
    "# depict null values as a histogram"
   ]
  },
  {
   "cell_type": "markdown",
   "id": "870e053f",
   "metadata": {
    "execution": {
     "iopub.execute_input": "2023-02-01T13:51:11.800152Z",
     "iopub.status.busy": "2023-02-01T13:51:11.799739Z",
     "iopub.status.idle": "2023-02-01T13:51:11.807199Z",
     "shell.execute_reply": "2023-02-01T13:51:11.805441Z",
     "shell.execute_reply.started": "2023-02-01T13:51:11.800118Z"
    },
    "papermill": {
     "duration": 0.009178,
     "end_time": "2023-02-07T18:17:59.921175",
     "exception": false,
     "start_time": "2023-02-07T18:17:59.911997",
     "status": "completed"
    },
    "tags": []
   },
   "source": [
    "## Data Cleaning"
   ]
  },
  {
   "cell_type": "code",
   "execution_count": 10,
   "id": "b6571915",
   "metadata": {
    "execution": {
     "iopub.execute_input": "2023-02-07T18:17:59.942811Z",
     "iopub.status.busy": "2023-02-07T18:17:59.942009Z",
     "iopub.status.idle": "2023-02-07T18:17:59.971112Z",
     "shell.execute_reply": "2023-02-07T18:17:59.969559Z"
    },
    "papermill": {
     "duration": 0.044246,
     "end_time": "2023-02-07T18:17:59.975058",
     "exception": false,
     "start_time": "2023-02-07T18:17:59.930812",
     "status": "completed"
    },
    "tags": []
   },
   "outputs": [
    {
     "name": "stdout",
     "output_type": "stream",
     "text": [
      "['26' '27' '23' '24' '25' '32' '28' '22' 'na' '21' '19' '20' '26.5' '15'\n",
      " '17' '18' '14' '12' '10' '13' '16' '48' '9' '9.5' '7' 'not found' '11'\n",
      " '8' '6']\n",
      "['28' '29' '27' '26' '32' '35' '30' 'na' '25' '20' '24' '35.5' '19' '18'\n",
      " '23' '14' '22' '21' '16' '17' '15' '66' '10' '11.5' '8' '12' 'not found'\n",
      " '11' '13' '9']\n",
      "['80' '100' '85' '70' '120' '95' '130' '90' '175' '65' '110' '50' 'na'\n",
      " '60' '75' '74' '55' '35' '45' '140' '40' '25' '30' '22' '31' '42' '44'\n",
      " '24' '33' '10' '20' '18' '12' '15' '6' '14' 'not found' '16' '8' '9' '17'\n",
      " '34' '29' '13' '27' '2' '5' '4' '3']\n",
      "['120' '150' '110' '100' '130' '160' '190' '60' 'na' '70' '65' '75' '140'\n",
      " '95' '76' '80' '90' '135' '45' '85' '170' '50' '40' '55' '28' '35' '27'\n",
      " '66' '33' '25' '30' '14' '22' '23' '18' '15' '12' '20' 'not found' '32'\n",
      " '11' '36' '17' '16' '21' '5' '10' '6' '8' '7']\n"
     ]
    }
   ],
   "source": [
    "# find & clear null values\n",
    "obj_cols = ['height_low_inches','height_high_inches','weight_low_lbs','weight_high_lbs']\n",
    "for i in obj_cols:\n",
    "    print(breed_info[i].unique())\n",
    "\n",
    "# alaskan malamute and coton de tulear: have no data for all fields in height/weight, so we can't use them\n",
    "# dropping 2 rows based on value\n",
    "breed_info = breed_info[breed_info['height_low_inches'] != 'na']\n",
    "breed_info = breed_info[breed_info['height_low_inches'] != 'not found']\n",
    "\n",
    "# convert numeric columns to numbers\n",
    "for i in obj_cols:\n",
    "    breed_info[i] = pd.to_numeric(breed_info[i])\n",
    "    \n",
    "# drop the 'index' column\n",
    "breed_info = breed_info.drop('index', axis=1)\n",
    "\n",
    "# calculate average columns based on height and weight\n",
    "# drop the 'index' column\n",
    "breed_info['avg_height'] = (breed_info['height_high_inches'] + breed_info['height_low_inches'])/2\n",
    "breed_info['avg_weight'] = (breed_info['weight_high_lbs'] + breed_info['weight_low_lbs'])/2"
   ]
  },
  {
   "cell_type": "markdown",
   "id": "26f39071",
   "metadata": {
    "papermill": {
     "duration": 0.009422,
     "end_time": "2023-02-07T18:17:59.994651",
     "exception": false,
     "start_time": "2023-02-07T18:17:59.985229",
     "status": "completed"
    },
    "tags": []
   },
   "source": [
    "---"
   ]
  },
  {
   "cell_type": "code",
   "execution_count": 11,
   "id": "b59361da",
   "metadata": {
    "execution": {
     "iopub.execute_input": "2023-02-07T18:18:00.016869Z",
     "iopub.status.busy": "2023-02-07T18:18:00.016032Z",
     "iopub.status.idle": "2023-02-07T18:18:00.032502Z",
     "shell.execute_reply": "2023-02-07T18:18:00.031104Z"
    },
    "papermill": {
     "duration": 0.030212,
     "end_time": "2023-02-07T18:18:00.035119",
     "exception": false,
     "start_time": "2023-02-07T18:18:00.004907",
     "status": "completed"
    },
    "tags": []
   },
   "outputs": [
    {
     "data": {
      "text/html": [
       "<div>\n",
       "<style scoped>\n",
       "    .dataframe tbody tr th:only-of-type {\n",
       "        vertical-align: middle;\n",
       "    }\n",
       "\n",
       "    .dataframe tbody tr th {\n",
       "        vertical-align: top;\n",
       "    }\n",
       "\n",
       "    .dataframe thead th {\n",
       "        text-align: right;\n",
       "    }\n",
       "</style>\n",
       "<table border=\"1\" class=\"dataframe\">\n",
       "  <thead>\n",
       "    <tr style=\"text-align: right;\">\n",
       "      <th></th>\n",
       "      <th>Breed</th>\n",
       "      <th>height_low_inches</th>\n",
       "      <th>height_high_inches</th>\n",
       "      <th>weight_low_lbs</th>\n",
       "      <th>weight_high_lbs</th>\n",
       "      <th>avg_height</th>\n",
       "      <th>avg_weight</th>\n",
       "    </tr>\n",
       "  </thead>\n",
       "  <tbody>\n",
       "    <tr>\n",
       "      <th>0</th>\n",
       "      <td>Akita</td>\n",
       "      <td>26.0</td>\n",
       "      <td>28.0</td>\n",
       "      <td>80</td>\n",
       "      <td>120</td>\n",
       "      <td>27.0</td>\n",
       "      <td>100.0</td>\n",
       "    </tr>\n",
       "    <tr>\n",
       "      <th>1</th>\n",
       "      <td>Anatolian Sheepdog</td>\n",
       "      <td>27.0</td>\n",
       "      <td>29.0</td>\n",
       "      <td>100</td>\n",
       "      <td>150</td>\n",
       "      <td>28.0</td>\n",
       "      <td>125.0</td>\n",
       "    </tr>\n",
       "    <tr>\n",
       "      <th>2</th>\n",
       "      <td>Bernese Mountain Dog</td>\n",
       "      <td>23.0</td>\n",
       "      <td>27.0</td>\n",
       "      <td>85</td>\n",
       "      <td>110</td>\n",
       "      <td>25.0</td>\n",
       "      <td>97.5</td>\n",
       "    </tr>\n",
       "    <tr>\n",
       "      <th>3</th>\n",
       "      <td>Bloodhound</td>\n",
       "      <td>24.0</td>\n",
       "      <td>26.0</td>\n",
       "      <td>80</td>\n",
       "      <td>120</td>\n",
       "      <td>25.0</td>\n",
       "      <td>100.0</td>\n",
       "    </tr>\n",
       "    <tr>\n",
       "      <th>4</th>\n",
       "      <td>Borzoi</td>\n",
       "      <td>26.0</td>\n",
       "      <td>28.0</td>\n",
       "      <td>70</td>\n",
       "      <td>100</td>\n",
       "      <td>27.0</td>\n",
       "      <td>85.0</td>\n",
       "    </tr>\n",
       "  </tbody>\n",
       "</table>\n",
       "</div>"
      ],
      "text/plain": [
       "                  Breed  height_low_inches  height_high_inches  \\\n",
       "0                 Akita               26.0                28.0   \n",
       "1    Anatolian Sheepdog               27.0                29.0   \n",
       "2  Bernese Mountain Dog               23.0                27.0   \n",
       "3            Bloodhound               24.0                26.0   \n",
       "4                Borzoi               26.0                28.0   \n",
       "\n",
       "   weight_low_lbs  weight_high_lbs  avg_height  avg_weight  \n",
       "0              80              120        27.0       100.0  \n",
       "1             100              150        28.0       125.0  \n",
       "2              85              110        25.0        97.5  \n",
       "3              80              120        25.0       100.0  \n",
       "4              70              100        27.0        85.0  "
      ]
     },
     "execution_count": 11,
     "metadata": {},
     "output_type": "execute_result"
    }
   ],
   "source": [
    "breed_info.head()"
   ]
  },
  {
   "cell_type": "code",
   "execution_count": 12,
   "id": "ffd80ec7",
   "metadata": {
    "execution": {
     "iopub.execute_input": "2023-02-07T18:18:00.056913Z",
     "iopub.status.busy": "2023-02-07T18:18:00.056477Z",
     "iopub.status.idle": "2023-02-07T18:18:00.064136Z",
     "shell.execute_reply": "2023-02-07T18:18:00.063256Z"
    },
    "papermill": {
     "duration": 0.021509,
     "end_time": "2023-02-07T18:18:00.066483",
     "exception": false,
     "start_time": "2023-02-07T18:18:00.044974",
     "status": "completed"
    },
    "tags": []
   },
   "outputs": [
    {
     "data": {
      "text/plain": [
       "array(['Akita', 'Anatolian Sheepdog', 'Bernese Mountain Dog',\n",
       "       'Bloodhound', 'Borzoi', 'Bullmastiff', 'Great Dane',\n",
       "       'Great Pyrenees', 'Great Swiss Mountain Dog', 'Irish Wolfhound',\n",
       "       'Kuvasz', 'Mastiff', 'Neopolitan Mastiff', 'Newfoundland',\n",
       "       'Otter Hound', 'Rottweiler', 'Saint Bernard', 'Afghan Hound',\n",
       "       'American Foxhound', 'Beauceron', 'Belgian Malinois',\n",
       "       'Belgian Sheepdog', 'Belgian Tervuren', 'Black And Tan Coonhound',\n",
       "       'Black Russian Terrier', 'Bouvier Des Flandres', 'Boxer', 'Briard',\n",
       "       'Chesapeake Bay Retriever', 'Clumber Spaniel',\n",
       "       'Collie (Rough) & (Smooth)', 'Curly Coated Retriever',\n",
       "       'Doberman Pinscher', 'English Foxhound', 'English Setter',\n",
       "       'German Shepherd Dog', 'German Shorthaired Pointer',\n",
       "       'German Wirehaired Pointer', 'Giant Schnauzer', 'Golden Retriever',\n",
       "       'Gordon Setter', 'Greyhound', 'Irish Setter', 'Komondor',\n",
       "       'Labrador Retriever', 'Old English Sheepdog (Bobtail)',\n",
       "       'Poodle Standard', 'Rhodesian Ridgeback', 'Scottish Deerhound',\n",
       "       'Spinone Italiano', 'Tibetan Mastiff', 'Weimaraner',\n",
       "       'Airdale Terrier', 'American Staffordshire Terrier',\n",
       "       'American Water Spaniel', 'Australian Cattle Dog',\n",
       "       'Australian Shepherd', 'Basset Hound', 'Bearded Collie',\n",
       "       'Border Collie', 'Brittany', 'Bull Dog', 'Bull Terrier',\n",
       "       'Canaan Dog', 'Chinese Shar Pei', 'Chow Chow',\n",
       "       'Cocker Spaniel-American', 'Cocker Spaniel-English', 'Dalmatian',\n",
       "       'English Springer Spaniel', 'Field Spaniel',\n",
       "       'Flat Coated Retriever', 'Finnish Spitz', 'Harrier',\n",
       "       'Ibizan Hound', 'Irish Terrier', 'Irish Water Spaniel', 'Keeshond',\n",
       "       'Kerry Blue Terrier', 'Norwegian Elkhound',\n",
       "       'Nova Scotia Duck Tolling Retriever',\n",
       "       'Petit Basset Griffon Vendeen', 'Pharaoh Hound', 'Plott Hound',\n",
       "       'Pointer', 'Polish Lowland Sheepdog', 'Portuguese Water Dog',\n",
       "       'Redbone Coonhound', 'Saluki', 'Samoyed', 'Siberian Husky',\n",
       "       'Soft-Coated Wheaten Terrier', 'Staffordshire Bull Terrier',\n",
       "       'Standard Schnauzer', 'Sussex Spaniel', 'Vizsla',\n",
       "       'Welsh Springer Spaniel', 'Wirehaired Pointing Griffon',\n",
       "       'American Eskimo', 'Australian Terrier', 'Basenji', 'Beagle',\n",
       "       'Bedlington Terrier', 'Bichon Frise', 'Border Terrier',\n",
       "       'Boston Terrier', 'Brussels Griffon', 'Cairn Terrier',\n",
       "       'Cardigan Welsh Corgi', 'Cavalier King Charles Spaniel',\n",
       "       'Dachshund', 'Dandie Dinmont Terrier', 'English Toy Spaniel',\n",
       "       'Fox Terrier ‰ÛÒ Smooth', 'Fox Terrier ‰ÛÒ Wirehair',\n",
       "       'French Bulldog', 'German Pinscher', 'Glen Imaal Terrier',\n",
       "       'Lakeland Terrier', 'Manchester Terrier (Standard)',\n",
       "       'Poodle Miniature', 'Pug', 'Puli', 'Schipperke',\n",
       "       'Scottish Terrier', 'Sealyham Terrier',\n",
       "       'Shetland Sheepdog (Sheltie)', 'Shiba Inu', 'Shih Tzu',\n",
       "       'Silky Terrier', 'Skye Terrier', 'Tibetan Spaniel',\n",
       "       'Tibetan Terrier', 'Welsh Terrier', 'West Highland White Terrier',\n",
       "       'Whippet', 'Affenpinscher', 'Chihuahua', 'Chinese Crested',\n",
       "       'Italian Greyhound', 'Japanese Chin', 'Maltese',\n",
       "       'Manchester Terrier (Toy)', 'Papillon', 'Pomeranian', 'Poodle Toy',\n",
       "       'Toy Fox Terrier', 'Yorkshire Terrier'], dtype=object)"
      ]
     },
     "execution_count": 12,
     "metadata": {},
     "output_type": "execute_result"
    }
   ],
   "source": [
    "breed_info['Breed'].unique()"
   ]
  },
  {
   "cell_type": "code",
   "execution_count": 13,
   "id": "a4e41597",
   "metadata": {
    "execution": {
     "iopub.execute_input": "2023-02-07T18:18:00.088904Z",
     "iopub.status.busy": "2023-02-07T18:18:00.088431Z",
     "iopub.status.idle": "2023-02-07T18:18:00.096382Z",
     "shell.execute_reply": "2023-02-07T18:18:00.095128Z"
    },
    "papermill": {
     "duration": 0.021905,
     "end_time": "2023-02-07T18:18:00.098775",
     "exception": false,
     "start_time": "2023-02-07T18:18:00.076870",
     "status": "completed"
    },
    "tags": []
   },
   "outputs": [],
   "source": [
    "# clean 'dog_intel' data\n",
    "\n",
    "\n",
    "# drop 'index' column\n",
    "dog_intel = dog_intel.drop('index', axis=1)\n",
    "\n",
    "# convert 'Classification' to categorical datatype\n",
    "dog_intel['Classification'] = dog_intel['Classification'].astype('category')\n",
    "\n"
   ]
  },
  {
   "cell_type": "code",
   "execution_count": 14,
   "id": "14d70013",
   "metadata": {
    "execution": {
     "iopub.execute_input": "2023-02-07T18:18:00.122232Z",
     "iopub.status.busy": "2023-02-07T18:18:00.120935Z",
     "iopub.status.idle": "2023-02-07T18:18:00.128123Z",
     "shell.execute_reply": "2023-02-07T18:18:00.126876Z"
    },
    "papermill": {
     "duration": 0.021437,
     "end_time": "2023-02-07T18:18:00.130848",
     "exception": false,
     "start_time": "2023-02-07T18:18:00.109411",
     "status": "completed"
    },
    "tags": []
   },
   "outputs": [],
   "source": [
    "# convert 'Classification' to categorical datatype\n",
    "dog_intel['Classification'] = dog_intel['Classification'].astype('category')"
   ]
  },
  {
   "cell_type": "code",
   "execution_count": 15,
   "id": "564c714b",
   "metadata": {
    "execution": {
     "iopub.execute_input": "2023-02-07T18:18:00.153365Z",
     "iopub.status.busy": "2023-02-07T18:18:00.152973Z",
     "iopub.status.idle": "2023-02-07T18:18:00.161094Z",
     "shell.execute_reply": "2023-02-07T18:18:00.160198Z"
    },
    "papermill": {
     "duration": 0.022299,
     "end_time": "2023-02-07T18:18:00.163623",
     "exception": false,
     "start_time": "2023-02-07T18:18:00.141324",
     "status": "completed"
    },
    "tags": []
   },
   "outputs": [
    {
     "data": {
      "text/plain": [
       "Breed               object\n",
       "Classification    category\n",
       "obey                object\n",
       "reps_lower           int64\n",
       "reps_upper           int64\n",
       "dtype: object"
      ]
     },
     "execution_count": 15,
     "metadata": {},
     "output_type": "execute_result"
    }
   ],
   "source": [
    "dog_intel.dtypes"
   ]
  },
  {
   "cell_type": "code",
   "execution_count": 16,
   "id": "952ddac1",
   "metadata": {
    "execution": {
     "iopub.execute_input": "2023-02-07T18:18:00.186687Z",
     "iopub.status.busy": "2023-02-07T18:18:00.185986Z",
     "iopub.status.idle": "2023-02-07T18:18:00.192756Z",
     "shell.execute_reply": "2023-02-07T18:18:00.191398Z"
    },
    "papermill": {
     "duration": 0.020919,
     "end_time": "2023-02-07T18:18:00.195130",
     "exception": false,
     "start_time": "2023-02-07T18:18:00.174211",
     "status": "completed"
    },
    "tags": []
   },
   "outputs": [
    {
     "data": {
      "text/plain": [
       "Index(['Breed', 'Classification', 'obey', 'reps_lower', 'reps_upper'], dtype='object')"
      ]
     },
     "execution_count": 16,
     "metadata": {},
     "output_type": "execute_result"
    }
   ],
   "source": [
    "dog_intel.columns"
   ]
  },
  {
   "cell_type": "code",
   "execution_count": 17,
   "id": "cb9c1390",
   "metadata": {
    "execution": {
     "iopub.execute_input": "2023-02-07T18:18:00.218268Z",
     "iopub.status.busy": "2023-02-07T18:18:00.217487Z",
     "iopub.status.idle": "2023-02-07T18:18:00.230250Z",
     "shell.execute_reply": "2023-02-07T18:18:00.229118Z"
    },
    "papermill": {
     "duration": 0.027544,
     "end_time": "2023-02-07T18:18:00.233294",
     "exception": false,
     "start_time": "2023-02-07T18:18:00.205750",
     "status": "completed"
    },
    "tags": []
   },
   "outputs": [
    {
     "name": "stdout",
     "output_type": "stream",
     "text": [
      "['Border Collie' 'Poodle' 'German Shepherd' 'Golden Retriever'\n",
      " 'Doberman Pinscher' 'Shetland Sheepdog' 'Labrador Retriever' 'Papillon'\n",
      " 'Rottweiler' 'Australian Cattle Dog' 'Pembroke Welsh Corgi'\n",
      " 'Miniature Schnauzer' 'English Springer Spaniel'\n",
      " 'Belgian Shepherd Dog (Tervuren)' 'Schipperke' 'Belgian Sheepdog'\n",
      " 'Collie' 'Keeshond' 'German Shorthaired Pointer' 'Flat-Coated Retriever'\n",
      " 'English Cocker Spaniel' 'Standard Schnauzer' 'Brittany' 'Cocker Spaniel'\n",
      " 'Weimaraner' 'Belgian Malinois' 'Bernese Mountain Dog' 'Pomeranian'\n",
      " 'Irish Water Spaniel' 'Vizsla' 'Cardigan Welsh Corgi'\n",
      " 'Chesapeake Bay Retriever' 'Puli' 'Yorkshire Terrier' 'Giant Schnauzer'\n",
      " 'Portuguese Water Dog' 'Airedale Terrier' 'Bouvier des Flandres'\n",
      " 'Border Terrier' 'Briard' 'Welsh Springer Spaniel' 'Manchester Terrier'\n",
      " 'Samoyed' 'Field Spaniel' 'Newfoundland' 'Australian Terrier'\n",
      " 'American Staffordshire Terrier' 'Gordon Setter' 'Bearded Collie'\n",
      " 'Cairn Terrier' 'Kerry Blue Terrier' 'Irish Setter' 'Norwegian Elkhound'\n",
      " 'Affenpinscher' 'Australian Silky Terrier' 'Miniature Pinscher'\n",
      " 'English Setter' 'Pharaoh Hound' 'Clumber Spaniel' 'Norwich Terrier'\n",
      " 'Dalmatian' 'Soft-coated Wheaten Terrier' 'Bedlington Terrier'\n",
      " 'Fox Terrier (Smooth)' 'Curly Coated Retriever' 'Irish Wolfhound'\n",
      " 'Kuvasz' 'Australian Shepherd' 'Saluki' 'Finnish Spitz' 'Pointer'\n",
      " 'Cavalier King Charles Spaniel' 'German Wirehaired Pointer'\n",
      " 'Black and Tan Coonhound' 'American Water Spaniel' 'Siberian Husky'\n",
      " 'Bichon Frise' 'King Charles Spaniel' 'Tibetan Spaniel'\n",
      " 'English Foxhound' 'Otterhound' 'Jack Russell terrier'\n",
      " 'American Foxhound' 'Greyhound' 'Wirehaired Pointing Griffon'\n",
      " 'West Highland White Terrier' 'Havanese' 'Scottish Deerhound' 'Boxer'\n",
      " 'Great Dane' 'Dachshund' 'Shiba Inu' 'Staffordshire Bull Terrier'\n",
      " 'Alaskan Malamute' 'Whippet' 'Chinese Shar Pei' 'Wire Fox Terrier'\n",
      " 'Rhodesian Ridgeback' 'Ibizan Hound' 'Welsh Terrier' 'Irish Terrier'\n",
      " 'Boston Terrier' 'Akita' 'Skye Terrier' 'Norfolk Terrier'\n",
      " 'Sealyham Terrier' 'Pug' 'French Bulldog' 'Griffon Bruxellois' 'Maltese'\n",
      " 'Italian Greyhound' 'Chinese Crested' 'Dandie Dinmont Terrier'\n",
      " 'Petit Basset Griffon Vend̩en' 'Tibetan Terrier' 'Japanese Chin'\n",
      " 'Lakeland Terrier' 'Old English Sheepdog' 'Great Pyrenees'\n",
      " 'Scottish Terrier' 'Saint Bernard' 'Bull Terrier' 'Chihuahua'\n",
      " 'Lhasa Apso' 'Bullmastiff' 'Shih Tzu' 'Basset Hound' 'Mastiff' 'Beagle'\n",
      " 'Pekingese' 'Bloodhound' 'Borzoi' 'Chow Chow' 'Bulldog' 'Basenji'\n",
      " 'Afghan Hound']\n",
      "['Brightest Dogs', 'Excellent Working Dogs', 'Above Average Working Dogs', 'Average Working/Obedience Intelligence', 'Fair Working/Obedience Intelligence', 'Lowest Degree of Working/Obedience Intelligen...]\n",
      "Categories (6, object): ['Above Average Working Dogs', 'Average Working/Obedience Intelligence', 'Brightest Dogs', 'Excellent Working Dogs', 'Fair Working/Obedience Intelligence', 'Lowest Degree of Working/Obedience Intelligen...]\n",
      "['95%' '85%' '70%' '50%' '30%' nan]\n",
      "[ 1  5 16 26 41 81]\n",
      "[  4  15  25  40  80 100]\n"
     ]
    }
   ],
   "source": [
    "for i in dog_intel.columns:\n",
    "    print(dog_intel[i].unique())"
   ]
  },
  {
   "cell_type": "code",
   "execution_count": 18,
   "id": "3b8ddff0",
   "metadata": {
    "execution": {
     "iopub.execute_input": "2023-02-07T18:18:00.257086Z",
     "iopub.status.busy": "2023-02-07T18:18:00.256641Z",
     "iopub.status.idle": "2023-02-07T18:18:00.269949Z",
     "shell.execute_reply": "2023-02-07T18:18:00.268587Z"
    },
    "papermill": {
     "duration": 0.028558,
     "end_time": "2023-02-07T18:18:00.272536",
     "exception": false,
     "start_time": "2023-02-07T18:18:00.243978",
     "status": "completed"
    },
    "tags": []
   },
   "outputs": [
    {
     "data": {
      "text/html": [
       "<div>\n",
       "<style scoped>\n",
       "    .dataframe tbody tr th:only-of-type {\n",
       "        vertical-align: middle;\n",
       "    }\n",
       "\n",
       "    .dataframe tbody tr th {\n",
       "        vertical-align: top;\n",
       "    }\n",
       "\n",
       "    .dataframe thead th {\n",
       "        text-align: right;\n",
       "    }\n",
       "</style>\n",
       "<table border=\"1\" class=\"dataframe\">\n",
       "  <thead>\n",
       "    <tr style=\"text-align: right;\">\n",
       "      <th></th>\n",
       "      <th>Breed</th>\n",
       "      <th>Classification</th>\n",
       "      <th>obey</th>\n",
       "      <th>reps_lower</th>\n",
       "      <th>reps_upper</th>\n",
       "    </tr>\n",
       "  </thead>\n",
       "  <tbody>\n",
       "    <tr>\n",
       "      <th>0</th>\n",
       "      <td>Border Collie</td>\n",
       "      <td>Brightest Dogs</td>\n",
       "      <td>95%</td>\n",
       "      <td>1</td>\n",
       "      <td>4</td>\n",
       "    </tr>\n",
       "    <tr>\n",
       "      <th>1</th>\n",
       "      <td>Poodle</td>\n",
       "      <td>Brightest Dogs</td>\n",
       "      <td>95%</td>\n",
       "      <td>1</td>\n",
       "      <td>4</td>\n",
       "    </tr>\n",
       "    <tr>\n",
       "      <th>2</th>\n",
       "      <td>German Shepherd</td>\n",
       "      <td>Brightest Dogs</td>\n",
       "      <td>95%</td>\n",
       "      <td>1</td>\n",
       "      <td>4</td>\n",
       "    </tr>\n",
       "    <tr>\n",
       "      <th>3</th>\n",
       "      <td>Golden Retriever</td>\n",
       "      <td>Brightest Dogs</td>\n",
       "      <td>95%</td>\n",
       "      <td>1</td>\n",
       "      <td>4</td>\n",
       "    </tr>\n",
       "    <tr>\n",
       "      <th>4</th>\n",
       "      <td>Doberman Pinscher</td>\n",
       "      <td>Brightest Dogs</td>\n",
       "      <td>95%</td>\n",
       "      <td>1</td>\n",
       "      <td>4</td>\n",
       "    </tr>\n",
       "  </tbody>\n",
       "</table>\n",
       "</div>"
      ],
      "text/plain": [
       "               Breed  Classification obey  reps_lower  reps_upper\n",
       "0      Border Collie  Brightest Dogs  95%           1           4\n",
       "1             Poodle  Brightest Dogs  95%           1           4\n",
       "2    German Shepherd  Brightest Dogs  95%           1           4\n",
       "3   Golden Retriever  Brightest Dogs  95%           1           4\n",
       "4  Doberman Pinscher  Brightest Dogs  95%           1           4"
      ]
     },
     "execution_count": 18,
     "metadata": {},
     "output_type": "execute_result"
    }
   ],
   "source": [
    "dog_intel.head()"
   ]
  },
  {
   "cell_type": "code",
   "execution_count": 19,
   "id": "a090f453",
   "metadata": {
    "execution": {
     "iopub.execute_input": "2023-02-07T18:18:00.296359Z",
     "iopub.status.busy": "2023-02-07T18:18:00.295899Z",
     "iopub.status.idle": "2023-02-07T18:18:00.310525Z",
     "shell.execute_reply": "2023-02-07T18:18:00.309546Z"
    },
    "papermill": {
     "duration": 0.029997,
     "end_time": "2023-02-07T18:18:00.313434",
     "exception": false,
     "start_time": "2023-02-07T18:18:00.283437",
     "status": "completed"
    },
    "tags": []
   },
   "outputs": [
    {
     "data": {
      "text/html": [
       "<div>\n",
       "<style scoped>\n",
       "    .dataframe tbody tr th:only-of-type {\n",
       "        vertical-align: middle;\n",
       "    }\n",
       "\n",
       "    .dataframe tbody tr th {\n",
       "        vertical-align: top;\n",
       "    }\n",
       "\n",
       "    .dataframe thead th {\n",
       "        text-align: right;\n",
       "    }\n",
       "</style>\n",
       "<table border=\"1\" class=\"dataframe\">\n",
       "  <thead>\n",
       "    <tr style=\"text-align: right;\">\n",
       "      <th></th>\n",
       "      <th>Breed</th>\n",
       "      <th>Classification</th>\n",
       "      <th>obey</th>\n",
       "      <th>reps_lower</th>\n",
       "      <th>reps_upper</th>\n",
       "    </tr>\n",
       "  </thead>\n",
       "  <tbody>\n",
       "    <tr>\n",
       "      <th>125</th>\n",
       "      <td>Shih Tzu</td>\n",
       "      <td>Lowest Degree of Working/Obedience Intelligence</td>\n",
       "      <td>NaN</td>\n",
       "      <td>81</td>\n",
       "      <td>100</td>\n",
       "    </tr>\n",
       "    <tr>\n",
       "      <th>126</th>\n",
       "      <td>Basset Hound</td>\n",
       "      <td>Lowest Degree of Working/Obedience Intelligence</td>\n",
       "      <td>NaN</td>\n",
       "      <td>81</td>\n",
       "      <td>100</td>\n",
       "    </tr>\n",
       "    <tr>\n",
       "      <th>127</th>\n",
       "      <td>Mastiff</td>\n",
       "      <td>Lowest Degree of Working/Obedience Intelligence</td>\n",
       "      <td>NaN</td>\n",
       "      <td>81</td>\n",
       "      <td>100</td>\n",
       "    </tr>\n",
       "    <tr>\n",
       "      <th>128</th>\n",
       "      <td>Beagle</td>\n",
       "      <td>Lowest Degree of Working/Obedience Intelligence</td>\n",
       "      <td>NaN</td>\n",
       "      <td>81</td>\n",
       "      <td>100</td>\n",
       "    </tr>\n",
       "    <tr>\n",
       "      <th>129</th>\n",
       "      <td>Pekingese</td>\n",
       "      <td>Lowest Degree of Working/Obedience Intelligence</td>\n",
       "      <td>NaN</td>\n",
       "      <td>81</td>\n",
       "      <td>100</td>\n",
       "    </tr>\n",
       "    <tr>\n",
       "      <th>130</th>\n",
       "      <td>Bloodhound</td>\n",
       "      <td>Lowest Degree of Working/Obedience Intelligence</td>\n",
       "      <td>NaN</td>\n",
       "      <td>81</td>\n",
       "      <td>100</td>\n",
       "    </tr>\n",
       "    <tr>\n",
       "      <th>131</th>\n",
       "      <td>Borzoi</td>\n",
       "      <td>Lowest Degree of Working/Obedience Intelligence</td>\n",
       "      <td>NaN</td>\n",
       "      <td>81</td>\n",
       "      <td>100</td>\n",
       "    </tr>\n",
       "    <tr>\n",
       "      <th>132</th>\n",
       "      <td>Chow Chow</td>\n",
       "      <td>Lowest Degree of Working/Obedience Intelligence</td>\n",
       "      <td>NaN</td>\n",
       "      <td>81</td>\n",
       "      <td>100</td>\n",
       "    </tr>\n",
       "    <tr>\n",
       "      <th>133</th>\n",
       "      <td>Bulldog</td>\n",
       "      <td>Lowest Degree of Working/Obedience Intelligence</td>\n",
       "      <td>NaN</td>\n",
       "      <td>81</td>\n",
       "      <td>100</td>\n",
       "    </tr>\n",
       "    <tr>\n",
       "      <th>134</th>\n",
       "      <td>Basenji</td>\n",
       "      <td>Lowest Degree of Working/Obedience Intelligence</td>\n",
       "      <td>NaN</td>\n",
       "      <td>81</td>\n",
       "      <td>100</td>\n",
       "    </tr>\n",
       "    <tr>\n",
       "      <th>135</th>\n",
       "      <td>Afghan Hound</td>\n",
       "      <td>Lowest Degree of Working/Obedience Intelligence</td>\n",
       "      <td>NaN</td>\n",
       "      <td>81</td>\n",
       "      <td>100</td>\n",
       "    </tr>\n",
       "  </tbody>\n",
       "</table>\n",
       "</div>"
      ],
      "text/plain": [
       "            Breed                                    Classification obey  \\\n",
       "125      Shih Tzu  Lowest Degree of Working/Obedience Intelligence   NaN   \n",
       "126  Basset Hound  Lowest Degree of Working/Obedience Intelligence   NaN   \n",
       "127       Mastiff  Lowest Degree of Working/Obedience Intelligence   NaN   \n",
       "128        Beagle  Lowest Degree of Working/Obedience Intelligence   NaN   \n",
       "129     Pekingese  Lowest Degree of Working/Obedience Intelligence   NaN   \n",
       "130    Bloodhound  Lowest Degree of Working/Obedience Intelligence   NaN   \n",
       "131        Borzoi  Lowest Degree of Working/Obedience Intelligence   NaN   \n",
       "132     Chow Chow  Lowest Degree of Working/Obedience Intelligence   NaN   \n",
       "133       Bulldog  Lowest Degree of Working/Obedience Intelligence   NaN   \n",
       "134       Basenji  Lowest Degree of Working/Obedience Intelligence   NaN   \n",
       "135  Afghan Hound  Lowest Degree of Working/Obedience Intelligence   NaN   \n",
       "\n",
       "     reps_lower  reps_upper  \n",
       "125          81         100  \n",
       "126          81         100  \n",
       "127          81         100  \n",
       "128          81         100  \n",
       "129          81         100  \n",
       "130          81         100  \n",
       "131          81         100  \n",
       "132          81         100  \n",
       "133          81         100  \n",
       "134          81         100  \n",
       "135          81         100  "
      ]
     },
     "execution_count": 19,
     "metadata": {},
     "output_type": "execute_result"
    }
   ],
   "source": [
    "dog_intel[dog_intel['obey'].isnull()]\n",
    "# dog_intel['obey'].unique()\n"
   ]
  },
  {
   "cell_type": "code",
   "execution_count": 20,
   "id": "1c7281be",
   "metadata": {
    "execution": {
     "iopub.execute_input": "2023-02-07T18:18:00.337962Z",
     "iopub.status.busy": "2023-02-07T18:18:00.336996Z",
     "iopub.status.idle": "2023-02-07T18:18:00.344496Z",
     "shell.execute_reply": "2023-02-07T18:18:00.343254Z"
    },
    "papermill": {
     "duration": 0.022617,
     "end_time": "2023-02-07T18:18:00.347290",
     "exception": false,
     "start_time": "2023-02-07T18:18:00.324673",
     "status": "completed"
    },
    "tags": []
   },
   "outputs": [
    {
     "data": {
      "text/plain": [
       "(136, 5)"
      ]
     },
     "execution_count": 20,
     "metadata": {},
     "output_type": "execute_result"
    }
   ],
   "source": [
    "dog_intel.shape"
   ]
  },
  {
   "cell_type": "code",
   "execution_count": 21,
   "id": "0df85ee7",
   "metadata": {
    "execution": {
     "iopub.execute_input": "2023-02-07T18:18:00.371642Z",
     "iopub.status.busy": "2023-02-07T18:18:00.371243Z",
     "iopub.status.idle": "2023-02-07T18:18:00.382634Z",
     "shell.execute_reply": "2023-02-07T18:18:00.381537Z"
    },
    "papermill": {
     "duration": 0.026384,
     "end_time": "2023-02-07T18:18:00.384870",
     "exception": false,
     "start_time": "2023-02-07T18:18:00.358486",
     "status": "completed"
    },
    "tags": []
   },
   "outputs": [
    {
     "data": {
      "text/html": [
       "<div>\n",
       "<style scoped>\n",
       "    .dataframe tbody tr th:only-of-type {\n",
       "        vertical-align: middle;\n",
       "    }\n",
       "\n",
       "    .dataframe tbody tr th {\n",
       "        vertical-align: top;\n",
       "    }\n",
       "\n",
       "    .dataframe thead th {\n",
       "        text-align: right;\n",
       "    }\n",
       "</style>\n",
       "<table border=\"1\" class=\"dataframe\">\n",
       "  <thead>\n",
       "    <tr style=\"text-align: right;\">\n",
       "      <th></th>\n",
       "      <th>Breed</th>\n",
       "      <th>Classification</th>\n",
       "      <th>obey</th>\n",
       "      <th>reps_lower</th>\n",
       "      <th>reps_upper</th>\n",
       "    </tr>\n",
       "  </thead>\n",
       "  <tbody>\n",
       "  </tbody>\n",
       "</table>\n",
       "</div>"
      ],
      "text/plain": [
       "Empty DataFrame\n",
       "Columns: [Breed, Classification, obey, reps_lower, reps_upper]\n",
       "Index: []"
      ]
     },
     "execution_count": 21,
     "metadata": {},
     "output_type": "execute_result"
    }
   ],
   "source": [
    "dog_intel[dog_intel['Classification']=='Lowest Degree of Working/Obedience Intelligence']"
   ]
  },
  {
   "cell_type": "code",
   "execution_count": 22,
   "id": "270374cc",
   "metadata": {
    "execution": {
     "iopub.execute_input": "2023-02-07T18:18:00.410407Z",
     "iopub.status.busy": "2023-02-07T18:18:00.409722Z",
     "iopub.status.idle": "2023-02-07T18:18:00.416754Z",
     "shell.execute_reply": "2023-02-07T18:18:00.415542Z"
    },
    "papermill": {
     "duration": 0.022781,
     "end_time": "2023-02-07T18:18:00.419496",
     "exception": false,
     "start_time": "2023-02-07T18:18:00.396715",
     "status": "completed"
    },
    "tags": []
   },
   "outputs": [
    {
     "name": "stdout",
     "output_type": "stream",
     "text": [
      "Brightest Dogs\n",
      "Excellent Working Dogs\n",
      "Above Average Working Dogs\n",
      "Average Working/Obedience Intelligence\n",
      "Fair Working/Obedience Intelligence\n",
      "Lowest Degree of Working/Obedience Intelligence \n"
     ]
    }
   ],
   "source": [
    "for i in dog_intel['Classification'].unique():\n",
    "    print(i)"
   ]
  },
  {
   "cell_type": "code",
   "execution_count": 23,
   "id": "32621ba2",
   "metadata": {
    "execution": {
     "iopub.execute_input": "2023-02-07T18:18:00.444150Z",
     "iopub.status.busy": "2023-02-07T18:18:00.443711Z",
     "iopub.status.idle": "2023-02-07T18:18:00.450077Z",
     "shell.execute_reply": "2023-02-07T18:18:00.449090Z"
    },
    "papermill": {
     "duration": 0.021377,
     "end_time": "2023-02-07T18:18:00.452486",
     "exception": false,
     "start_time": "2023-02-07T18:18:00.431109",
     "status": "completed"
    },
    "tags": []
   },
   "outputs": [],
   "source": [
    "# add avg reps computed column\n",
    "dog_intel['avg_reps'] = (dog_intel['reps_lower'] + dog_intel['reps_upper']) / 2"
   ]
  },
  {
   "cell_type": "code",
   "execution_count": 24,
   "id": "3fbe14ef",
   "metadata": {
    "execution": {
     "iopub.execute_input": "2023-02-07T18:18:00.479034Z",
     "iopub.status.busy": "2023-02-07T18:18:00.477810Z",
     "iopub.status.idle": "2023-02-07T18:18:00.492109Z",
     "shell.execute_reply": "2023-02-07T18:18:00.491196Z"
    },
    "papermill": {
     "duration": 0.029887,
     "end_time": "2023-02-07T18:18:00.494340",
     "exception": false,
     "start_time": "2023-02-07T18:18:00.464453",
     "status": "completed"
    },
    "tags": []
   },
   "outputs": [
    {
     "data": {
      "text/html": [
       "<div>\n",
       "<style scoped>\n",
       "    .dataframe tbody tr th:only-of-type {\n",
       "        vertical-align: middle;\n",
       "    }\n",
       "\n",
       "    .dataframe tbody tr th {\n",
       "        vertical-align: top;\n",
       "    }\n",
       "\n",
       "    .dataframe thead th {\n",
       "        text-align: right;\n",
       "    }\n",
       "</style>\n",
       "<table border=\"1\" class=\"dataframe\">\n",
       "  <thead>\n",
       "    <tr style=\"text-align: right;\">\n",
       "      <th></th>\n",
       "      <th>Breed</th>\n",
       "      <th>Classification</th>\n",
       "      <th>obey</th>\n",
       "      <th>reps_lower</th>\n",
       "      <th>reps_upper</th>\n",
       "      <th>avg_reps</th>\n",
       "    </tr>\n",
       "  </thead>\n",
       "  <tbody>\n",
       "    <tr>\n",
       "      <th>0</th>\n",
       "      <td>Border Collie</td>\n",
       "      <td>Brightest Dogs</td>\n",
       "      <td>95%</td>\n",
       "      <td>1</td>\n",
       "      <td>4</td>\n",
       "      <td>2.5</td>\n",
       "    </tr>\n",
       "    <tr>\n",
       "      <th>1</th>\n",
       "      <td>Poodle</td>\n",
       "      <td>Brightest Dogs</td>\n",
       "      <td>95%</td>\n",
       "      <td>1</td>\n",
       "      <td>4</td>\n",
       "      <td>2.5</td>\n",
       "    </tr>\n",
       "    <tr>\n",
       "      <th>2</th>\n",
       "      <td>German Shepherd</td>\n",
       "      <td>Brightest Dogs</td>\n",
       "      <td>95%</td>\n",
       "      <td>1</td>\n",
       "      <td>4</td>\n",
       "      <td>2.5</td>\n",
       "    </tr>\n",
       "    <tr>\n",
       "      <th>3</th>\n",
       "      <td>Golden Retriever</td>\n",
       "      <td>Brightest Dogs</td>\n",
       "      <td>95%</td>\n",
       "      <td>1</td>\n",
       "      <td>4</td>\n",
       "      <td>2.5</td>\n",
       "    </tr>\n",
       "    <tr>\n",
       "      <th>4</th>\n",
       "      <td>Doberman Pinscher</td>\n",
       "      <td>Brightest Dogs</td>\n",
       "      <td>95%</td>\n",
       "      <td>1</td>\n",
       "      <td>4</td>\n",
       "      <td>2.5</td>\n",
       "    </tr>\n",
       "  </tbody>\n",
       "</table>\n",
       "</div>"
      ],
      "text/plain": [
       "               Breed  Classification obey  reps_lower  reps_upper  avg_reps\n",
       "0      Border Collie  Brightest Dogs  95%           1           4       2.5\n",
       "1             Poodle  Brightest Dogs  95%           1           4       2.5\n",
       "2    German Shepherd  Brightest Dogs  95%           1           4       2.5\n",
       "3   Golden Retriever  Brightest Dogs  95%           1           4       2.5\n",
       "4  Doberman Pinscher  Brightest Dogs  95%           1           4       2.5"
      ]
     },
     "execution_count": 24,
     "metadata": {},
     "output_type": "execute_result"
    }
   ],
   "source": [
    "dog_intel.head()"
   ]
  },
  {
   "cell_type": "code",
   "execution_count": 25,
   "id": "50321ee8",
   "metadata": {
    "execution": {
     "iopub.execute_input": "2023-02-07T18:18:00.519834Z",
     "iopub.status.busy": "2023-02-07T18:18:00.519018Z",
     "iopub.status.idle": "2023-02-07T18:18:00.534909Z",
     "shell.execute_reply": "2023-02-07T18:18:00.533599Z"
    },
    "papermill": {
     "duration": 0.031639,
     "end_time": "2023-02-07T18:18:00.537576",
     "exception": false,
     "start_time": "2023-02-07T18:18:00.505937",
     "status": "completed"
    },
    "tags": []
   },
   "outputs": [
    {
     "data": {
      "text/html": [
       "<div>\n",
       "<style scoped>\n",
       "    .dataframe tbody tr th:only-of-type {\n",
       "        vertical-align: middle;\n",
       "    }\n",
       "\n",
       "    .dataframe tbody tr th {\n",
       "        vertical-align: top;\n",
       "    }\n",
       "\n",
       "    .dataframe thead th {\n",
       "        text-align: right;\n",
       "    }\n",
       "</style>\n",
       "<table border=\"1\" class=\"dataframe\">\n",
       "  <thead>\n",
       "    <tr style=\"text-align: right;\">\n",
       "      <th></th>\n",
       "      <th>Breed</th>\n",
       "      <th>height_low_inches</th>\n",
       "      <th>height_high_inches</th>\n",
       "      <th>weight_low_lbs</th>\n",
       "      <th>weight_high_lbs</th>\n",
       "      <th>avg_height</th>\n",
       "      <th>avg_weight</th>\n",
       "    </tr>\n",
       "  </thead>\n",
       "  <tbody>\n",
       "    <tr>\n",
       "      <th>0</th>\n",
       "      <td>Akita</td>\n",
       "      <td>26.0</td>\n",
       "      <td>28.0</td>\n",
       "      <td>80</td>\n",
       "      <td>120</td>\n",
       "      <td>27.0</td>\n",
       "      <td>100.0</td>\n",
       "    </tr>\n",
       "    <tr>\n",
       "      <th>1</th>\n",
       "      <td>Anatolian Sheepdog</td>\n",
       "      <td>27.0</td>\n",
       "      <td>29.0</td>\n",
       "      <td>100</td>\n",
       "      <td>150</td>\n",
       "      <td>28.0</td>\n",
       "      <td>125.0</td>\n",
       "    </tr>\n",
       "    <tr>\n",
       "      <th>2</th>\n",
       "      <td>Bernese Mountain Dog</td>\n",
       "      <td>23.0</td>\n",
       "      <td>27.0</td>\n",
       "      <td>85</td>\n",
       "      <td>110</td>\n",
       "      <td>25.0</td>\n",
       "      <td>97.5</td>\n",
       "    </tr>\n",
       "    <tr>\n",
       "      <th>3</th>\n",
       "      <td>Bloodhound</td>\n",
       "      <td>24.0</td>\n",
       "      <td>26.0</td>\n",
       "      <td>80</td>\n",
       "      <td>120</td>\n",
       "      <td>25.0</td>\n",
       "      <td>100.0</td>\n",
       "    </tr>\n",
       "    <tr>\n",
       "      <th>4</th>\n",
       "      <td>Borzoi</td>\n",
       "      <td>26.0</td>\n",
       "      <td>28.0</td>\n",
       "      <td>70</td>\n",
       "      <td>100</td>\n",
       "      <td>27.0</td>\n",
       "      <td>85.0</td>\n",
       "    </tr>\n",
       "  </tbody>\n",
       "</table>\n",
       "</div>"
      ],
      "text/plain": [
       "                  Breed  height_low_inches  height_high_inches  \\\n",
       "0                 Akita               26.0                28.0   \n",
       "1    Anatolian Sheepdog               27.0                29.0   \n",
       "2  Bernese Mountain Dog               23.0                27.0   \n",
       "3            Bloodhound               24.0                26.0   \n",
       "4                Borzoi               26.0                28.0   \n",
       "\n",
       "   weight_low_lbs  weight_high_lbs  avg_height  avg_weight  \n",
       "0              80              120        27.0       100.0  \n",
       "1             100              150        28.0       125.0  \n",
       "2              85              110        25.0        97.5  \n",
       "3              80              120        25.0       100.0  \n",
       "4              70              100        27.0        85.0  "
      ]
     },
     "execution_count": 25,
     "metadata": {},
     "output_type": "execute_result"
    }
   ],
   "source": [
    "# make sure shapes match: there should be equal number of dog_intel breeds and breed_info breeds\n",
    "breed_info.head()"
   ]
  },
  {
   "cell_type": "code",
   "execution_count": 26,
   "id": "a41bde08",
   "metadata": {
    "execution": {
     "iopub.execute_input": "2023-02-07T18:18:00.562834Z",
     "iopub.status.busy": "2023-02-07T18:18:00.562345Z",
     "iopub.status.idle": "2023-02-07T18:18:00.570717Z",
     "shell.execute_reply": "2023-02-07T18:18:00.569897Z"
    },
    "papermill": {
     "duration": 0.02344,
     "end_time": "2023-02-07T18:18:00.572848",
     "exception": false,
     "start_time": "2023-02-07T18:18:00.549408",
     "status": "completed"
    },
    "tags": []
   },
   "outputs": [
    {
     "data": {
      "text/plain": [
       "0                     Akita\n",
       "1        Anatolian Sheepdog\n",
       "2      Bernese Mountain Dog\n",
       "3                Bloodhound\n",
       "4                    Borzoi\n",
       "               ...         \n",
       "145                Papillon\n",
       "146              Pomeranian\n",
       "147              Poodle Toy\n",
       "148         Toy Fox Terrier\n",
       "149       Yorkshire Terrier\n",
       "Name: Breed, Length: 148, dtype: object"
      ]
     },
     "execution_count": 26,
     "metadata": {},
     "output_type": "execute_result"
    }
   ],
   "source": [
    "breed_info['Breed']"
   ]
  },
  {
   "cell_type": "code",
   "execution_count": 27,
   "id": "0ab72842",
   "metadata": {
    "execution": {
     "iopub.execute_input": "2023-02-07T18:18:00.598833Z",
     "iopub.status.busy": "2023-02-07T18:18:00.598043Z",
     "iopub.status.idle": "2023-02-07T18:18:00.605711Z",
     "shell.execute_reply": "2023-02-07T18:18:00.604920Z"
    },
    "papermill": {
     "duration": 0.023024,
     "end_time": "2023-02-07T18:18:00.607757",
     "exception": false,
     "start_time": "2023-02-07T18:18:00.584733",
     "status": "completed"
    },
    "tags": []
   },
   "outputs": [
    {
     "data": {
      "text/plain": [
       "0          Border Collie\n",
       "1                 Poodle\n",
       "2        German Shepherd\n",
       "3       Golden Retriever\n",
       "4      Doberman Pinscher\n",
       "             ...        \n",
       "131               Borzoi\n",
       "132            Chow Chow\n",
       "133              Bulldog\n",
       "134              Basenji\n",
       "135         Afghan Hound\n",
       "Name: Breed, Length: 136, dtype: object"
      ]
     },
     "execution_count": 27,
     "metadata": {},
     "output_type": "execute_result"
    }
   ],
   "source": [
    "dog_intel['Breed']"
   ]
  },
  {
   "cell_type": "code",
   "execution_count": 28,
   "id": "cba9f891",
   "metadata": {
    "execution": {
     "iopub.execute_input": "2023-02-07T18:18:00.634317Z",
     "iopub.status.busy": "2023-02-07T18:18:00.633627Z",
     "iopub.status.idle": "2023-02-07T18:18:00.653140Z",
     "shell.execute_reply": "2023-02-07T18:18:00.651999Z"
    },
    "papermill": {
     "duration": 0.035368,
     "end_time": "2023-02-07T18:18:00.655560",
     "exception": false,
     "start_time": "2023-02-07T18:18:00.620192",
     "status": "completed"
    },
    "tags": []
   },
   "outputs": [
    {
     "data": {
      "text/html": [
       "<div>\n",
       "<style scoped>\n",
       "    .dataframe tbody tr th:only-of-type {\n",
       "        vertical-align: middle;\n",
       "    }\n",
       "\n",
       "    .dataframe tbody tr th {\n",
       "        vertical-align: top;\n",
       "    }\n",
       "\n",
       "    .dataframe thead th {\n",
       "        text-align: right;\n",
       "    }\n",
       "</style>\n",
       "<table border=\"1\" class=\"dataframe\">\n",
       "  <thead>\n",
       "    <tr style=\"text-align: right;\">\n",
       "      <th></th>\n",
       "      <th>Breed</th>\n",
       "      <th>height_low_inches</th>\n",
       "      <th>height_high_inches</th>\n",
       "      <th>weight_low_lbs</th>\n",
       "      <th>weight_high_lbs</th>\n",
       "      <th>avg_height</th>\n",
       "      <th>avg_weight</th>\n",
       "    </tr>\n",
       "  </thead>\n",
       "  <tbody>\n",
       "    <tr>\n",
       "      <th>138</th>\n",
       "      <td>Affenpinscher</td>\n",
       "      <td>9.0</td>\n",
       "      <td>12.0</td>\n",
       "      <td>8</td>\n",
       "      <td>12</td>\n",
       "      <td>10.5</td>\n",
       "      <td>10.0</td>\n",
       "    </tr>\n",
       "    <tr>\n",
       "      <th>17</th>\n",
       "      <td>Afghan Hound</td>\n",
       "      <td>25.0</td>\n",
       "      <td>27.0</td>\n",
       "      <td>50</td>\n",
       "      <td>60</td>\n",
       "      <td>26.0</td>\n",
       "      <td>55.0</td>\n",
       "    </tr>\n",
       "    <tr>\n",
       "      <th>53</th>\n",
       "      <td>Airdale Terrier</td>\n",
       "      <td>22.0</td>\n",
       "      <td>24.0</td>\n",
       "      <td>45</td>\n",
       "      <td>45</td>\n",
       "      <td>23.0</td>\n",
       "      <td>45.0</td>\n",
       "    </tr>\n",
       "    <tr>\n",
       "      <th>0</th>\n",
       "      <td>Akita</td>\n",
       "      <td>26.0</td>\n",
       "      <td>28.0</td>\n",
       "      <td>80</td>\n",
       "      <td>120</td>\n",
       "      <td>27.0</td>\n",
       "      <td>100.0</td>\n",
       "    </tr>\n",
       "    <tr>\n",
       "      <th>99</th>\n",
       "      <td>American Eskimo</td>\n",
       "      <td>9.0</td>\n",
       "      <td>19.0</td>\n",
       "      <td>25</td>\n",
       "      <td>30</td>\n",
       "      <td>14.0</td>\n",
       "      <td>27.5</td>\n",
       "    </tr>\n",
       "    <tr>\n",
       "      <th>...</th>\n",
       "      <td>...</td>\n",
       "      <td>...</td>\n",
       "      <td>...</td>\n",
       "      <td>...</td>\n",
       "      <td>...</td>\n",
       "      <td>...</td>\n",
       "      <td>...</td>\n",
       "    </tr>\n",
       "    <tr>\n",
       "      <th>135</th>\n",
       "      <td>Welsh Terrier</td>\n",
       "      <td>15.0</td>\n",
       "      <td>15.0</td>\n",
       "      <td>20</td>\n",
       "      <td>21</td>\n",
       "      <td>15.0</td>\n",
       "      <td>20.5</td>\n",
       "    </tr>\n",
       "    <tr>\n",
       "      <th>136</th>\n",
       "      <td>West Highland White Terrier</td>\n",
       "      <td>11.0</td>\n",
       "      <td>11.0</td>\n",
       "      <td>13</td>\n",
       "      <td>15</td>\n",
       "      <td>11.0</td>\n",
       "      <td>14.0</td>\n",
       "    </tr>\n",
       "    <tr>\n",
       "      <th>137</th>\n",
       "      <td>Whippet</td>\n",
       "      <td>18.0</td>\n",
       "      <td>22.0</td>\n",
       "      <td>27</td>\n",
       "      <td>30</td>\n",
       "      <td>20.0</td>\n",
       "      <td>28.5</td>\n",
       "    </tr>\n",
       "    <tr>\n",
       "      <th>98</th>\n",
       "      <td>Wirehaired Pointing Griffon</td>\n",
       "      <td>20.0</td>\n",
       "      <td>24.0</td>\n",
       "      <td>45</td>\n",
       "      <td>60</td>\n",
       "      <td>22.0</td>\n",
       "      <td>52.5</td>\n",
       "    </tr>\n",
       "    <tr>\n",
       "      <th>149</th>\n",
       "      <td>Yorkshire Terrier</td>\n",
       "      <td>8.0</td>\n",
       "      <td>8.0</td>\n",
       "      <td>3</td>\n",
       "      <td>7</td>\n",
       "      <td>8.0</td>\n",
       "      <td>5.0</td>\n",
       "    </tr>\n",
       "  </tbody>\n",
       "</table>\n",
       "<p>148 rows × 7 columns</p>\n",
       "</div>"
      ],
      "text/plain": [
       "                           Breed  height_low_inches  height_high_inches  \\\n",
       "138                Affenpinscher                9.0                12.0   \n",
       "17                  Afghan Hound               25.0                27.0   \n",
       "53               Airdale Terrier               22.0                24.0   \n",
       "0                          Akita               26.0                28.0   \n",
       "99               American Eskimo                9.0                19.0   \n",
       "..                           ...                ...                 ...   \n",
       "135                Welsh Terrier               15.0                15.0   \n",
       "136  West Highland White Terrier               11.0                11.0   \n",
       "137                      Whippet               18.0                22.0   \n",
       "98   Wirehaired Pointing Griffon               20.0                24.0   \n",
       "149            Yorkshire Terrier                8.0                 8.0   \n",
       "\n",
       "     weight_low_lbs  weight_high_lbs  avg_height  avg_weight  \n",
       "138               8               12        10.5        10.0  \n",
       "17               50               60        26.0        55.0  \n",
       "53               45               45        23.0        45.0  \n",
       "0                80              120        27.0       100.0  \n",
       "99               25               30        14.0        27.5  \n",
       "..              ...              ...         ...         ...  \n",
       "135              20               21        15.0        20.5  \n",
       "136              13               15        11.0        14.0  \n",
       "137              27               30        20.0        28.5  \n",
       "98               45               60        22.0        52.5  \n",
       "149               3                7         8.0         5.0  \n",
       "\n",
       "[148 rows x 7 columns]"
      ]
     },
     "execution_count": 28,
     "metadata": {},
     "output_type": "execute_result"
    }
   ],
   "source": [
    "# organize both tables by descending\n",
    "breed_info.sort_values(by=['Breed'])"
   ]
  },
  {
   "cell_type": "code",
   "execution_count": 29,
   "id": "c1c72c31",
   "metadata": {
    "execution": {
     "iopub.execute_input": "2023-02-07T18:18:00.682644Z",
     "iopub.status.busy": "2023-02-07T18:18:00.681347Z",
     "iopub.status.idle": "2023-02-07T18:18:00.702354Z",
     "shell.execute_reply": "2023-02-07T18:18:00.701254Z"
    },
    "papermill": {
     "duration": 0.036718,
     "end_time": "2023-02-07T18:18:00.704730",
     "exception": false,
     "start_time": "2023-02-07T18:18:00.668012",
     "status": "completed"
    },
    "tags": []
   },
   "outputs": [
    {
     "data": {
      "text/html": [
       "<div>\n",
       "<style scoped>\n",
       "    .dataframe tbody tr th:only-of-type {\n",
       "        vertical-align: middle;\n",
       "    }\n",
       "\n",
       "    .dataframe tbody tr th {\n",
       "        vertical-align: top;\n",
       "    }\n",
       "\n",
       "    .dataframe thead th {\n",
       "        text-align: right;\n",
       "    }\n",
       "</style>\n",
       "<table border=\"1\" class=\"dataframe\">\n",
       "  <thead>\n",
       "    <tr style=\"text-align: right;\">\n",
       "      <th></th>\n",
       "      <th>Breed</th>\n",
       "      <th>Classification</th>\n",
       "      <th>obey</th>\n",
       "      <th>reps_lower</th>\n",
       "      <th>reps_upper</th>\n",
       "      <th>avg_reps</th>\n",
       "    </tr>\n",
       "  </thead>\n",
       "  <tbody>\n",
       "    <tr>\n",
       "      <th>53</th>\n",
       "      <td>Affenpinscher</td>\n",
       "      <td>Above Average Working Dogs</td>\n",
       "      <td>70%</td>\n",
       "      <td>16</td>\n",
       "      <td>25</td>\n",
       "      <td>20.5</td>\n",
       "    </tr>\n",
       "    <tr>\n",
       "      <th>135</th>\n",
       "      <td>Afghan Hound</td>\n",
       "      <td>Lowest Degree of Working/Obedience Intelligence</td>\n",
       "      <td>NaN</td>\n",
       "      <td>81</td>\n",
       "      <td>100</td>\n",
       "      <td>90.5</td>\n",
       "    </tr>\n",
       "    <tr>\n",
       "      <th>36</th>\n",
       "      <td>Airedale Terrier</td>\n",
       "      <td>Above Average Working Dogs</td>\n",
       "      <td>70%</td>\n",
       "      <td>16</td>\n",
       "      <td>25</td>\n",
       "      <td>20.5</td>\n",
       "    </tr>\n",
       "    <tr>\n",
       "      <th>102</th>\n",
       "      <td>Akita</td>\n",
       "      <td>Average Working/Obedience Intelligence</td>\n",
       "      <td>50%</td>\n",
       "      <td>26</td>\n",
       "      <td>40</td>\n",
       "      <td>33.0</td>\n",
       "    </tr>\n",
       "    <tr>\n",
       "      <th>93</th>\n",
       "      <td>Alaskan Malamute</td>\n",
       "      <td>Average Working/Obedience Intelligence</td>\n",
       "      <td>50%</td>\n",
       "      <td>26</td>\n",
       "      <td>40</td>\n",
       "      <td>33.0</td>\n",
       "    </tr>\n",
       "    <tr>\n",
       "      <th>...</th>\n",
       "      <td>...</td>\n",
       "      <td>...</td>\n",
       "      <td>...</td>\n",
       "      <td>...</td>\n",
       "      <td>...</td>\n",
       "      <td>...</td>\n",
       "    </tr>\n",
       "    <tr>\n",
       "      <th>85</th>\n",
       "      <td>West Highland White Terrier</td>\n",
       "      <td>Average Working/Obedience Intelligence</td>\n",
       "      <td>50%</td>\n",
       "      <td>26</td>\n",
       "      <td>40</td>\n",
       "      <td>33.0</td>\n",
       "    </tr>\n",
       "    <tr>\n",
       "      <th>94</th>\n",
       "      <td>Whippet</td>\n",
       "      <td>Average Working/Obedience Intelligence</td>\n",
       "      <td>50%</td>\n",
       "      <td>26</td>\n",
       "      <td>40</td>\n",
       "      <td>33.0</td>\n",
       "    </tr>\n",
       "    <tr>\n",
       "      <th>96</th>\n",
       "      <td>Wire Fox Terrier</td>\n",
       "      <td>Average Working/Obedience Intelligence</td>\n",
       "      <td>50%</td>\n",
       "      <td>26</td>\n",
       "      <td>40</td>\n",
       "      <td>33.0</td>\n",
       "    </tr>\n",
       "    <tr>\n",
       "      <th>84</th>\n",
       "      <td>Wirehaired Pointing Griffon</td>\n",
       "      <td>Average Working/Obedience Intelligence</td>\n",
       "      <td>50%</td>\n",
       "      <td>26</td>\n",
       "      <td>40</td>\n",
       "      <td>33.0</td>\n",
       "    </tr>\n",
       "    <tr>\n",
       "      <th>33</th>\n",
       "      <td>Yorkshire Terrier</td>\n",
       "      <td>Above Average Working Dogs</td>\n",
       "      <td>70%</td>\n",
       "      <td>16</td>\n",
       "      <td>25</td>\n",
       "      <td>20.5</td>\n",
       "    </tr>\n",
       "  </tbody>\n",
       "</table>\n",
       "<p>136 rows × 6 columns</p>\n",
       "</div>"
      ],
      "text/plain": [
       "                           Breed  \\\n",
       "53                 Affenpinscher   \n",
       "135                 Afghan Hound   \n",
       "36              Airedale Terrier   \n",
       "102                        Akita   \n",
       "93              Alaskan Malamute   \n",
       "..                           ...   \n",
       "85   West Highland White Terrier   \n",
       "94                       Whippet   \n",
       "96              Wire Fox Terrier   \n",
       "84   Wirehaired Pointing Griffon   \n",
       "33             Yorkshire Terrier   \n",
       "\n",
       "                                       Classification obey  reps_lower  \\\n",
       "53                         Above Average Working Dogs  70%          16   \n",
       "135  Lowest Degree of Working/Obedience Intelligence   NaN          81   \n",
       "36                         Above Average Working Dogs  70%          16   \n",
       "102            Average Working/Obedience Intelligence  50%          26   \n",
       "93             Average Working/Obedience Intelligence  50%          26   \n",
       "..                                                ...  ...         ...   \n",
       "85             Average Working/Obedience Intelligence  50%          26   \n",
       "94             Average Working/Obedience Intelligence  50%          26   \n",
       "96             Average Working/Obedience Intelligence  50%          26   \n",
       "84             Average Working/Obedience Intelligence  50%          26   \n",
       "33                         Above Average Working Dogs  70%          16   \n",
       "\n",
       "     reps_upper  avg_reps  \n",
       "53           25      20.5  \n",
       "135         100      90.5  \n",
       "36           25      20.5  \n",
       "102          40      33.0  \n",
       "93           40      33.0  \n",
       "..          ...       ...  \n",
       "85           40      33.0  \n",
       "94           40      33.0  \n",
       "96           40      33.0  \n",
       "84           40      33.0  \n",
       "33           25      20.5  \n",
       "\n",
       "[136 rows x 6 columns]"
      ]
     },
     "execution_count": 29,
     "metadata": {},
     "output_type": "execute_result"
    }
   ],
   "source": [
    "dog_intel.sort_values(by=['Breed'])"
   ]
  },
  {
   "cell_type": "code",
   "execution_count": 30,
   "id": "6487620d",
   "metadata": {
    "execution": {
     "iopub.execute_input": "2023-02-07T18:18:00.732843Z",
     "iopub.status.busy": "2023-02-07T18:18:00.732107Z",
     "iopub.status.idle": "2023-02-07T18:18:00.770341Z",
     "shell.execute_reply": "2023-02-07T18:18:00.769174Z"
    },
    "papermill": {
     "duration": 0.055246,
     "end_time": "2023-02-07T18:18:00.773144",
     "exception": false,
     "start_time": "2023-02-07T18:18:00.717898",
     "status": "completed"
    },
    "tags": []
   },
   "outputs": [
    {
     "data": {
      "text/html": [
       "<div>\n",
       "<style scoped>\n",
       "    .dataframe tbody tr th:only-of-type {\n",
       "        vertical-align: middle;\n",
       "    }\n",
       "\n",
       "    .dataframe tbody tr th {\n",
       "        vertical-align: top;\n",
       "    }\n",
       "\n",
       "    .dataframe thead th {\n",
       "        text-align: right;\n",
       "    }\n",
       "</style>\n",
       "<table border=\"1\" class=\"dataframe\">\n",
       "  <thead>\n",
       "    <tr style=\"text-align: right;\">\n",
       "      <th></th>\n",
       "      <th>Breed</th>\n",
       "      <th>Classification</th>\n",
       "      <th>obey</th>\n",
       "      <th>reps_lower</th>\n",
       "      <th>reps_upper</th>\n",
       "      <th>avg_reps</th>\n",
       "      <th>height_low_inches</th>\n",
       "      <th>height_high_inches</th>\n",
       "      <th>weight_low_lbs</th>\n",
       "      <th>weight_high_lbs</th>\n",
       "      <th>avg_height</th>\n",
       "      <th>avg_weight</th>\n",
       "    </tr>\n",
       "  </thead>\n",
       "  <tbody>\n",
       "    <tr>\n",
       "      <th>0</th>\n",
       "      <td>Border Collie</td>\n",
       "      <td>Brightest Dogs</td>\n",
       "      <td>95%</td>\n",
       "      <td>1</td>\n",
       "      <td>4</td>\n",
       "      <td>2.5</td>\n",
       "      <td>19.0</td>\n",
       "      <td>21.0</td>\n",
       "      <td>40</td>\n",
       "      <td>40</td>\n",
       "      <td>20.0</td>\n",
       "      <td>40.0</td>\n",
       "    </tr>\n",
       "    <tr>\n",
       "      <th>1</th>\n",
       "      <td>Golden Retriever</td>\n",
       "      <td>Brightest Dogs</td>\n",
       "      <td>95%</td>\n",
       "      <td>1</td>\n",
       "      <td>4</td>\n",
       "      <td>2.5</td>\n",
       "      <td>21.0</td>\n",
       "      <td>24.0</td>\n",
       "      <td>55</td>\n",
       "      <td>75</td>\n",
       "      <td>22.5</td>\n",
       "      <td>65.0</td>\n",
       "    </tr>\n",
       "    <tr>\n",
       "      <th>2</th>\n",
       "      <td>Doberman Pinscher</td>\n",
       "      <td>Brightest Dogs</td>\n",
       "      <td>95%</td>\n",
       "      <td>1</td>\n",
       "      <td>4</td>\n",
       "      <td>2.5</td>\n",
       "      <td>26.0</td>\n",
       "      <td>28.0</td>\n",
       "      <td>60</td>\n",
       "      <td>100</td>\n",
       "      <td>27.0</td>\n",
       "      <td>80.0</td>\n",
       "    </tr>\n",
       "    <tr>\n",
       "      <th>3</th>\n",
       "      <td>Labrador Retriever</td>\n",
       "      <td>Brightest Dogs</td>\n",
       "      <td>95%</td>\n",
       "      <td>1</td>\n",
       "      <td>4</td>\n",
       "      <td>2.5</td>\n",
       "      <td>21.0</td>\n",
       "      <td>24.0</td>\n",
       "      <td>55</td>\n",
       "      <td>80</td>\n",
       "      <td>22.5</td>\n",
       "      <td>67.5</td>\n",
       "    </tr>\n",
       "    <tr>\n",
       "      <th>4</th>\n",
       "      <td>Papillon</td>\n",
       "      <td>Brightest Dogs</td>\n",
       "      <td>95%</td>\n",
       "      <td>1</td>\n",
       "      <td>4</td>\n",
       "      <td>2.5</td>\n",
       "      <td>8.0</td>\n",
       "      <td>11.0</td>\n",
       "      <td>5</td>\n",
       "      <td>10</td>\n",
       "      <td>9.5</td>\n",
       "      <td>7.5</td>\n",
       "    </tr>\n",
       "    <tr>\n",
       "      <th>...</th>\n",
       "      <td>...</td>\n",
       "      <td>...</td>\n",
       "      <td>...</td>\n",
       "      <td>...</td>\n",
       "      <td>...</td>\n",
       "      <td>...</td>\n",
       "      <td>...</td>\n",
       "      <td>...</td>\n",
       "      <td>...</td>\n",
       "      <td>...</td>\n",
       "      <td>...</td>\n",
       "      <td>...</td>\n",
       "    </tr>\n",
       "    <tr>\n",
       "      <th>99</th>\n",
       "      <td>Bloodhound</td>\n",
       "      <td>Lowest Degree of Working/Obedience Intelligence</td>\n",
       "      <td>NaN</td>\n",
       "      <td>81</td>\n",
       "      <td>100</td>\n",
       "      <td>90.5</td>\n",
       "      <td>24.0</td>\n",
       "      <td>26.0</td>\n",
       "      <td>80</td>\n",
       "      <td>120</td>\n",
       "      <td>25.0</td>\n",
       "      <td>100.0</td>\n",
       "    </tr>\n",
       "    <tr>\n",
       "      <th>100</th>\n",
       "      <td>Borzoi</td>\n",
       "      <td>Lowest Degree of Working/Obedience Intelligence</td>\n",
       "      <td>NaN</td>\n",
       "      <td>81</td>\n",
       "      <td>100</td>\n",
       "      <td>90.5</td>\n",
       "      <td>26.0</td>\n",
       "      <td>28.0</td>\n",
       "      <td>70</td>\n",
       "      <td>100</td>\n",
       "      <td>27.0</td>\n",
       "      <td>85.0</td>\n",
       "    </tr>\n",
       "    <tr>\n",
       "      <th>101</th>\n",
       "      <td>Chow Chow</td>\n",
       "      <td>Lowest Degree of Working/Obedience Intelligence</td>\n",
       "      <td>NaN</td>\n",
       "      <td>81</td>\n",
       "      <td>100</td>\n",
       "      <td>90.5</td>\n",
       "      <td>19.0</td>\n",
       "      <td>22.0</td>\n",
       "      <td>45</td>\n",
       "      <td>55</td>\n",
       "      <td>20.5</td>\n",
       "      <td>50.0</td>\n",
       "    </tr>\n",
       "    <tr>\n",
       "      <th>102</th>\n",
       "      <td>Basenji</td>\n",
       "      <td>Lowest Degree of Working/Obedience Intelligence</td>\n",
       "      <td>NaN</td>\n",
       "      <td>81</td>\n",
       "      <td>100</td>\n",
       "      <td>90.5</td>\n",
       "      <td>17.0</td>\n",
       "      <td>17.0</td>\n",
       "      <td>20</td>\n",
       "      <td>22</td>\n",
       "      <td>17.0</td>\n",
       "      <td>21.0</td>\n",
       "    </tr>\n",
       "    <tr>\n",
       "      <th>103</th>\n",
       "      <td>Afghan Hound</td>\n",
       "      <td>Lowest Degree of Working/Obedience Intelligence</td>\n",
       "      <td>NaN</td>\n",
       "      <td>81</td>\n",
       "      <td>100</td>\n",
       "      <td>90.5</td>\n",
       "      <td>25.0</td>\n",
       "      <td>27.0</td>\n",
       "      <td>50</td>\n",
       "      <td>60</td>\n",
       "      <td>26.0</td>\n",
       "      <td>55.0</td>\n",
       "    </tr>\n",
       "  </tbody>\n",
       "</table>\n",
       "<p>104 rows × 12 columns</p>\n",
       "</div>"
      ],
      "text/plain": [
       "                  Breed                                    Classification  \\\n",
       "0         Border Collie                                    Brightest Dogs   \n",
       "1      Golden Retriever                                    Brightest Dogs   \n",
       "2     Doberman Pinscher                                    Brightest Dogs   \n",
       "3    Labrador Retriever                                    Brightest Dogs   \n",
       "4              Papillon                                    Brightest Dogs   \n",
       "..                  ...                                               ...   \n",
       "99           Bloodhound  Lowest Degree of Working/Obedience Intelligence    \n",
       "100              Borzoi  Lowest Degree of Working/Obedience Intelligence    \n",
       "101           Chow Chow  Lowest Degree of Working/Obedience Intelligence    \n",
       "102             Basenji  Lowest Degree of Working/Obedience Intelligence    \n",
       "103        Afghan Hound  Lowest Degree of Working/Obedience Intelligence    \n",
       "\n",
       "    obey  reps_lower  reps_upper  avg_reps  height_low_inches  \\\n",
       "0    95%           1           4       2.5               19.0   \n",
       "1    95%           1           4       2.5               21.0   \n",
       "2    95%           1           4       2.5               26.0   \n",
       "3    95%           1           4       2.5               21.0   \n",
       "4    95%           1           4       2.5                8.0   \n",
       "..   ...         ...         ...       ...                ...   \n",
       "99   NaN          81         100      90.5               24.0   \n",
       "100  NaN          81         100      90.5               26.0   \n",
       "101  NaN          81         100      90.5               19.0   \n",
       "102  NaN          81         100      90.5               17.0   \n",
       "103  NaN          81         100      90.5               25.0   \n",
       "\n",
       "     height_high_inches  weight_low_lbs  weight_high_lbs  avg_height  \\\n",
       "0                  21.0              40               40        20.0   \n",
       "1                  24.0              55               75        22.5   \n",
       "2                  28.0              60              100        27.0   \n",
       "3                  24.0              55               80        22.5   \n",
       "4                  11.0               5               10         9.5   \n",
       "..                  ...             ...              ...         ...   \n",
       "99                 26.0              80              120        25.0   \n",
       "100                28.0              70              100        27.0   \n",
       "101                22.0              45               55        20.5   \n",
       "102                17.0              20               22        17.0   \n",
       "103                27.0              50               60        26.0   \n",
       "\n",
       "     avg_weight  \n",
       "0          40.0  \n",
       "1          65.0  \n",
       "2          80.0  \n",
       "3          67.5  \n",
       "4           7.5  \n",
       "..          ...  \n",
       "99        100.0  \n",
       "100        85.0  \n",
       "101        50.0  \n",
       "102        21.0  \n",
       "103        55.0  \n",
       "\n",
       "[104 rows x 12 columns]"
      ]
     },
     "execution_count": 30,
     "metadata": {},
     "output_type": "execute_result"
    }
   ],
   "source": [
    "# create the intersection of these two tables, merged on breed and only including those breeds which appear in both tables\n",
    "dog_table = dog_intel.merge(breed_info, how = 'inner' ,indicator=False)\n",
    "dog_table"
   ]
  },
  {
   "cell_type": "code",
   "execution_count": null,
   "id": "c8f56573",
   "metadata": {
    "papermill": {
     "duration": 0.013172,
     "end_time": "2023-02-07T18:18:00.799439",
     "exception": false,
     "start_time": "2023-02-07T18:18:00.786267",
     "status": "completed"
    },
    "tags": []
   },
   "outputs": [],
   "source": []
  }
 ],
 "metadata": {
  "kernelspec": {
   "display_name": "Python 3",
   "language": "python",
   "name": "python3"
  },
  "language_info": {
   "codemirror_mode": {
    "name": "ipython",
    "version": 3
   },
   "file_extension": ".py",
   "mimetype": "text/x-python",
   "name": "python",
   "nbconvert_exporter": "python",
   "pygments_lexer": "ipython3",
   "version": "3.7.12"
  },
  "papermill": {
   "default_parameters": {},
   "duration": 11.33055,
   "end_time": "2023-02-07T18:18:01.535623",
   "environment_variables": {},
   "exception": null,
   "input_path": "__notebook__.ipynb",
   "output_path": "__notebook__.ipynb",
   "parameters": {},
   "start_time": "2023-02-07T18:17:50.205073",
   "version": "2.3.4"
  }
 },
 "nbformat": 4,
 "nbformat_minor": 5
}
