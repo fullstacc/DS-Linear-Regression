{
 "cells": [
  {
   "cell_type": "markdown",
   "id": "1567fe82",
   "metadata": {
    "execution": {
     "iopub.execute_input": "2023-02-01T13:45:49.380694Z",
     "iopub.status.busy": "2023-02-01T13:45:49.380184Z",
     "iopub.status.idle": "2023-02-01T13:45:49.428453Z",
     "shell.execute_reply": "2023-02-01T13:45:49.427095Z",
     "shell.execute_reply.started": "2023-02-01T13:45:49.380650Z"
    },
    "papermill": {
     "duration": 0.008562,
     "end_time": "2023-02-01T20:51:50.669941",
     "exception": false,
     "start_time": "2023-02-01T20:51:50.661379",
     "status": "completed"
    },
    "tags": []
   },
   "source": [
    "# Using Linear Regression to Predict Canine Intelligence\n",
    "This notebook utilizes the dog intelligence dataset hosted on Kaggle and provided by the American Kennel Club in order to estimate dog intelligence using a linear regression model."
   ]
  },
  {
   "cell_type": "code",
   "execution_count": 1,
   "id": "c8c7d13b",
   "metadata": {
    "_cell_guid": "b1076dfc-b9ad-4769-8c92-a6c4dae69d19",
    "_uuid": "8f2839f25d086af736a60e9eeb907d3b93b6e0e5",
    "execution": {
     "iopub.execute_input": "2023-02-01T20:51:50.688662Z",
     "iopub.status.busy": "2023-02-01T20:51:50.688133Z",
     "iopub.status.idle": "2023-02-01T20:51:50.707743Z",
     "shell.execute_reply": "2023-02-01T20:51:50.706142Z"
    },
    "papermill": {
     "duration": 0.033574,
     "end_time": "2023-02-01T20:51:50.711854",
     "exception": false,
     "start_time": "2023-02-01T20:51:50.678280",
     "status": "completed"
    },
    "tags": []
   },
   "outputs": [
    {
     "name": "stdout",
     "output_type": "stream",
     "text": [
      "/kaggle/input/canine-intelligence-and-size/AKC Breed Info.csv\n",
      "/kaggle/input/canine-intelligence-and-size/dog_intelligence.csv\n"
     ]
    }
   ],
   "source": [
    "# This Python 3 environment comes with many helpful analytics libraries installed\n",
    "# It is defined by the kaggle/python Docker image: https://github.com/kaggle/docker-python\n",
    "# For example, here's several helpful packages to load\n",
    "\n",
    "import numpy as np # linear algebra\n",
    "import pandas as pd # data processing, CSV file I/O (e.g. pd.read_csv)\n",
    "\n",
    "# Input data files are available in the read-only \"../input/\" directory\n",
    "# For example, running this (by clicking run or pressing Shift+Enter) will list all files under the input directory\n",
    "\n",
    "import os\n",
    "for dirname, _, filenames in os.walk('/kaggle/input'):\n",
    "    for filename in filenames:\n",
    "        print(os.path.join(dirname, filename))\n",
    "\n",
    "# You can write up to 20GB to the current directory (/kaggle/working/) that gets preserved as output when you create a version using \"Save & Run All\" \n",
    "# You can also write temporary files to /kaggle/temp/, but they won't be saved outside of the current session"
   ]
  },
  {
   "cell_type": "markdown",
   "id": "812b43a0",
   "metadata": {
    "papermill": {
     "duration": 0.007624,
     "end_time": "2023-02-01T20:51:50.728031",
     "exception": false,
     "start_time": "2023-02-01T20:51:50.720407",
     "status": "completed"
    },
    "tags": []
   },
   "source": [
    "## Data Loading"
   ]
  },
  {
   "cell_type": "code",
   "execution_count": 2,
   "id": "c4a5e9df",
   "metadata": {
    "execution": {
     "iopub.execute_input": "2023-02-01T20:51:50.745884Z",
     "iopub.status.busy": "2023-02-01T20:51:50.744582Z",
     "iopub.status.idle": "2023-02-01T20:51:50.783177Z",
     "shell.execute_reply": "2023-02-01T20:51:50.781846Z"
    },
    "papermill": {
     "duration": 0.051143,
     "end_time": "2023-02-01T20:51:50.786659",
     "exception": false,
     "start_time": "2023-02-01T20:51:50.735516",
     "status": "completed"
    },
    "tags": []
   },
   "outputs": [],
   "source": [
    "# load data\n",
    "breed_info = pd.read_csv('/kaggle/input/canine-intelligence-and-size/AKC Breed Info.csv')\n",
    "dog_intel = pd.read_csv('/kaggle/input/canine-intelligence-and-size/dog_intelligence.csv')"
   ]
  },
  {
   "cell_type": "markdown",
   "id": "e1b6bb7a",
   "metadata": {
    "papermill": {
     "duration": 0.007268,
     "end_time": "2023-02-01T20:51:50.802812",
     "exception": false,
     "start_time": "2023-02-01T20:51:50.795544",
     "status": "completed"
    },
    "tags": []
   },
   "source": [
    "## Data Cleaning & Exploratory Data Analysis (EDA)"
   ]
  },
  {
   "cell_type": "code",
   "execution_count": 3,
   "id": "59cad591",
   "metadata": {
    "execution": {
     "iopub.execute_input": "2023-02-01T20:51:50.821128Z",
     "iopub.status.busy": "2023-02-01T20:51:50.819592Z",
     "iopub.status.idle": "2023-02-01T20:51:50.844610Z",
     "shell.execute_reply": "2023-02-01T20:51:50.843630Z"
    },
    "papermill": {
     "duration": 0.036793,
     "end_time": "2023-02-01T20:51:50.847165",
     "exception": false,
     "start_time": "2023-02-01T20:51:50.810372",
     "status": "completed"
    },
    "tags": []
   },
   "outputs": [
    {
     "data": {
      "text/html": [
       "<div>\n",
       "<style scoped>\n",
       "    .dataframe tbody tr th:only-of-type {\n",
       "        vertical-align: middle;\n",
       "    }\n",
       "\n",
       "    .dataframe tbody tr th {\n",
       "        vertical-align: top;\n",
       "    }\n",
       "\n",
       "    .dataframe thead th {\n",
       "        text-align: right;\n",
       "    }\n",
       "</style>\n",
       "<table border=\"1\" class=\"dataframe\">\n",
       "  <thead>\n",
       "    <tr style=\"text-align: right;\">\n",
       "      <th></th>\n",
       "      <th>index</th>\n",
       "      <th>Breed</th>\n",
       "      <th>height_low_inches</th>\n",
       "      <th>height_high_inches</th>\n",
       "      <th>weight_low_lbs</th>\n",
       "      <th>weight_high_lbs</th>\n",
       "    </tr>\n",
       "  </thead>\n",
       "  <tbody>\n",
       "    <tr>\n",
       "      <th>0</th>\n",
       "      <td>0</td>\n",
       "      <td>Akita</td>\n",
       "      <td>26</td>\n",
       "      <td>28</td>\n",
       "      <td>80</td>\n",
       "      <td>120</td>\n",
       "    </tr>\n",
       "    <tr>\n",
       "      <th>1</th>\n",
       "      <td>1</td>\n",
       "      <td>Anatolian Sheepdog</td>\n",
       "      <td>27</td>\n",
       "      <td>29</td>\n",
       "      <td>100</td>\n",
       "      <td>150</td>\n",
       "    </tr>\n",
       "    <tr>\n",
       "      <th>2</th>\n",
       "      <td>2</td>\n",
       "      <td>Bernese Mountain Dog</td>\n",
       "      <td>23</td>\n",
       "      <td>27</td>\n",
       "      <td>85</td>\n",
       "      <td>110</td>\n",
       "    </tr>\n",
       "    <tr>\n",
       "      <th>3</th>\n",
       "      <td>3</td>\n",
       "      <td>Bloodhound</td>\n",
       "      <td>24</td>\n",
       "      <td>26</td>\n",
       "      <td>80</td>\n",
       "      <td>120</td>\n",
       "    </tr>\n",
       "    <tr>\n",
       "      <th>4</th>\n",
       "      <td>4</td>\n",
       "      <td>Borzoi</td>\n",
       "      <td>26</td>\n",
       "      <td>28</td>\n",
       "      <td>70</td>\n",
       "      <td>100</td>\n",
       "    </tr>\n",
       "  </tbody>\n",
       "</table>\n",
       "</div>"
      ],
      "text/plain": [
       "   index                 Breed height_low_inches height_high_inches  \\\n",
       "0      0                 Akita                26                 28   \n",
       "1      1    Anatolian Sheepdog                27                 29   \n",
       "2      2  Bernese Mountain Dog                23                 27   \n",
       "3      3            Bloodhound                24                 26   \n",
       "4      4                Borzoi                26                 28   \n",
       "\n",
       "  weight_low_lbs weight_high_lbs  \n",
       "0             80             120  \n",
       "1            100             150  \n",
       "2             85             110  \n",
       "3             80             120  \n",
       "4             70             100  "
      ]
     },
     "execution_count": 3,
     "metadata": {},
     "output_type": "execute_result"
    }
   ],
   "source": [
    "# Dog Breed Info\n",
    "breed_info.head()"
   ]
  },
  {
   "cell_type": "code",
   "execution_count": 4,
   "id": "1206f2be",
   "metadata": {
    "execution": {
     "iopub.execute_input": "2023-02-01T20:51:50.866243Z",
     "iopub.status.busy": "2023-02-01T20:51:50.865451Z",
     "iopub.status.idle": "2023-02-01T20:51:50.872610Z",
     "shell.execute_reply": "2023-02-01T20:51:50.871116Z"
    },
    "papermill": {
     "duration": 0.019796,
     "end_time": "2023-02-01T20:51:50.875355",
     "exception": false,
     "start_time": "2023-02-01T20:51:50.855559",
     "status": "completed"
    },
    "tags": []
   },
   "outputs": [
    {
     "data": {
      "text/plain": [
       "(150, 6)"
      ]
     },
     "execution_count": 4,
     "metadata": {},
     "output_type": "execute_result"
    }
   ],
   "source": [
    "breed_info.shape"
   ]
  },
  {
   "cell_type": "code",
   "execution_count": 5,
   "id": "3a489d9e",
   "metadata": {
    "execution": {
     "iopub.execute_input": "2023-02-01T20:51:50.895045Z",
     "iopub.status.busy": "2023-02-01T20:51:50.894295Z",
     "iopub.status.idle": "2023-02-01T20:51:50.903267Z",
     "shell.execute_reply": "2023-02-01T20:51:50.902008Z"
    },
    "papermill": {
     "duration": 0.021674,
     "end_time": "2023-02-01T20:51:50.905580",
     "exception": false,
     "start_time": "2023-02-01T20:51:50.883906",
     "status": "completed"
    },
    "tags": []
   },
   "outputs": [
    {
     "data": {
      "text/plain": [
       "index                  int64\n",
       "Breed                 object\n",
       "height_low_inches     object\n",
       "height_high_inches    object\n",
       "weight_low_lbs        object\n",
       "weight_high_lbs       object\n",
       "dtype: object"
      ]
     },
     "execution_count": 5,
     "metadata": {},
     "output_type": "execute_result"
    }
   ],
   "source": [
    "breed_info.dtypes"
   ]
  },
  {
   "cell_type": "markdown",
   "id": "a06ef2b0",
   "metadata": {
    "papermill": {
     "duration": 0.007467,
     "end_time": "2023-02-01T20:51:50.920704",
     "exception": false,
     "start_time": "2023-02-01T20:51:50.913237",
     "status": "completed"
    },
    "tags": []
   },
   "source": [
    "---"
   ]
  },
  {
   "cell_type": "code",
   "execution_count": 6,
   "id": "25e6da7e",
   "metadata": {
    "execution": {
     "iopub.execute_input": "2023-02-01T20:51:50.940466Z",
     "iopub.status.busy": "2023-02-01T20:51:50.939670Z",
     "iopub.status.idle": "2023-02-01T20:51:50.952909Z",
     "shell.execute_reply": "2023-02-01T20:51:50.951462Z"
    },
    "papermill": {
     "duration": 0.026145,
     "end_time": "2023-02-01T20:51:50.955850",
     "exception": false,
     "start_time": "2023-02-01T20:51:50.929705",
     "status": "completed"
    },
    "tags": []
   },
   "outputs": [
    {
     "data": {
      "text/html": [
       "<div>\n",
       "<style scoped>\n",
       "    .dataframe tbody tr th:only-of-type {\n",
       "        vertical-align: middle;\n",
       "    }\n",
       "\n",
       "    .dataframe tbody tr th {\n",
       "        vertical-align: top;\n",
       "    }\n",
       "\n",
       "    .dataframe thead th {\n",
       "        text-align: right;\n",
       "    }\n",
       "</style>\n",
       "<table border=\"1\" class=\"dataframe\">\n",
       "  <thead>\n",
       "    <tr style=\"text-align: right;\">\n",
       "      <th></th>\n",
       "      <th>index</th>\n",
       "      <th>Breed</th>\n",
       "      <th>Classification</th>\n",
       "      <th>obey</th>\n",
       "      <th>reps_lower</th>\n",
       "      <th>reps_upper</th>\n",
       "    </tr>\n",
       "  </thead>\n",
       "  <tbody>\n",
       "    <tr>\n",
       "      <th>0</th>\n",
       "      <td>0</td>\n",
       "      <td>Border Collie</td>\n",
       "      <td>Brightest Dogs</td>\n",
       "      <td>95%</td>\n",
       "      <td>1</td>\n",
       "      <td>4</td>\n",
       "    </tr>\n",
       "    <tr>\n",
       "      <th>1</th>\n",
       "      <td>1</td>\n",
       "      <td>Poodle</td>\n",
       "      <td>Brightest Dogs</td>\n",
       "      <td>95%</td>\n",
       "      <td>1</td>\n",
       "      <td>4</td>\n",
       "    </tr>\n",
       "    <tr>\n",
       "      <th>2</th>\n",
       "      <td>2</td>\n",
       "      <td>German Shepherd</td>\n",
       "      <td>Brightest Dogs</td>\n",
       "      <td>95%</td>\n",
       "      <td>1</td>\n",
       "      <td>4</td>\n",
       "    </tr>\n",
       "    <tr>\n",
       "      <th>3</th>\n",
       "      <td>3</td>\n",
       "      <td>Golden Retriever</td>\n",
       "      <td>Brightest Dogs</td>\n",
       "      <td>95%</td>\n",
       "      <td>1</td>\n",
       "      <td>4</td>\n",
       "    </tr>\n",
       "    <tr>\n",
       "      <th>4</th>\n",
       "      <td>4</td>\n",
       "      <td>Doberman Pinscher</td>\n",
       "      <td>Brightest Dogs</td>\n",
       "      <td>95%</td>\n",
       "      <td>1</td>\n",
       "      <td>4</td>\n",
       "    </tr>\n",
       "  </tbody>\n",
       "</table>\n",
       "</div>"
      ],
      "text/plain": [
       "   index              Breed  Classification obey  reps_lower  reps_upper\n",
       "0      0      Border Collie  Brightest Dogs  95%           1           4\n",
       "1      1             Poodle  Brightest Dogs  95%           1           4\n",
       "2      2    German Shepherd  Brightest Dogs  95%           1           4\n",
       "3      3   Golden Retriever  Brightest Dogs  95%           1           4\n",
       "4      4  Doberman Pinscher  Brightest Dogs  95%           1           4"
      ]
     },
     "execution_count": 6,
     "metadata": {},
     "output_type": "execute_result"
    }
   ],
   "source": [
    "# Dog Intelligence\n",
    "dog_intel.head()"
   ]
  },
  {
   "cell_type": "code",
   "execution_count": 7,
   "id": "3bcb8fac",
   "metadata": {
    "execution": {
     "iopub.execute_input": "2023-02-01T20:51:50.975160Z",
     "iopub.status.busy": "2023-02-01T20:51:50.974641Z",
     "iopub.status.idle": "2023-02-01T20:51:50.981678Z",
     "shell.execute_reply": "2023-02-01T20:51:50.980454Z"
    },
    "papermill": {
     "duration": 0.020575,
     "end_time": "2023-02-01T20:51:50.984537",
     "exception": false,
     "start_time": "2023-02-01T20:51:50.963962",
     "status": "completed"
    },
    "tags": []
   },
   "outputs": [
    {
     "data": {
      "text/plain": [
       "(150, 6)"
      ]
     },
     "execution_count": 7,
     "metadata": {},
     "output_type": "execute_result"
    }
   ],
   "source": [
    "breed_info.shape"
   ]
  },
  {
   "cell_type": "code",
   "execution_count": 8,
   "id": "032c784f",
   "metadata": {
    "execution": {
     "iopub.execute_input": "2023-02-01T20:51:51.002893Z",
     "iopub.status.busy": "2023-02-01T20:51:51.002441Z",
     "iopub.status.idle": "2023-02-01T20:51:51.011553Z",
     "shell.execute_reply": "2023-02-01T20:51:51.010117Z"
    },
    "papermill": {
     "duration": 0.021555,
     "end_time": "2023-02-01T20:51:51.014227",
     "exception": false,
     "start_time": "2023-02-01T20:51:50.992672",
     "status": "completed"
    },
    "tags": []
   },
   "outputs": [
    {
     "data": {
      "text/plain": [
       "index              int64\n",
       "Breed             object\n",
       "Classification    object\n",
       "obey              object\n",
       "reps_lower         int64\n",
       "reps_upper         int64\n",
       "dtype: object"
      ]
     },
     "execution_count": 8,
     "metadata": {},
     "output_type": "execute_result"
    }
   ],
   "source": [
    "dog_intel.dtypes"
   ]
  },
  {
   "cell_type": "code",
   "execution_count": 9,
   "id": "9776c7f7",
   "metadata": {
    "execution": {
     "iopub.execute_input": "2023-02-01T20:51:51.032770Z",
     "iopub.status.busy": "2023-02-01T20:51:51.032248Z",
     "iopub.status.idle": "2023-02-01T20:51:51.036807Z",
     "shell.execute_reply": "2023-02-01T20:51:51.035738Z"
    },
    "papermill": {
     "duration": 0.017674,
     "end_time": "2023-02-01T20:51:51.040175",
     "exception": false,
     "start_time": "2023-02-01T20:51:51.022501",
     "status": "completed"
    },
    "tags": []
   },
   "outputs": [],
   "source": [
    "# depict null values as a histogram"
   ]
  },
  {
   "cell_type": "markdown",
   "id": "099f2d80",
   "metadata": {
    "execution": {
     "iopub.execute_input": "2023-02-01T13:51:11.800152Z",
     "iopub.status.busy": "2023-02-01T13:51:11.799739Z",
     "iopub.status.idle": "2023-02-01T13:51:11.807199Z",
     "shell.execute_reply": "2023-02-01T13:51:11.805441Z",
     "shell.execute_reply.started": "2023-02-01T13:51:11.800118Z"
    },
    "papermill": {
     "duration": 0.007774,
     "end_time": "2023-02-01T20:51:51.056337",
     "exception": false,
     "start_time": "2023-02-01T20:51:51.048563",
     "status": "completed"
    },
    "tags": []
   },
   "source": [
    "## Data Cleaning"
   ]
  },
  {
   "cell_type": "code",
   "execution_count": 10,
   "id": "4836cf9e",
   "metadata": {
    "execution": {
     "iopub.execute_input": "2023-02-01T20:51:51.074535Z",
     "iopub.status.busy": "2023-02-01T20:51:51.074016Z",
     "iopub.status.idle": "2023-02-01T20:51:51.104002Z",
     "shell.execute_reply": "2023-02-01T20:51:51.102390Z"
    },
    "papermill": {
     "duration": 0.042687,
     "end_time": "2023-02-01T20:51:51.107172",
     "exception": false,
     "start_time": "2023-02-01T20:51:51.064485",
     "status": "completed"
    },
    "tags": []
   },
   "outputs": [
    {
     "name": "stdout",
     "output_type": "stream",
     "text": [
      "['26' '27' '23' '24' '25' '32' '28' '22' 'na' '21' '19' '20' '26.5' '15'\n",
      " '17' '18' '14' '12' '10' '13' '16' '48' '9' '9.5' '7' 'not found' '11'\n",
      " '8' '6']\n",
      "['28' '29' '27' '26' '32' '35' '30' 'na' '25' '20' '24' '35.5' '19' '18'\n",
      " '23' '14' '22' '21' '16' '17' '15' '66' '10' '11.5' '8' '12' 'not found'\n",
      " '11' '13' '9']\n",
      "['80' '100' '85' '70' '120' '95' '130' '90' '175' '65' '110' '50' 'na'\n",
      " '60' '75' '74' '55' '35' '45' '140' '40' '25' '30' '22' '31' '42' '44'\n",
      " '24' '33' '10' '20' '18' '12' '15' '6' '14' 'not found' '16' '8' '9' '17'\n",
      " '34' '29' '13' '27' '2' '5' '4' '3']\n",
      "['120' '150' '110' '100' '130' '160' '190' '60' 'na' '70' '65' '75' '140'\n",
      " '95' '76' '80' '90' '135' '45' '85' '170' '50' '40' '55' '28' '35' '27'\n",
      " '66' '33' '25' '30' '14' '22' '23' '18' '15' '12' '20' 'not found' '32'\n",
      " '11' '36' '17' '16' '21' '5' '10' '6' '8' '7']\n"
     ]
    }
   ],
   "source": [
    "# find & clear null values\n",
    "obj_cols = ['height_low_inches','height_high_inches','weight_low_lbs','weight_high_lbs']\n",
    "for i in obj_cols:\n",
    "    print(breed_info[i].unique())\n",
    "\n",
    "# alaskan malamute and coton de tulear: have no data for all fields in height/weight, so we can't use them\n",
    "# dropping 2 rows based on value\n",
    "breed_info = breed_info[breed_info['height_low_inches'] != 'na']\n",
    "breed_info = breed_info[breed_info['height_low_inches'] != 'not found']\n",
    "\n",
    "# convert numeric columns to numbers\n",
    "for i in obj_cols:\n",
    "    breed_info[i] = pd.to_numeric(breed_info[i])\n",
    "    \n",
    "# drop the 'index' column\n",
    "breed_info = breed_info.drop('index', axis=1)\n",
    "\n",
    "# calculate average columns based on height and weight\n",
    "# drop the 'index' column\n",
    "breed_info['avg_height'] = (breed_info['height_high_inches'] + breed_info['height_low_inches'])/2\n",
    "breed_info['avg_weight'] = (breed_info['weight_high_lbs'] + breed_info['weight_low_lbs'])/2"
   ]
  },
  {
   "cell_type": "markdown",
   "id": "3b884a5d",
   "metadata": {
    "papermill": {
     "duration": 0.007842,
     "end_time": "2023-02-01T20:51:51.123530",
     "exception": false,
     "start_time": "2023-02-01T20:51:51.115688",
     "status": "completed"
    },
    "tags": []
   },
   "source": [
    "---"
   ]
  },
  {
   "cell_type": "code",
   "execution_count": 11,
   "id": "67dc4a19",
   "metadata": {
    "execution": {
     "iopub.execute_input": "2023-02-01T20:51:51.142234Z",
     "iopub.status.busy": "2023-02-01T20:51:51.141747Z",
     "iopub.status.idle": "2023-02-01T20:51:51.158100Z",
     "shell.execute_reply": "2023-02-01T20:51:51.156785Z"
    },
    "papermill": {
     "duration": 0.028816,
     "end_time": "2023-02-01T20:51:51.160713",
     "exception": false,
     "start_time": "2023-02-01T20:51:51.131897",
     "status": "completed"
    },
    "tags": []
   },
   "outputs": [
    {
     "data": {
      "text/html": [
       "<div>\n",
       "<style scoped>\n",
       "    .dataframe tbody tr th:only-of-type {\n",
       "        vertical-align: middle;\n",
       "    }\n",
       "\n",
       "    .dataframe tbody tr th {\n",
       "        vertical-align: top;\n",
       "    }\n",
       "\n",
       "    .dataframe thead th {\n",
       "        text-align: right;\n",
       "    }\n",
       "</style>\n",
       "<table border=\"1\" class=\"dataframe\">\n",
       "  <thead>\n",
       "    <tr style=\"text-align: right;\">\n",
       "      <th></th>\n",
       "      <th>Breed</th>\n",
       "      <th>height_low_inches</th>\n",
       "      <th>height_high_inches</th>\n",
       "      <th>weight_low_lbs</th>\n",
       "      <th>weight_high_lbs</th>\n",
       "      <th>avg_height</th>\n",
       "      <th>avg_weight</th>\n",
       "    </tr>\n",
       "  </thead>\n",
       "  <tbody>\n",
       "    <tr>\n",
       "      <th>0</th>\n",
       "      <td>Akita</td>\n",
       "      <td>26.0</td>\n",
       "      <td>28.0</td>\n",
       "      <td>80</td>\n",
       "      <td>120</td>\n",
       "      <td>27.0</td>\n",
       "      <td>100.0</td>\n",
       "    </tr>\n",
       "    <tr>\n",
       "      <th>1</th>\n",
       "      <td>Anatolian Sheepdog</td>\n",
       "      <td>27.0</td>\n",
       "      <td>29.0</td>\n",
       "      <td>100</td>\n",
       "      <td>150</td>\n",
       "      <td>28.0</td>\n",
       "      <td>125.0</td>\n",
       "    </tr>\n",
       "    <tr>\n",
       "      <th>2</th>\n",
       "      <td>Bernese Mountain Dog</td>\n",
       "      <td>23.0</td>\n",
       "      <td>27.0</td>\n",
       "      <td>85</td>\n",
       "      <td>110</td>\n",
       "      <td>25.0</td>\n",
       "      <td>97.5</td>\n",
       "    </tr>\n",
       "    <tr>\n",
       "      <th>3</th>\n",
       "      <td>Bloodhound</td>\n",
       "      <td>24.0</td>\n",
       "      <td>26.0</td>\n",
       "      <td>80</td>\n",
       "      <td>120</td>\n",
       "      <td>25.0</td>\n",
       "      <td>100.0</td>\n",
       "    </tr>\n",
       "    <tr>\n",
       "      <th>4</th>\n",
       "      <td>Borzoi</td>\n",
       "      <td>26.0</td>\n",
       "      <td>28.0</td>\n",
       "      <td>70</td>\n",
       "      <td>100</td>\n",
       "      <td>27.0</td>\n",
       "      <td>85.0</td>\n",
       "    </tr>\n",
       "  </tbody>\n",
       "</table>\n",
       "</div>"
      ],
      "text/plain": [
       "                  Breed  height_low_inches  height_high_inches  \\\n",
       "0                 Akita               26.0                28.0   \n",
       "1    Anatolian Sheepdog               27.0                29.0   \n",
       "2  Bernese Mountain Dog               23.0                27.0   \n",
       "3            Bloodhound               24.0                26.0   \n",
       "4                Borzoi               26.0                28.0   \n",
       "\n",
       "   weight_low_lbs  weight_high_lbs  avg_height  avg_weight  \n",
       "0              80              120        27.0       100.0  \n",
       "1             100              150        28.0       125.0  \n",
       "2              85              110        25.0        97.5  \n",
       "3              80              120        25.0       100.0  \n",
       "4              70              100        27.0        85.0  "
      ]
     },
     "execution_count": 11,
     "metadata": {},
     "output_type": "execute_result"
    }
   ],
   "source": [
    "breed_info.head()"
   ]
  },
  {
   "cell_type": "code",
   "execution_count": 12,
   "id": "67dbf670",
   "metadata": {
    "execution": {
     "iopub.execute_input": "2023-02-01T20:51:51.180589Z",
     "iopub.status.busy": "2023-02-01T20:51:51.180117Z",
     "iopub.status.idle": "2023-02-01T20:51:51.189004Z",
     "shell.execute_reply": "2023-02-01T20:51:51.187709Z"
    },
    "papermill": {
     "duration": 0.021839,
     "end_time": "2023-02-01T20:51:51.191622",
     "exception": false,
     "start_time": "2023-02-01T20:51:51.169783",
     "status": "completed"
    },
    "tags": []
   },
   "outputs": [
    {
     "data": {
      "text/plain": [
       "array(['Akita', 'Anatolian Sheepdog', 'Bernese Mountain Dog',\n",
       "       'Bloodhound', 'Borzoi', 'Bullmastiff', 'Great Dane',\n",
       "       'Great Pyrenees', 'Great Swiss Mountain Dog', 'Irish Wolfhound',\n",
       "       'Kuvasz', 'Mastiff', 'Neopolitan Mastiff', 'Newfoundland',\n",
       "       'Otter Hound', 'Rottweiler', 'Saint Bernard', 'Afghan Hound',\n",
       "       'American Foxhound', 'Beauceron', 'Belgian Malinois',\n",
       "       'Belgian Sheepdog', 'Belgian Tervuren', 'Black And Tan Coonhound',\n",
       "       'Black Russian Terrier', 'Bouvier Des Flandres', 'Boxer', 'Briard',\n",
       "       'Chesapeake Bay Retriever', 'Clumber Spaniel',\n",
       "       'Collie (Rough) & (Smooth)', 'Curly Coated Retriever',\n",
       "       'Doberman Pinscher', 'English Foxhound', 'English Setter',\n",
       "       'German Shepherd Dog', 'German Shorthaired Pointer',\n",
       "       'German Wirehaired Pointer', 'Giant Schnauzer', 'Golden Retriever',\n",
       "       'Gordon Setter', 'Greyhound', 'Irish Setter', 'Komondor',\n",
       "       'Labrador Retriever', 'Old English Sheepdog (Bobtail)',\n",
       "       'Poodle Standard', 'Rhodesian Ridgeback', 'Scottish Deerhound',\n",
       "       'Spinone Italiano', 'Tibetan Mastiff', 'Weimaraner',\n",
       "       'Airdale Terrier', 'American Staffordshire Terrier',\n",
       "       'American Water Spaniel', 'Australian Cattle Dog',\n",
       "       'Australian Shepherd', 'Basset Hound', 'Bearded Collie',\n",
       "       'Border Collie', 'Brittany', 'Bull Dog', 'Bull Terrier',\n",
       "       'Canaan Dog', 'Chinese Shar Pei', 'Chow Chow',\n",
       "       'Cocker Spaniel-American', 'Cocker Spaniel-English', 'Dalmatian',\n",
       "       'English Springer Spaniel', 'Field Spaniel',\n",
       "       'Flat Coated Retriever', 'Finnish Spitz', 'Harrier',\n",
       "       'Ibizan Hound', 'Irish Terrier', 'Irish Water Spaniel', 'Keeshond',\n",
       "       'Kerry Blue Terrier', 'Norwegian Elkhound',\n",
       "       'Nova Scotia Duck Tolling Retriever',\n",
       "       'Petit Basset Griffon Vendeen', 'Pharaoh Hound', 'Plott Hound',\n",
       "       'Pointer', 'Polish Lowland Sheepdog', 'Portuguese Water Dog',\n",
       "       'Redbone Coonhound', 'Saluki', 'Samoyed', 'Siberian Husky',\n",
       "       'Soft-Coated Wheaten Terrier', 'Staffordshire Bull Terrier',\n",
       "       'Standard Schnauzer', 'Sussex Spaniel', 'Vizsla',\n",
       "       'Welsh Springer Spaniel', 'Wirehaired Pointing Griffon',\n",
       "       'American Eskimo', 'Australian Terrier', 'Basenji', 'Beagle',\n",
       "       'Bedlington Terrier', 'Bichon Frise', 'Border Terrier',\n",
       "       'Boston Terrier', 'Brussels Griffon', 'Cairn Terrier',\n",
       "       'Cardigan Welsh Corgi', 'Cavalier King Charles Spaniel',\n",
       "       'Dachshund', 'Dandie Dinmont Terrier', 'English Toy Spaniel',\n",
       "       'Fox Terrier ‰ÛÒ Smooth', 'Fox Terrier ‰ÛÒ Wirehair',\n",
       "       'French Bulldog', 'German Pinscher', 'Glen Imaal Terrier',\n",
       "       'Lakeland Terrier', 'Manchester Terrier (Standard)',\n",
       "       'Poodle Miniature', 'Pug', 'Puli', 'Schipperke',\n",
       "       'Scottish Terrier', 'Sealyham Terrier',\n",
       "       'Shetland Sheepdog (Sheltie)', 'Shiba Inu', 'Shih Tzu',\n",
       "       'Silky Terrier', 'Skye Terrier', 'Tibetan Spaniel',\n",
       "       'Tibetan Terrier', 'Welsh Terrier', 'West Highland White Terrier',\n",
       "       'Whippet', 'Affenpinscher', 'Chihuahua', 'Chinese Crested',\n",
       "       'Italian Greyhound', 'Japanese Chin', 'Maltese',\n",
       "       'Manchester Terrier (Toy)', 'Papillon', 'Pomeranian', 'Poodle Toy',\n",
       "       'Toy Fox Terrier', 'Yorkshire Terrier'], dtype=object)"
      ]
     },
     "execution_count": 12,
     "metadata": {},
     "output_type": "execute_result"
    }
   ],
   "source": [
    "breed_info['Breed'].unique()"
   ]
  },
  {
   "cell_type": "code",
   "execution_count": 13,
   "id": "274421ec",
   "metadata": {
    "execution": {
     "iopub.execute_input": "2023-02-01T20:51:51.211710Z",
     "iopub.status.busy": "2023-02-01T20:51:51.211251Z",
     "iopub.status.idle": "2023-02-01T20:51:51.220507Z",
     "shell.execute_reply": "2023-02-01T20:51:51.219343Z"
    },
    "papermill": {
     "duration": 0.022878,
     "end_time": "2023-02-01T20:51:51.223410",
     "exception": false,
     "start_time": "2023-02-01T20:51:51.200532",
     "status": "completed"
    },
    "tags": []
   },
   "outputs": [],
   "source": [
    "# clean 'dog_intel' data\n",
    "\n",
    "\n",
    "# drop 'index' column\n",
    "dog_intel = dog_intel.drop('index', axis=1)\n",
    "\n",
    "# convert 'Classification' to categorical datatype\n",
    "dog_intel['Classification'] = dog_intel['Classification'].astype('category')\n",
    "\n"
   ]
  },
  {
   "cell_type": "code",
   "execution_count": 14,
   "id": "864bdd8e",
   "metadata": {
    "execution": {
     "iopub.execute_input": "2023-02-01T20:51:51.243625Z",
     "iopub.status.busy": "2023-02-01T20:51:51.243171Z",
     "iopub.status.idle": "2023-02-01T20:51:51.249457Z",
     "shell.execute_reply": "2023-02-01T20:51:51.248137Z"
    },
    "papermill": {
     "duration": 0.019404,
     "end_time": "2023-02-01T20:51:51.251872",
     "exception": false,
     "start_time": "2023-02-01T20:51:51.232468",
     "status": "completed"
    },
    "tags": []
   },
   "outputs": [],
   "source": [
    "# convert 'Classification' to categorical datatype\n",
    "dog_intel['Classification'] = dog_intel['Classification'].astype('category')"
   ]
  },
  {
   "cell_type": "code",
   "execution_count": 15,
   "id": "d846c6aa",
   "metadata": {
    "execution": {
     "iopub.execute_input": "2023-02-01T20:51:51.272628Z",
     "iopub.status.busy": "2023-02-01T20:51:51.271944Z",
     "iopub.status.idle": "2023-02-01T20:51:51.281537Z",
     "shell.execute_reply": "2023-02-01T20:51:51.280165Z"
    },
    "papermill": {
     "duration": 0.023152,
     "end_time": "2023-02-01T20:51:51.284547",
     "exception": false,
     "start_time": "2023-02-01T20:51:51.261395",
     "status": "completed"
    },
    "tags": []
   },
   "outputs": [
    {
     "data": {
      "text/plain": [
       "Breed               object\n",
       "Classification    category\n",
       "obey                object\n",
       "reps_lower           int64\n",
       "reps_upper           int64\n",
       "dtype: object"
      ]
     },
     "execution_count": 15,
     "metadata": {},
     "output_type": "execute_result"
    }
   ],
   "source": [
    "dog_intel.dtypes"
   ]
  },
  {
   "cell_type": "code",
   "execution_count": 16,
   "id": "40edddea",
   "metadata": {
    "execution": {
     "iopub.execute_input": "2023-02-01T20:51:51.304368Z",
     "iopub.status.busy": "2023-02-01T20:51:51.303875Z",
     "iopub.status.idle": "2023-02-01T20:51:51.311927Z",
     "shell.execute_reply": "2023-02-01T20:51:51.310587Z"
    },
    "papermill": {
     "duration": 0.020958,
     "end_time": "2023-02-01T20:51:51.314379",
     "exception": false,
     "start_time": "2023-02-01T20:51:51.293421",
     "status": "completed"
    },
    "tags": []
   },
   "outputs": [
    {
     "data": {
      "text/plain": [
       "Index(['Breed', 'Classification', 'obey', 'reps_lower', 'reps_upper'], dtype='object')"
      ]
     },
     "execution_count": 16,
     "metadata": {},
     "output_type": "execute_result"
    }
   ],
   "source": [
    "dog_intel.columns"
   ]
  },
  {
   "cell_type": "code",
   "execution_count": 17,
   "id": "cef7ba6d",
   "metadata": {
    "execution": {
     "iopub.execute_input": "2023-02-01T20:51:51.334763Z",
     "iopub.status.busy": "2023-02-01T20:51:51.333855Z",
     "iopub.status.idle": "2023-02-01T20:51:51.347984Z",
     "shell.execute_reply": "2023-02-01T20:51:51.346380Z"
    },
    "papermill": {
     "duration": 0.028033,
     "end_time": "2023-02-01T20:51:51.351452",
     "exception": false,
     "start_time": "2023-02-01T20:51:51.323419",
     "status": "completed"
    },
    "tags": []
   },
   "outputs": [
    {
     "name": "stdout",
     "output_type": "stream",
     "text": [
      "['Border Collie' 'Poodle' 'German Shepherd' 'Golden Retriever'\n",
      " 'Doberman Pinscher' 'Shetland Sheepdog' 'Labrador Retriever' 'Papillon'\n",
      " 'Rottweiler' 'Australian Cattle Dog' 'Pembroke Welsh Corgi'\n",
      " 'Miniature Schnauzer' 'English Springer Spaniel'\n",
      " 'Belgian Shepherd Dog (Tervuren)' 'Schipperke' 'Belgian Sheepdog'\n",
      " 'Collie' 'Keeshond' 'German Shorthaired Pointer' 'Flat-Coated Retriever'\n",
      " 'English Cocker Spaniel' 'Standard Schnauzer' 'Brittany' 'Cocker Spaniel'\n",
      " 'Weimaraner' 'Belgian Malinois' 'Bernese Mountain Dog' 'Pomeranian'\n",
      " 'Irish Water Spaniel' 'Vizsla' 'Cardigan Welsh Corgi'\n",
      " 'Chesapeake Bay Retriever' 'Puli' 'Yorkshire Terrier' 'Giant Schnauzer'\n",
      " 'Portuguese Water Dog' 'Airedale Terrier' 'Bouvier des Flandres'\n",
      " 'Border Terrier' 'Briard' 'Welsh Springer Spaniel' 'Manchester Terrier'\n",
      " 'Samoyed' 'Field Spaniel' 'Newfoundland' 'Australian Terrier'\n",
      " 'American Staffordshire Terrier' 'Gordon Setter' 'Bearded Collie'\n",
      " 'Cairn Terrier' 'Kerry Blue Terrier' 'Irish Setter' 'Norwegian Elkhound'\n",
      " 'Affenpinscher' 'Australian Silky Terrier' 'Miniature Pinscher'\n",
      " 'English Setter' 'Pharaoh Hound' 'Clumber Spaniel' 'Norwich Terrier'\n",
      " 'Dalmatian' 'Soft-coated Wheaten Terrier' 'Bedlington Terrier'\n",
      " 'Fox Terrier (Smooth)' 'Curly Coated Retriever' 'Irish Wolfhound'\n",
      " 'Kuvasz' 'Australian Shepherd' 'Saluki' 'Finnish Spitz' 'Pointer'\n",
      " 'Cavalier King Charles Spaniel' 'German Wirehaired Pointer'\n",
      " 'Black and Tan Coonhound' 'American Water Spaniel' 'Siberian Husky'\n",
      " 'Bichon Frise' 'King Charles Spaniel' 'Tibetan Spaniel'\n",
      " 'English Foxhound' 'Otterhound' 'Jack Russell terrier'\n",
      " 'American Foxhound' 'Greyhound' 'Wirehaired Pointing Griffon'\n",
      " 'West Highland White Terrier' 'Havanese' 'Scottish Deerhound' 'Boxer'\n",
      " 'Great Dane' 'Dachshund' 'Shiba Inu' 'Staffordshire Bull Terrier'\n",
      " 'Alaskan Malamute' 'Whippet' 'Chinese Shar Pei' 'Wire Fox Terrier'\n",
      " 'Rhodesian Ridgeback' 'Ibizan Hound' 'Welsh Terrier' 'Irish Terrier'\n",
      " 'Boston Terrier' 'Akita' 'Skye Terrier' 'Norfolk Terrier'\n",
      " 'Sealyham Terrier' 'Pug' 'French Bulldog' 'Griffon Bruxellois' 'Maltese'\n",
      " 'Italian Greyhound' 'Chinese Crested' 'Dandie Dinmont Terrier'\n",
      " 'Petit Basset Griffon Vend̩en' 'Tibetan Terrier' 'Japanese Chin'\n",
      " 'Lakeland Terrier' 'Old English Sheepdog' 'Great Pyrenees'\n",
      " 'Scottish Terrier' 'Saint Bernard' 'Bull Terrier' 'Chihuahua'\n",
      " 'Lhasa Apso' 'Bullmastiff' 'Shih Tzu' 'Basset Hound' 'Mastiff' 'Beagle'\n",
      " 'Pekingese' 'Bloodhound' 'Borzoi' 'Chow Chow' 'Bulldog' 'Basenji'\n",
      " 'Afghan Hound']\n",
      "['Brightest Dogs', 'Excellent Working Dogs', 'Above Average Working Dogs', 'Average Working/Obedience Intelligence', 'Fair Working/Obedience Intelligence', 'Lowest Degree of Working/Obedience Intelligen...]\n",
      "Categories (6, object): ['Above Average Working Dogs', 'Average Working/Obedience Intelligence', 'Brightest Dogs', 'Excellent Working Dogs', 'Fair Working/Obedience Intelligence', 'Lowest Degree of Working/Obedience Intelligen...]\n",
      "['95%' '85%' '70%' '50%' '30%' nan]\n",
      "[ 1  5 16 26 41 81]\n",
      "[  4  15  25  40  80 100]\n"
     ]
    }
   ],
   "source": [
    "for i in dog_intel.columns:\n",
    "    print(dog_intel[i].unique())"
   ]
  },
  {
   "cell_type": "code",
   "execution_count": 18,
   "id": "39484033",
   "metadata": {
    "execution": {
     "iopub.execute_input": "2023-02-01T20:51:51.373150Z",
     "iopub.status.busy": "2023-02-01T20:51:51.372668Z",
     "iopub.status.idle": "2023-02-01T20:51:51.386466Z",
     "shell.execute_reply": "2023-02-01T20:51:51.385164Z"
    },
    "papermill": {
     "duration": 0.027594,
     "end_time": "2023-02-01T20:51:51.389325",
     "exception": false,
     "start_time": "2023-02-01T20:51:51.361731",
     "status": "completed"
    },
    "tags": []
   },
   "outputs": [
    {
     "data": {
      "text/html": [
       "<div>\n",
       "<style scoped>\n",
       "    .dataframe tbody tr th:only-of-type {\n",
       "        vertical-align: middle;\n",
       "    }\n",
       "\n",
       "    .dataframe tbody tr th {\n",
       "        vertical-align: top;\n",
       "    }\n",
       "\n",
       "    .dataframe thead th {\n",
       "        text-align: right;\n",
       "    }\n",
       "</style>\n",
       "<table border=\"1\" class=\"dataframe\">\n",
       "  <thead>\n",
       "    <tr style=\"text-align: right;\">\n",
       "      <th></th>\n",
       "      <th>Breed</th>\n",
       "      <th>Classification</th>\n",
       "      <th>obey</th>\n",
       "      <th>reps_lower</th>\n",
       "      <th>reps_upper</th>\n",
       "    </tr>\n",
       "  </thead>\n",
       "  <tbody>\n",
       "    <tr>\n",
       "      <th>0</th>\n",
       "      <td>Border Collie</td>\n",
       "      <td>Brightest Dogs</td>\n",
       "      <td>95%</td>\n",
       "      <td>1</td>\n",
       "      <td>4</td>\n",
       "    </tr>\n",
       "    <tr>\n",
       "      <th>1</th>\n",
       "      <td>Poodle</td>\n",
       "      <td>Brightest Dogs</td>\n",
       "      <td>95%</td>\n",
       "      <td>1</td>\n",
       "      <td>4</td>\n",
       "    </tr>\n",
       "    <tr>\n",
       "      <th>2</th>\n",
       "      <td>German Shepherd</td>\n",
       "      <td>Brightest Dogs</td>\n",
       "      <td>95%</td>\n",
       "      <td>1</td>\n",
       "      <td>4</td>\n",
       "    </tr>\n",
       "    <tr>\n",
       "      <th>3</th>\n",
       "      <td>Golden Retriever</td>\n",
       "      <td>Brightest Dogs</td>\n",
       "      <td>95%</td>\n",
       "      <td>1</td>\n",
       "      <td>4</td>\n",
       "    </tr>\n",
       "    <tr>\n",
       "      <th>4</th>\n",
       "      <td>Doberman Pinscher</td>\n",
       "      <td>Brightest Dogs</td>\n",
       "      <td>95%</td>\n",
       "      <td>1</td>\n",
       "      <td>4</td>\n",
       "    </tr>\n",
       "  </tbody>\n",
       "</table>\n",
       "</div>"
      ],
      "text/plain": [
       "               Breed  Classification obey  reps_lower  reps_upper\n",
       "0      Border Collie  Brightest Dogs  95%           1           4\n",
       "1             Poodle  Brightest Dogs  95%           1           4\n",
       "2    German Shepherd  Brightest Dogs  95%           1           4\n",
       "3   Golden Retriever  Brightest Dogs  95%           1           4\n",
       "4  Doberman Pinscher  Brightest Dogs  95%           1           4"
      ]
     },
     "execution_count": 18,
     "metadata": {},
     "output_type": "execute_result"
    }
   ],
   "source": [
    "dog_intel.head()"
   ]
  },
  {
   "cell_type": "code",
   "execution_count": 19,
   "id": "19a6b747",
   "metadata": {
    "execution": {
     "iopub.execute_input": "2023-02-01T20:51:51.412916Z",
     "iopub.status.busy": "2023-02-01T20:51:51.412315Z",
     "iopub.status.idle": "2023-02-01T20:51:51.430920Z",
     "shell.execute_reply": "2023-02-01T20:51:51.429497Z"
    },
    "papermill": {
     "duration": 0.034112,
     "end_time": "2023-02-01T20:51:51.433448",
     "exception": false,
     "start_time": "2023-02-01T20:51:51.399336",
     "status": "completed"
    },
    "tags": []
   },
   "outputs": [
    {
     "data": {
      "text/html": [
       "<div>\n",
       "<style scoped>\n",
       "    .dataframe tbody tr th:only-of-type {\n",
       "        vertical-align: middle;\n",
       "    }\n",
       "\n",
       "    .dataframe tbody tr th {\n",
       "        vertical-align: top;\n",
       "    }\n",
       "\n",
       "    .dataframe thead th {\n",
       "        text-align: right;\n",
       "    }\n",
       "</style>\n",
       "<table border=\"1\" class=\"dataframe\">\n",
       "  <thead>\n",
       "    <tr style=\"text-align: right;\">\n",
       "      <th></th>\n",
       "      <th>Breed</th>\n",
       "      <th>Classification</th>\n",
       "      <th>obey</th>\n",
       "      <th>reps_lower</th>\n",
       "      <th>reps_upper</th>\n",
       "    </tr>\n",
       "  </thead>\n",
       "  <tbody>\n",
       "    <tr>\n",
       "      <th>125</th>\n",
       "      <td>Shih Tzu</td>\n",
       "      <td>Lowest Degree of Working/Obedience Intelligence</td>\n",
       "      <td>NaN</td>\n",
       "      <td>81</td>\n",
       "      <td>100</td>\n",
       "    </tr>\n",
       "    <tr>\n",
       "      <th>126</th>\n",
       "      <td>Basset Hound</td>\n",
       "      <td>Lowest Degree of Working/Obedience Intelligence</td>\n",
       "      <td>NaN</td>\n",
       "      <td>81</td>\n",
       "      <td>100</td>\n",
       "    </tr>\n",
       "    <tr>\n",
       "      <th>127</th>\n",
       "      <td>Mastiff</td>\n",
       "      <td>Lowest Degree of Working/Obedience Intelligence</td>\n",
       "      <td>NaN</td>\n",
       "      <td>81</td>\n",
       "      <td>100</td>\n",
       "    </tr>\n",
       "    <tr>\n",
       "      <th>128</th>\n",
       "      <td>Beagle</td>\n",
       "      <td>Lowest Degree of Working/Obedience Intelligence</td>\n",
       "      <td>NaN</td>\n",
       "      <td>81</td>\n",
       "      <td>100</td>\n",
       "    </tr>\n",
       "    <tr>\n",
       "      <th>129</th>\n",
       "      <td>Pekingese</td>\n",
       "      <td>Lowest Degree of Working/Obedience Intelligence</td>\n",
       "      <td>NaN</td>\n",
       "      <td>81</td>\n",
       "      <td>100</td>\n",
       "    </tr>\n",
       "    <tr>\n",
       "      <th>130</th>\n",
       "      <td>Bloodhound</td>\n",
       "      <td>Lowest Degree of Working/Obedience Intelligence</td>\n",
       "      <td>NaN</td>\n",
       "      <td>81</td>\n",
       "      <td>100</td>\n",
       "    </tr>\n",
       "    <tr>\n",
       "      <th>131</th>\n",
       "      <td>Borzoi</td>\n",
       "      <td>Lowest Degree of Working/Obedience Intelligence</td>\n",
       "      <td>NaN</td>\n",
       "      <td>81</td>\n",
       "      <td>100</td>\n",
       "    </tr>\n",
       "    <tr>\n",
       "      <th>132</th>\n",
       "      <td>Chow Chow</td>\n",
       "      <td>Lowest Degree of Working/Obedience Intelligence</td>\n",
       "      <td>NaN</td>\n",
       "      <td>81</td>\n",
       "      <td>100</td>\n",
       "    </tr>\n",
       "    <tr>\n",
       "      <th>133</th>\n",
       "      <td>Bulldog</td>\n",
       "      <td>Lowest Degree of Working/Obedience Intelligence</td>\n",
       "      <td>NaN</td>\n",
       "      <td>81</td>\n",
       "      <td>100</td>\n",
       "    </tr>\n",
       "    <tr>\n",
       "      <th>134</th>\n",
       "      <td>Basenji</td>\n",
       "      <td>Lowest Degree of Working/Obedience Intelligence</td>\n",
       "      <td>NaN</td>\n",
       "      <td>81</td>\n",
       "      <td>100</td>\n",
       "    </tr>\n",
       "    <tr>\n",
       "      <th>135</th>\n",
       "      <td>Afghan Hound</td>\n",
       "      <td>Lowest Degree of Working/Obedience Intelligence</td>\n",
       "      <td>NaN</td>\n",
       "      <td>81</td>\n",
       "      <td>100</td>\n",
       "    </tr>\n",
       "  </tbody>\n",
       "</table>\n",
       "</div>"
      ],
      "text/plain": [
       "            Breed                                    Classification obey  \\\n",
       "125      Shih Tzu  Lowest Degree of Working/Obedience Intelligence   NaN   \n",
       "126  Basset Hound  Lowest Degree of Working/Obedience Intelligence   NaN   \n",
       "127       Mastiff  Lowest Degree of Working/Obedience Intelligence   NaN   \n",
       "128        Beagle  Lowest Degree of Working/Obedience Intelligence   NaN   \n",
       "129     Pekingese  Lowest Degree of Working/Obedience Intelligence   NaN   \n",
       "130    Bloodhound  Lowest Degree of Working/Obedience Intelligence   NaN   \n",
       "131        Borzoi  Lowest Degree of Working/Obedience Intelligence   NaN   \n",
       "132     Chow Chow  Lowest Degree of Working/Obedience Intelligence   NaN   \n",
       "133       Bulldog  Lowest Degree of Working/Obedience Intelligence   NaN   \n",
       "134       Basenji  Lowest Degree of Working/Obedience Intelligence   NaN   \n",
       "135  Afghan Hound  Lowest Degree of Working/Obedience Intelligence   NaN   \n",
       "\n",
       "     reps_lower  reps_upper  \n",
       "125          81         100  \n",
       "126          81         100  \n",
       "127          81         100  \n",
       "128          81         100  \n",
       "129          81         100  \n",
       "130          81         100  \n",
       "131          81         100  \n",
       "132          81         100  \n",
       "133          81         100  \n",
       "134          81         100  \n",
       "135          81         100  "
      ]
     },
     "execution_count": 19,
     "metadata": {},
     "output_type": "execute_result"
    }
   ],
   "source": [
    "dog_intel[dog_intel['obey'].isnull()]\n",
    "# dog_intel['obey'].unique()\n"
   ]
  },
  {
   "cell_type": "code",
   "execution_count": 20,
   "id": "1b33646e",
   "metadata": {
    "execution": {
     "iopub.execute_input": "2023-02-01T20:51:51.455089Z",
     "iopub.status.busy": "2023-02-01T20:51:51.454567Z",
     "iopub.status.idle": "2023-02-01T20:51:51.462290Z",
     "shell.execute_reply": "2023-02-01T20:51:51.460967Z"
    },
    "papermill": {
     "duration": 0.021927,
     "end_time": "2023-02-01T20:51:51.464990",
     "exception": false,
     "start_time": "2023-02-01T20:51:51.443063",
     "status": "completed"
    },
    "tags": []
   },
   "outputs": [
    {
     "data": {
      "text/plain": [
       "(136, 5)"
      ]
     },
     "execution_count": 20,
     "metadata": {},
     "output_type": "execute_result"
    }
   ],
   "source": [
    "dog_intel.shape"
   ]
  },
  {
   "cell_type": "code",
   "execution_count": 21,
   "id": "6c59142a",
   "metadata": {
    "execution": {
     "iopub.execute_input": "2023-02-01T20:51:51.486736Z",
     "iopub.status.busy": "2023-02-01T20:51:51.486270Z",
     "iopub.status.idle": "2023-02-01T20:51:51.498930Z",
     "shell.execute_reply": "2023-02-01T20:51:51.497518Z"
    },
    "papermill": {
     "duration": 0.026756,
     "end_time": "2023-02-01T20:51:51.501369",
     "exception": false,
     "start_time": "2023-02-01T20:51:51.474613",
     "status": "completed"
    },
    "tags": []
   },
   "outputs": [
    {
     "data": {
      "text/html": [
       "<div>\n",
       "<style scoped>\n",
       "    .dataframe tbody tr th:only-of-type {\n",
       "        vertical-align: middle;\n",
       "    }\n",
       "\n",
       "    .dataframe tbody tr th {\n",
       "        vertical-align: top;\n",
       "    }\n",
       "\n",
       "    .dataframe thead th {\n",
       "        text-align: right;\n",
       "    }\n",
       "</style>\n",
       "<table border=\"1\" class=\"dataframe\">\n",
       "  <thead>\n",
       "    <tr style=\"text-align: right;\">\n",
       "      <th></th>\n",
       "      <th>Breed</th>\n",
       "      <th>Classification</th>\n",
       "      <th>obey</th>\n",
       "      <th>reps_lower</th>\n",
       "      <th>reps_upper</th>\n",
       "    </tr>\n",
       "  </thead>\n",
       "  <tbody>\n",
       "  </tbody>\n",
       "</table>\n",
       "</div>"
      ],
      "text/plain": [
       "Empty DataFrame\n",
       "Columns: [Breed, Classification, obey, reps_lower, reps_upper]\n",
       "Index: []"
      ]
     },
     "execution_count": 21,
     "metadata": {},
     "output_type": "execute_result"
    }
   ],
   "source": [
    "dog_intel[dog_intel['Classification']=='Lowest Degree of Working/Obedience Intelligence']"
   ]
  },
  {
   "cell_type": "code",
   "execution_count": 22,
   "id": "10f04d99",
   "metadata": {
    "execution": {
     "iopub.execute_input": "2023-02-01T20:51:51.522829Z",
     "iopub.status.busy": "2023-02-01T20:51:51.522339Z",
     "iopub.status.idle": "2023-02-01T20:51:51.530160Z",
     "shell.execute_reply": "2023-02-01T20:51:51.528792Z"
    },
    "papermill": {
     "duration": 0.022104,
     "end_time": "2023-02-01T20:51:51.533131",
     "exception": false,
     "start_time": "2023-02-01T20:51:51.511027",
     "status": "completed"
    },
    "tags": []
   },
   "outputs": [
    {
     "name": "stdout",
     "output_type": "stream",
     "text": [
      "Brightest Dogs\n",
      "Excellent Working Dogs\n",
      "Above Average Working Dogs\n",
      "Average Working/Obedience Intelligence\n",
      "Fair Working/Obedience Intelligence\n",
      "Lowest Degree of Working/Obedience Intelligence \n"
     ]
    }
   ],
   "source": [
    "for i in dog_intel['Classification'].unique():\n",
    "    print(i)"
   ]
  },
  {
   "cell_type": "code",
   "execution_count": null,
   "id": "b15ac595",
   "metadata": {
    "papermill": {
     "duration": 0.009474,
     "end_time": "2023-02-01T20:51:51.552429",
     "exception": false,
     "start_time": "2023-02-01T20:51:51.542955",
     "status": "completed"
    },
    "tags": []
   },
   "outputs": [],
   "source": []
  }
 ],
 "metadata": {
  "kernelspec": {
   "display_name": "Python 3",
   "language": "python",
   "name": "python3"
  },
  "language_info": {
   "codemirror_mode": {
    "name": "ipython",
    "version": 3
   },
   "file_extension": ".py",
   "mimetype": "text/x-python",
   "name": "python",
   "nbconvert_exporter": "python",
   "pygments_lexer": "ipython3",
   "version": "3.7.12"
  },
  "papermill": {
   "default_parameters": {},
   "duration": 11.704437,
   "end_time": "2023-02-01T20:51:52.386215",
   "environment_variables": {},
   "exception": null,
   "input_path": "__notebook__.ipynb",
   "output_path": "__notebook__.ipynb",
   "parameters": {},
   "start_time": "2023-02-01T20:51:40.681778",
   "version": "2.3.4"
  }
 },
 "nbformat": 4,
 "nbformat_minor": 5
}
